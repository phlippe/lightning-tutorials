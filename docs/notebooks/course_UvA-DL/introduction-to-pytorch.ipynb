{
 "cells": [
  {
   "cell_type": "markdown",
   "id": "fdb2a3a7",
   "metadata": {
    "papermill": {
     "duration": 0.044243,
     "end_time": "2021-08-31T14:58:03.665832",
     "exception": false,
     "start_time": "2021-08-31T14:58:03.621589",
     "status": "completed"
    },
    "tags": []
   },
   "source": [
    "\n",
    "# Introduction to PyTorch\n",
    "\n",
    "* **Author:** Phillip Lippe\n",
    "* **License:** CC BY-SA\n",
    "* **Generated:** 2021-08-31T16:57:55.048454\n",
    "\n",
    "This tutorial will give a short introduction to PyTorch basics, and get you setup for writing your own neural networks.\n",
    "This notebook is part of a lecture series on Deep Learning at the University of Amsterdam.\n",
    "The full list of tutorials can be found at https://uvadlc-notebooks.rtfd.io.\n",
    "\n",
    "\n",
    "---\n",
    "Open in [![Open In Colab](data:image/png;base64,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){height=\"20px\" width=\"117px\"}](https://colab.research.google.com/github/PytorchLightning/lightning-tutorials/blob/publication/.notebooks/course_UvA-DL/introduction-to-pytorch.ipynb)\n",
    "\n",
    "Give us a ⭐ [on Github](https://www.github.com/PytorchLightning/pytorch-lightning/)\n",
    "| Check out [the documentation](https://pytorch-lightning.readthedocs.io/en/latest/)\n",
    "| Join us [on Slack](https://join.slack.com/t/pytorch-lightning/shared_invite/zt-pw5v393p-qRaDgEk24~EjiZNBpSQFgQ)"
   ]
  },
  {
   "cell_type": "markdown",
   "id": "b650dbbf",
   "metadata": {
    "papermill": {
     "duration": 0.042915,
     "end_time": "2021-08-31T14:58:03.751568",
     "exception": false,
     "start_time": "2021-08-31T14:58:03.708653",
     "status": "completed"
    },
    "tags": []
   },
   "source": [
    "## Setup\n",
    "This notebook requires some packages besides pytorch-lightning."
   ]
  },
  {
   "cell_type": "code",
   "execution_count": 1,
   "id": "4a50ad87",
   "metadata": {
    "colab": {},
    "colab_type": "code",
    "execution": {
     "iopub.execute_input": "2021-08-31T14:58:03.872846Z",
     "iopub.status.busy": "2021-08-31T14:58:03.872367Z",
     "iopub.status.idle": "2021-08-31T14:58:06.223771Z",
     "shell.execute_reply": "2021-08-31T14:58:06.223248Z"
    },
    "id": "LfrJLKPFyhsK",
    "lines_to_next_cell": 0,
    "papermill": {
     "duration": 2.430073,
     "end_time": "2021-08-31T14:58:06.223899",
     "exception": false,
     "start_time": "2021-08-31T14:58:03.793826",
     "status": "completed"
    },
    "tags": []
   },
   "outputs": [],
   "source": [
    "! pip install --quiet \"pytorch-lightning>=1.3\" \"torch>=1.6, <1.9\" \"torchmetrics>=0.3\" \"matplotlib\""
   ]
  },
  {
   "cell_type": "markdown",
   "id": "3f9bc7c2",
   "metadata": {
    "papermill": {
     "duration": 0.042118,
     "end_time": "2021-08-31T14:58:06.309288",
     "exception": false,
     "start_time": "2021-08-31T14:58:06.267170",
     "status": "completed"
    },
    "tags": []
   },
   "source": [
    "Welcome to our PyTorch tutorial for the Deep Learning course 2020 at the University of Amsterdam!\n",
    "The following notebook is meant to give a short introduction to PyTorch basics, and get you setup for writing your own neural networks.\n",
    "PyTorch is an open source machine learning framework that allows you to write your own neural networks and optimize them efficiently.\n",
    "However, PyTorch is not the only framework of its kind.\n",
    "Alternatives to PyTorch include [TensorFlow](https://www.tensorflow.org/), [JAX](https://github.com/google/jax#quickstart-colab-in-the-cloud) and [Caffe](http://caffe.berkeleyvision.org/).\n",
    "We choose to teach PyTorch at the University of Amsterdam because it is well established, has a huge developer community (originally developed by Facebook), is very flexible and especially used in research.\n",
    "Many current papers publish their code in PyTorch, and thus it is good to be familiar with PyTorch as well.\n",
    "Meanwhile, TensorFlow (developed by Google) is usually known for being a production-grade deep learning library.\n",
    "Still, if you know one machine learning framework in depth, it is very easy to learn another one because many of them use the same concepts and ideas.\n",
    "For instance, TensorFlow's version 2 was heavily inspired by the most popular features of PyTorch, making the frameworks even more similar.\n",
    "If you are already familiar with PyTorch and have created your own neural network projects, feel free to just skim this notebook.\n",
    "\n",
    "We are of course not the first ones to create a PyTorch tutorial.\n",
    "There are many great tutorials online, including the [\"60-min blitz\"](https://pytorch.org/tutorials/beginner/deep_learning_60min_blitz.html) on the official [PyTorch website](https://pytorch.org/tutorials/).\n",
    "Yet, we choose to create our own tutorial which is designed to give you the basics particularly necessary for the practicals, but still understand how PyTorch works under the hood.\n",
    "Over the next few weeks, we will also keep exploring new PyTorch features in the series of Jupyter notebook tutorials about deep learning.\n",
    "\n",
    "We will use a set of standard libraries that are often used in machine learning projects.\n",
    "If you are running this notebook on Google Colab, all libraries should be pre-installed.\n",
    "If you are running this notebook locally, make sure you have installed our `dl2020` environment ([link](https://github.com/uvadlc/uvadlc_practicals_2020/blob/master/environment.yml)) and have activated it."
   ]
  },
  {
   "cell_type": "code",
   "execution_count": 2,
   "id": "821f8b90",
   "metadata": {
    "execution": {
     "iopub.execute_input": "2021-08-31T14:58:06.400577Z",
     "iopub.status.busy": "2021-08-31T14:58:06.400087Z",
     "iopub.status.idle": "2021-08-31T14:58:07.180732Z",
     "shell.execute_reply": "2021-08-31T14:58:07.181149Z"
    },
    "papermill": {
     "duration": 0.829378,
     "end_time": "2021-08-31T14:58:07.181293",
     "exception": false,
     "start_time": "2021-08-31T14:58:06.351915",
     "status": "completed"
    },
    "tags": []
   },
   "outputs": [
    {
     "name": "stderr",
     "output_type": "stream",
     "text": [
      "/tmp/ipykernel_452/4100430984.py:14: DeprecationWarning: `set_matplotlib_formats` is deprecated since IPython 7.23, directly use `matplotlib_inline.backend_inline.set_matplotlib_formats()`\n",
      "  set_matplotlib_formats(\"svg\", \"pdf\")\n"
     ]
    }
   ],
   "source": [
    "import time\n",
    "\n",
    "import matplotlib.pyplot as plt\n",
    "import numpy as np\n",
    "import torch\n",
    "import torch.nn as nn\n",
    "import torch.utils.data as data\n",
    "\n",
    "%matplotlib inline\n",
    "from IPython.display import set_matplotlib_formats\n",
    "from matplotlib.colors import to_rgba\n",
    "from tqdm.notebook import tqdm  # Progress bar\n",
    "\n",
    "set_matplotlib_formats(\"svg\", \"pdf\")"
   ]
  },
  {
   "cell_type": "markdown",
   "id": "aea8a082",
   "metadata": {
    "papermill": {
     "duration": 0.043346,
     "end_time": "2021-08-31T14:58:07.268667",
     "exception": false,
     "start_time": "2021-08-31T14:58:07.225321",
     "status": "completed"
    },
    "tags": []
   },
   "source": [
    "## The Basics of PyTorch\n",
    "\n",
    "We will start with reviewing the very basic concepts of PyTorch.\n",
    "As a prerequisite, we recommend to be familiar with the `numpy` package as most machine learning frameworks are based on very similar concepts.\n",
    "If you are not familiar with numpy yet, don't worry: here is a [tutorial](https://numpy.org/devdocs/user/quickstart.html) to go through.\n",
    "\n",
    "So, let's start with importing PyTorch.\n",
    "The package is called `torch`, based on its original framework [Torch](http://torch.ch/).\n",
    "As a first step, we can check its version:"
   ]
  },
  {
   "cell_type": "code",
   "execution_count": 3,
   "id": "cae6966d",
   "metadata": {
    "execution": {
     "iopub.execute_input": "2021-08-31T14:58:07.360146Z",
     "iopub.status.busy": "2021-08-31T14:58:07.359668Z",
     "iopub.status.idle": "2021-08-31T14:58:07.362255Z",
     "shell.execute_reply": "2021-08-31T14:58:07.361778Z"
    },
    "papermill": {
     "duration": 0.050188,
     "end_time": "2021-08-31T14:58:07.362361",
     "exception": false,
     "start_time": "2021-08-31T14:58:07.312173",
     "status": "completed"
    },
    "tags": []
   },
   "outputs": [
    {
     "name": "stdout",
     "output_type": "stream",
     "text": [
      "Using torch 1.8.1+cu102\n"
     ]
    }
   ],
   "source": [
    "print(\"Using torch\", torch.__version__)"
   ]
  },
  {
   "cell_type": "markdown",
   "id": "44abf027",
   "metadata": {
    "papermill": {
     "duration": 0.043703,
     "end_time": "2021-08-31T14:58:07.449965",
     "exception": false,
     "start_time": "2021-08-31T14:58:07.406262",
     "status": "completed"
    },
    "tags": []
   },
   "source": [
    "At the time of writing this tutorial (mid of August 2021), the current stable version is 1.9.\n",
    "You should therefore see the output `Using torch 1.9.0`, eventually with some extension for the CUDA version on Colab.\n",
    "In case you use the `dl2020` environment, you should see `Using torch 1.6.0` since the environment was provided in October 2020.\n",
    "It is recommended to update the PyTorch version to the newest one.\n",
    "If you see a lower version number than 1.6, make sure you have installed the correct the environment, or ask one of your TAs.\n",
    "In case PyTorch 1.10 or newer will be published during the time of the course, don't worry.\n",
    "The interface between PyTorch versions doesn't change too much, and hence all code should also be runnable with newer versions.\n",
    "\n",
    "As in every machine learning framework, PyTorch provides functions that are stochastic like generating random numbers.\n",
    "However, a very good practice is to setup your code to be reproducible with the exact same random numbers.\n",
    "This is why we set a seed below."
   ]
  },
  {
   "cell_type": "code",
   "execution_count": 4,
   "id": "f6f002ea",
   "metadata": {
    "execution": {
     "iopub.execute_input": "2021-08-31T14:58:07.541768Z",
     "iopub.status.busy": "2021-08-31T14:58:07.541280Z",
     "iopub.status.idle": "2021-08-31T14:58:07.546536Z",
     "shell.execute_reply": "2021-08-31T14:58:07.546067Z"
    },
    "papermill": {
     "duration": 0.053292,
     "end_time": "2021-08-31T14:58:07.546647",
     "exception": false,
     "start_time": "2021-08-31T14:58:07.493355",
     "status": "completed"
    },
    "tags": []
   },
   "outputs": [
    {
     "data": {
      "text/plain": [
       "<torch._C.Generator at 0x7f62a62993d0>"
      ]
     },
     "execution_count": 4,
     "metadata": {},
     "output_type": "execute_result"
    }
   ],
   "source": [
    "torch.manual_seed(42)  # Setting the seed"
   ]
  },
  {
   "cell_type": "markdown",
   "id": "a31f77c3",
   "metadata": {
    "papermill": {
     "duration": 0.043426,
     "end_time": "2021-08-31T14:58:07.633584",
     "exception": false,
     "start_time": "2021-08-31T14:58:07.590158",
     "status": "completed"
    },
    "tags": []
   },
   "source": [
    "### Tensors\n",
    "\n",
    "Tensors are the PyTorch equivalent to Numpy arrays, with the addition to also have support for GPU acceleration (more on that later).\n",
    "The name \"tensor\" is a generalization of concepts you already know.\n",
    "For instance, a vector is a 1-D tensor, and a matrix a 2-D tensor.\n",
    "When working with neural networks, we will use tensors of various shapes and number of dimensions.\n",
    "\n",
    "Most common functions you know from numpy can be used on tensors as well.\n",
    "Actually, since numpy arrays are so similar to tensors, we can convert most tensors to numpy arrays (and back) but we don't need it too often.\n",
    "\n",
    "#### Initialization\n",
    "\n",
    "Let's first start by looking at different ways of creating a tensor.\n",
    "There are many possible options, the most simple one is to call\n",
    "`torch.Tensor` passing the desired shape as input argument:"
   ]
  },
  {
   "cell_type": "code",
   "execution_count": 5,
   "id": "5fe915f4",
   "metadata": {
    "execution": {
     "iopub.execute_input": "2021-08-31T14:58:07.724437Z",
     "iopub.status.busy": "2021-08-31T14:58:07.723964Z",
     "iopub.status.idle": "2021-08-31T14:58:07.727356Z",
     "shell.execute_reply": "2021-08-31T14:58:07.727739Z"
    },
    "papermill": {
     "duration": 0.050658,
     "end_time": "2021-08-31T14:58:07.727862",
     "exception": false,
     "start_time": "2021-08-31T14:58:07.677204",
     "status": "completed"
    },
    "tags": []
   },
   "outputs": [
    {
     "name": "stdout",
     "output_type": "stream",
     "text": [
      "tensor([[[ 8.2492e+19,  1.5113e-14, -7.6981e+16,  4.5696e-41],\n",
      "         [-3.4843e+14,  4.5696e-41,  7.3241e+08,  5.8092e+34],\n",
      "         [-7.8935e+16,  4.5696e-41, -3.5509e+14,  4.5696e-41]],\n",
      "\n",
      "        [[-3.6622e-36,  3.6169e+21, -7.8731e+16,  4.5696e-41],\n",
      "         [-3.5491e+14,  4.5696e-41, -1.6437e+08, -6.7645e+07],\n",
      "         [-7.8853e+16,  4.5696e-41, -3.5491e+14,  4.5696e-41]]])\n"
     ]
    }
   ],
   "source": [
    "x = torch.Tensor(2, 3, 4)\n",
    "print(x)"
   ]
  },
  {
   "cell_type": "markdown",
   "id": "e2ae4859",
   "metadata": {
    "papermill": {
     "duration": 0.04365,
     "end_time": "2021-08-31T14:58:07.816809",
     "exception": false,
     "start_time": "2021-08-31T14:58:07.773159",
     "status": "completed"
    },
    "tags": []
   },
   "source": [
    "The function `torch.Tensor` allocates memory for the desired tensor, but reuses any values that have already been in the memory.\n",
    "To directly assign values to the tensor during initialization, there are many alternatives including:\n",
    "\n",
    "* `torch.zeros`: Creates a tensor filled with zeros\n",
    "* `torch.ones`: Creates a tensor filled with ones\n",
    "* `torch.rand`: Creates a tensor with random values uniformly sampled between 0 and 1\n",
    "* `torch.randn`: Creates a tensor with random values sampled from a normal distribution with mean 0 and variance 1\n",
    "* `torch.arange`: Creates a tensor containing the values $N,N+1,N+2,...,M$\n",
    "* `torch.Tensor` (input list): Creates a tensor from the list elements you provide"
   ]
  },
  {
   "cell_type": "code",
   "execution_count": 6,
   "id": "dd0928ac",
   "metadata": {
    "execution": {
     "iopub.execute_input": "2021-08-31T14:58:07.908541Z",
     "iopub.status.busy": "2021-08-31T14:58:07.908049Z",
     "iopub.status.idle": "2021-08-31T14:58:07.910667Z",
     "shell.execute_reply": "2021-08-31T14:58:07.911063Z"
    },
    "papermill": {
     "duration": 0.050451,
     "end_time": "2021-08-31T14:58:07.911190",
     "exception": false,
     "start_time": "2021-08-31T14:58:07.860739",
     "status": "completed"
    },
    "tags": []
   },
   "outputs": [
    {
     "name": "stdout",
     "output_type": "stream",
     "text": [
      "tensor([[1., 2.],\n",
      "        [3., 4.]])\n"
     ]
    }
   ],
   "source": [
    "# Create a tensor from a (nested) list\n",
    "x = torch.Tensor([[1, 2], [3, 4]])\n",
    "print(x)"
   ]
  },
  {
   "cell_type": "code",
   "execution_count": 7,
   "id": "f3c14742",
   "metadata": {
    "execution": {
     "iopub.execute_input": "2021-08-31T14:58:08.003804Z",
     "iopub.status.busy": "2021-08-31T14:58:08.003326Z",
     "iopub.status.idle": "2021-08-31T14:58:08.006589Z",
     "shell.execute_reply": "2021-08-31T14:58:08.006117Z"
    },
    "papermill": {
     "duration": 0.051286,
     "end_time": "2021-08-31T14:58:08.006692",
     "exception": false,
     "start_time": "2021-08-31T14:58:07.955406",
     "status": "completed"
    },
    "tags": []
   },
   "outputs": [
    {
     "name": "stdout",
     "output_type": "stream",
     "text": [
      "tensor([[[0.8823, 0.9150, 0.3829, 0.9593],\n",
      "         [0.3904, 0.6009, 0.2566, 0.7936],\n",
      "         [0.9408, 0.1332, 0.9346, 0.5936]],\n",
      "\n",
      "        [[0.8694, 0.5677, 0.7411, 0.4294],\n",
      "         [0.8854, 0.5739, 0.2666, 0.6274],\n",
      "         [0.2696, 0.4414, 0.2969, 0.8317]]])\n"
     ]
    }
   ],
   "source": [
    "# Create a tensor with random values between 0 and 1 with the shape [2, 3, 4]\n",
    "x = torch.rand(2, 3, 4)\n",
    "print(x)"
   ]
  },
  {
   "cell_type": "markdown",
   "id": "7f1d0be1",
   "metadata": {
    "papermill": {
     "duration": 0.044545,
     "end_time": "2021-08-31T14:58:08.095818",
     "exception": false,
     "start_time": "2021-08-31T14:58:08.051273",
     "status": "completed"
    },
    "tags": []
   },
   "source": [
    "You can obtain the shape of a tensor in the same way as in numpy (`x.shape`), or using the `.size` method:"
   ]
  },
  {
   "cell_type": "code",
   "execution_count": 8,
   "id": "c5d1178e",
   "metadata": {
    "execution": {
     "iopub.execute_input": "2021-08-31T14:58:08.190445Z",
     "iopub.status.busy": "2021-08-31T14:58:08.189906Z",
     "iopub.status.idle": "2021-08-31T14:58:08.192627Z",
     "shell.execute_reply": "2021-08-31T14:58:08.193009Z"
    },
    "papermill": {
     "duration": 0.051913,
     "end_time": "2021-08-31T14:58:08.193132",
     "exception": false,
     "start_time": "2021-08-31T14:58:08.141219",
     "status": "completed"
    },
    "tags": []
   },
   "outputs": [
    {
     "name": "stdout",
     "output_type": "stream",
     "text": [
      "Shape: torch.Size([2, 3, 4])\n",
      "Size: torch.Size([2, 3, 4])\n",
      "Size: 2 3 4\n"
     ]
    }
   ],
   "source": [
    "shape = x.shape\n",
    "print(\"Shape:\", x.shape)\n",
    "\n",
    "size = x.size()\n",
    "print(\"Size:\", size)\n",
    "\n",
    "dim1, dim2, dim3 = x.size()\n",
    "print(\"Size:\", dim1, dim2, dim3)"
   ]
  },
  {
   "cell_type": "markdown",
   "id": "aa5cfa4e",
   "metadata": {
    "papermill": {
     "duration": 0.046125,
     "end_time": "2021-08-31T14:58:08.284136",
     "exception": false,
     "start_time": "2021-08-31T14:58:08.238011",
     "status": "completed"
    },
    "tags": []
   },
   "source": [
    "#### Tensor to Numpy, and Numpy to Tensor\n",
    "\n",
    "Tensors can be converted to numpy arrays, and numpy arrays back to tensors.\n",
    "To transform a numpy array into a tensor, we can use the function `torch.from_numpy`:"
   ]
  },
  {
   "cell_type": "code",
   "execution_count": 9,
   "id": "c2b69900",
   "metadata": {
    "execution": {
     "iopub.execute_input": "2021-08-31T14:58:09.015634Z",
     "iopub.status.busy": "2021-08-31T14:58:09.015150Z",
     "iopub.status.idle": "2021-08-31T14:58:09.018115Z",
     "shell.execute_reply": "2021-08-31T14:58:09.017707Z"
    },
    "papermill": {
     "duration": 0.053708,
     "end_time": "2021-08-31T14:58:09.018221",
     "exception": false,
     "start_time": "2021-08-31T14:58:08.964513",
     "status": "completed"
    },
    "tags": []
   },
   "outputs": [
    {
     "name": "stdout",
     "output_type": "stream",
     "text": [
      "Numpy array: [[1 2]\n",
      " [3 4]]\n",
      "PyTorch tensor: tensor([[1, 2],\n",
      "        [3, 4]])\n"
     ]
    }
   ],
   "source": [
    "np_arr = np.array([[1, 2], [3, 4]])\n",
    "tensor = torch.from_numpy(np_arr)\n",
    "\n",
    "print(\"Numpy array:\", np_arr)\n",
    "print(\"PyTorch tensor:\", tensor)"
   ]
  },
  {
   "cell_type": "markdown",
   "id": "a5ebe236",
   "metadata": {
    "papermill": {
     "duration": 0.04515,
     "end_time": "2021-08-31T14:58:09.108129",
     "exception": false,
     "start_time": "2021-08-31T14:58:09.062979",
     "status": "completed"
    },
    "tags": []
   },
   "source": [
    "To transform a PyTorch tensor back to a numpy array, we can use the function `.numpy()` on tensors:"
   ]
  },
  {
   "cell_type": "code",
   "execution_count": 10,
   "id": "27678c12",
   "metadata": {
    "execution": {
     "iopub.execute_input": "2021-08-31T14:58:09.202705Z",
     "iopub.status.busy": "2021-08-31T14:58:09.202210Z",
     "iopub.status.idle": "2021-08-31T14:58:09.205100Z",
     "shell.execute_reply": "2021-08-31T14:58:09.204686Z"
    },
    "papermill": {
     "duration": 0.051703,
     "end_time": "2021-08-31T14:58:09.205202",
     "exception": false,
     "start_time": "2021-08-31T14:58:09.153499",
     "status": "completed"
    },
    "tags": []
   },
   "outputs": [
    {
     "name": "stdout",
     "output_type": "stream",
     "text": [
      "PyTorch tensor: tensor([0, 1, 2, 3])\n",
      "Numpy array: [0 1 2 3]\n"
     ]
    }
   ],
   "source": [
    "tensor = torch.arange(4)\n",
    "np_arr = tensor.numpy()\n",
    "\n",
    "print(\"PyTorch tensor:\", tensor)\n",
    "print(\"Numpy array:\", np_arr)"
   ]
  },
  {
   "cell_type": "markdown",
   "id": "b4ddfba1",
   "metadata": {
    "papermill": {
     "duration": 0.045622,
     "end_time": "2021-08-31T14:58:09.296702",
     "exception": false,
     "start_time": "2021-08-31T14:58:09.251080",
     "status": "completed"
    },
    "tags": []
   },
   "source": [
    "The conversion of tensors to numpy require the tensor to be on the CPU, and not the GPU (more on GPU support in a later section).\n",
    "In case you have a tensor on GPU, you need to call `.cpu()` on the tensor beforehand.\n",
    "Hence, you get a line like `np_arr = tensor.cpu().numpy()`."
   ]
  },
  {
   "cell_type": "markdown",
   "id": "1c1aa53c",
   "metadata": {
    "papermill": {
     "duration": 0.04562,
     "end_time": "2021-08-31T14:58:09.387785",
     "exception": false,
     "start_time": "2021-08-31T14:58:09.342165",
     "status": "completed"
    },
    "tags": []
   },
   "source": [
    "#### Operations\n",
    "\n",
    "Most operations that exist in numpy, also exist in PyTorch.\n",
    "A full list of operations can be found in the [PyTorch documentation](https://pytorch.org/docs/stable/tensors.html#), but we will review the most important ones here.\n",
    "\n",
    "The simplest operation is to add two tensors:"
   ]
  },
  {
   "cell_type": "code",
   "execution_count": 11,
   "id": "93f7642e",
   "metadata": {
    "execution": {
     "iopub.execute_input": "2021-08-31T14:58:09.482855Z",
     "iopub.status.busy": "2021-08-31T14:58:09.482376Z",
     "iopub.status.idle": "2021-08-31T14:58:09.487107Z",
     "shell.execute_reply": "2021-08-31T14:58:09.486610Z"
    },
    "papermill": {
     "duration": 0.05412,
     "end_time": "2021-08-31T14:58:09.487212",
     "exception": false,
     "start_time": "2021-08-31T14:58:09.433092",
     "status": "completed"
    },
    "tags": []
   },
   "outputs": [
    {
     "name": "stdout",
     "output_type": "stream",
     "text": [
      "X1 tensor([[0.1053, 0.2695, 0.3588],\n",
      "        [0.1994, 0.5472, 0.0062]])\n",
      "X2 tensor([[0.9516, 0.0753, 0.8860],\n",
      "        [0.5832, 0.3376, 0.8090]])\n",
      "Y tensor([[1.0569, 0.3448, 1.2448],\n",
      "        [0.7826, 0.8848, 0.8151]])\n"
     ]
    }
   ],
   "source": [
    "x1 = torch.rand(2, 3)\n",
    "x2 = torch.rand(2, 3)\n",
    "y = x1 + x2\n",
    "\n",
    "print(\"X1\", x1)\n",
    "print(\"X2\", x2)\n",
    "print(\"Y\", y)"
   ]
  },
  {
   "cell_type": "markdown",
   "id": "21e252cb",
   "metadata": {
    "papermill": {
     "duration": 0.046336,
     "end_time": "2021-08-31T14:58:09.580410",
     "exception": false,
     "start_time": "2021-08-31T14:58:09.534074",
     "status": "completed"
    },
    "tags": []
   },
   "source": [
    "Calling `x1 + x2` creates a new tensor containing the sum of the two inputs.\n",
    "However, we can also use in-place operations that are applied directly on the memory of a tensor.\n",
    "We therefore change the values of `x2` without the chance to re-accessing the values of `x2` before the operation.\n",
    "An example is shown below:"
   ]
  },
  {
   "cell_type": "code",
   "execution_count": 12,
   "id": "beaa0711",
   "metadata": {
    "execution": {
     "iopub.execute_input": "2021-08-31T14:58:09.677698Z",
     "iopub.status.busy": "2021-08-31T14:58:09.677218Z",
     "iopub.status.idle": "2021-08-31T14:58:09.682287Z",
     "shell.execute_reply": "2021-08-31T14:58:09.681860Z"
    },
    "papermill": {
     "duration": 0.05568,
     "end_time": "2021-08-31T14:58:09.682392",
     "exception": false,
     "start_time": "2021-08-31T14:58:09.626712",
     "status": "completed"
    },
    "tags": []
   },
   "outputs": [
    {
     "name": "stdout",
     "output_type": "stream",
     "text": [
      "X1 (before) tensor([[0.5779, 0.9040, 0.5547],\n",
      "        [0.3423, 0.6343, 0.3644]])\n",
      "X2 (before) tensor([[0.7104, 0.9464, 0.7890],\n",
      "        [0.2814, 0.7886, 0.5895]])\n",
      "X1 (after) tensor([[0.5779, 0.9040, 0.5547],\n",
      "        [0.3423, 0.6343, 0.3644]])\n",
      "X2 (after) tensor([[1.2884, 1.8504, 1.3437],\n",
      "        [0.6237, 1.4230, 0.9539]])\n"
     ]
    }
   ],
   "source": [
    "x1 = torch.rand(2, 3)\n",
    "x2 = torch.rand(2, 3)\n",
    "print(\"X1 (before)\", x1)\n",
    "print(\"X2 (before)\", x2)\n",
    "\n",
    "x2.add_(x1)\n",
    "print(\"X1 (after)\", x1)\n",
    "print(\"X2 (after)\", x2)"
   ]
  },
  {
   "cell_type": "markdown",
   "id": "03390361",
   "metadata": {
    "papermill": {
     "duration": 0.046283,
     "end_time": "2021-08-31T14:58:09.776551",
     "exception": false,
     "start_time": "2021-08-31T14:58:09.730268",
     "status": "completed"
    },
    "tags": []
   },
   "source": [
    "In-place operations are usually marked with a underscore postfix (e.g. \"add_\" instead of \"add\").\n",
    "\n",
    "Another common operation aims at changing the shape of a tensor.\n",
    "A tensor of size (2,3) can be re-organized to any other shape with the same number of elements (e.g. a tensor of size (6), or (3,2), ...).\n",
    "In PyTorch, this operation is called `view`:"
   ]
  },
  {
   "cell_type": "code",
   "execution_count": 13,
   "id": "cd2a7736",
   "metadata": {
    "execution": {
     "iopub.execute_input": "2021-08-31T14:58:09.911047Z",
     "iopub.status.busy": "2021-08-31T14:58:09.910559Z",
     "iopub.status.idle": "2021-08-31T14:58:09.913366Z",
     "shell.execute_reply": "2021-08-31T14:58:09.912871Z"
    },
    "papermill": {
     "duration": 0.091326,
     "end_time": "2021-08-31T14:58:09.913469",
     "exception": false,
     "start_time": "2021-08-31T14:58:09.822143",
     "status": "completed"
    },
    "tags": []
   },
   "outputs": [
    {
     "name": "stdout",
     "output_type": "stream",
     "text": [
      "X tensor([0, 1, 2, 3, 4, 5])\n"
     ]
    }
   ],
   "source": [
    "x = torch.arange(6)\n",
    "print(\"X\", x)"
   ]
  },
  {
   "cell_type": "code",
   "execution_count": 14,
   "id": "c30544f1",
   "metadata": {
    "execution": {
     "iopub.execute_input": "2021-08-31T14:58:10.111852Z",
     "iopub.status.busy": "2021-08-31T14:58:10.111377Z",
     "iopub.status.idle": "2021-08-31T14:58:10.114189Z",
     "shell.execute_reply": "2021-08-31T14:58:10.113781Z"
    },
    "papermill": {
     "duration": 0.15418,
     "end_time": "2021-08-31T14:58:10.114292",
     "exception": false,
     "start_time": "2021-08-31T14:58:09.960112",
     "status": "completed"
    },
    "tags": []
   },
   "outputs": [
    {
     "name": "stdout",
     "output_type": "stream",
     "text": [
      "X tensor([[0, 1, 2],\n",
      "        [3, 4, 5]])\n"
     ]
    }
   ],
   "source": [
    "x = x.view(2, 3)\n",
    "print(\"X\", x)"
   ]
  },
  {
   "cell_type": "code",
   "execution_count": 15,
   "id": "10c6bab2",
   "metadata": {
    "execution": {
     "iopub.execute_input": "2021-08-31T14:58:10.211166Z",
     "iopub.status.busy": "2021-08-31T14:58:10.210668Z",
     "iopub.status.idle": "2021-08-31T14:58:10.213747Z",
     "shell.execute_reply": "2021-08-31T14:58:10.213339Z"
    },
    "papermill": {
     "duration": 0.052418,
     "end_time": "2021-08-31T14:58:10.213847",
     "exception": false,
     "start_time": "2021-08-31T14:58:10.161429",
     "status": "completed"
    },
    "tags": []
   },
   "outputs": [
    {
     "name": "stdout",
     "output_type": "stream",
     "text": [
      "X tensor([[0, 3],\n",
      "        [1, 4],\n",
      "        [2, 5]])\n"
     ]
    }
   ],
   "source": [
    "x = x.permute(1, 0)  # Swapping dimension 0 and 1\n",
    "print(\"X\", x)"
   ]
  },
  {
   "cell_type": "markdown",
   "id": "5d2790ac",
   "metadata": {
    "papermill": {
     "duration": 0.047088,
     "end_time": "2021-08-31T14:58:10.355384",
     "exception": false,
     "start_time": "2021-08-31T14:58:10.308296",
     "status": "completed"
    },
    "tags": []
   },
   "source": [
    "Other commonly used operations include matrix multiplications, which are essential for neural networks.\n",
    "Quite often, we have an input vector $\\mathbf{x}$, which is transformed using a learned weight matrix $\\mathbf{W}$.\n",
    "There are multiple ways and functions to perform matrix multiplication, some of which we list below:\n",
    "\n",
    "* `torch.matmul`: Performs the matrix product over two tensors, where the specific behavior depends on the dimensions.\n",
    "If both inputs are matrices (2-dimensional tensors), it performs the standard matrix product.\n",
    "For higher dimensional inputs, the function supports broadcasting (for details see the [documentation](https://pytorch.org/docs/stable/generated/torch.matmul.html?highlight=matmul#torch.matmul)).\n",
    "Can also be written as `a @ b`, similar to numpy.\n",
    "* `torch.mm`: Performs the matrix product over two matrices, but doesn't support broadcasting (see [documentation](https://pytorch.org/docs/stable/generated/torch.mm.html?highlight=torch%20mm#torch.mm))\n",
    "* `torch.bmm`: Performs the matrix product with a support batch dimension.\n",
    "If the first tensor $T$ is of shape ($b\\times n\\times m$), and the second tensor $R$ ($b\\times m\\times p$), the output $O$ is of shape ($b\\times n\\times p$), and has been calculated by performing $b$ matrix multiplications of the submatrices of $T$ and $R$: $O_i = T_i @ R_i$\n",
    "* `torch.einsum`: Performs matrix multiplications and more (i.e. sums of products) using the Einstein summation convention.\n",
    "Explanation of the Einstein sum can be found in assignment 1.\n",
    "\n",
    "Usually, we use `torch.matmul` or `torch.bmm`. We can try a matrix multiplication with `torch.matmul` below."
   ]
  },
  {
   "cell_type": "code",
   "execution_count": 16,
   "id": "c8f9d525",
   "metadata": {
    "execution": {
     "iopub.execute_input": "2021-08-31T14:58:10.453292Z",
     "iopub.status.busy": "2021-08-31T14:58:10.452823Z",
     "iopub.status.idle": "2021-08-31T14:58:10.455669Z",
     "shell.execute_reply": "2021-08-31T14:58:10.455196Z"
    },
    "papermill": {
     "duration": 0.053453,
     "end_time": "2021-08-31T14:58:10.455771",
     "exception": false,
     "start_time": "2021-08-31T14:58:10.402318",
     "status": "completed"
    },
    "tags": []
   },
   "outputs": [
    {
     "name": "stdout",
     "output_type": "stream",
     "text": [
      "X tensor([[0, 1, 2],\n",
      "        [3, 4, 5]])\n"
     ]
    }
   ],
   "source": [
    "x = torch.arange(6)\n",
    "x = x.view(2, 3)\n",
    "print(\"X\", x)"
   ]
  },
  {
   "cell_type": "code",
   "execution_count": 17,
   "id": "c1a9964d",
   "metadata": {
    "execution": {
     "iopub.execute_input": "2021-08-31T14:58:10.553537Z",
     "iopub.status.busy": "2021-08-31T14:58:10.553046Z",
     "iopub.status.idle": "2021-08-31T14:58:10.556146Z",
     "shell.execute_reply": "2021-08-31T14:58:10.555743Z"
    },
    "papermill": {
     "duration": 0.05343,
     "end_time": "2021-08-31T14:58:10.556246",
     "exception": false,
     "start_time": "2021-08-31T14:58:10.502816",
     "status": "completed"
    },
    "tags": []
   },
   "outputs": [
    {
     "name": "stdout",
     "output_type": "stream",
     "text": [
      "W tensor([[0, 1, 2],\n",
      "        [3, 4, 5],\n",
      "        [6, 7, 8]])\n"
     ]
    }
   ],
   "source": [
    "W = torch.arange(9).view(3, 3)  # We can also stack multiple operations in a single line\n",
    "print(\"W\", W)"
   ]
  },
  {
   "cell_type": "code",
   "execution_count": 18,
   "id": "30f00820",
   "metadata": {
    "execution": {
     "iopub.execute_input": "2021-08-31T14:58:10.656166Z",
     "iopub.status.busy": "2021-08-31T14:58:10.655694Z",
     "iopub.status.idle": "2021-08-31T14:58:10.658934Z",
     "shell.execute_reply": "2021-08-31T14:58:10.658551Z"
    },
    "papermill": {
     "duration": 0.054206,
     "end_time": "2021-08-31T14:58:10.659054",
     "exception": false,
     "start_time": "2021-08-31T14:58:10.604848",
     "status": "completed"
    },
    "tags": []
   },
   "outputs": [
    {
     "name": "stdout",
     "output_type": "stream",
     "text": [
      "h tensor([[15, 18, 21],\n",
      "        [42, 54, 66]])\n"
     ]
    }
   ],
   "source": [
    "h = torch.matmul(x, W)  # Verify the result by calculating it by hand too!\n",
    "print(\"h\", h)"
   ]
  },
  {
   "cell_type": "markdown",
   "id": "5f1406c0",
   "metadata": {
    "papermill": {
     "duration": 0.04739,
     "end_time": "2021-08-31T14:58:10.753981",
     "exception": false,
     "start_time": "2021-08-31T14:58:10.706591",
     "status": "completed"
    },
    "tags": []
   },
   "source": [
    "#### Indexing\n",
    "\n",
    "We often have the situation where we need to select a part of a tensor.\n",
    "Indexing works just like in numpy, so let's try it:"
   ]
  },
  {
   "cell_type": "code",
   "execution_count": 19,
   "id": "05004345",
   "metadata": {
    "execution": {
     "iopub.execute_input": "2021-08-31T14:58:10.902345Z",
     "iopub.status.busy": "2021-08-31T14:58:10.901850Z",
     "iopub.status.idle": "2021-08-31T14:58:10.905263Z",
     "shell.execute_reply": "2021-08-31T14:58:10.904855Z"
    },
    "papermill": {
     "duration": 0.054899,
     "end_time": "2021-08-31T14:58:10.905368",
     "exception": false,
     "start_time": "2021-08-31T14:58:10.850469",
     "status": "completed"
    },
    "tags": []
   },
   "outputs": [
    {
     "name": "stdout",
     "output_type": "stream",
     "text": [
      "X tensor([[ 0,  1,  2,  3],\n",
      "        [ 4,  5,  6,  7],\n",
      "        [ 8,  9, 10, 11]])\n"
     ]
    }
   ],
   "source": [
    "x = torch.arange(12).view(3, 4)\n",
    "print(\"X\", x)"
   ]
  },
  {
   "cell_type": "code",
   "execution_count": 20,
   "id": "48b4fa17",
   "metadata": {
    "execution": {
     "iopub.execute_input": "2021-08-31T14:58:11.014778Z",
     "iopub.status.busy": "2021-08-31T14:58:11.014285Z",
     "iopub.status.idle": "2021-08-31T14:58:11.016648Z",
     "shell.execute_reply": "2021-08-31T14:58:11.017052Z"
    },
    "papermill": {
     "duration": 0.06372,
     "end_time": "2021-08-31T14:58:11.017176",
     "exception": false,
     "start_time": "2021-08-31T14:58:10.953456",
     "status": "completed"
    },
    "tags": []
   },
   "outputs": [
    {
     "name": "stdout",
     "output_type": "stream",
     "text": [
      "tensor([1, 5, 9])\n"
     ]
    }
   ],
   "source": [
    "print(x[:, 1])  # Second column"
   ]
  },
  {
   "cell_type": "code",
   "execution_count": 21,
   "id": "c6266102",
   "metadata": {
    "execution": {
     "iopub.execute_input": "2021-08-31T14:58:11.117442Z",
     "iopub.status.busy": "2021-08-31T14:58:11.116972Z",
     "iopub.status.idle": "2021-08-31T14:58:11.119831Z",
     "shell.execute_reply": "2021-08-31T14:58:11.119363Z"
    },
    "papermill": {
     "duration": 0.054497,
     "end_time": "2021-08-31T14:58:11.119932",
     "exception": false,
     "start_time": "2021-08-31T14:58:11.065435",
     "status": "completed"
    },
    "tags": []
   },
   "outputs": [
    {
     "name": "stdout",
     "output_type": "stream",
     "text": [
      "tensor([0, 1, 2, 3])\n"
     ]
    }
   ],
   "source": [
    "print(x[0])  # First row"
   ]
  },
  {
   "cell_type": "code",
   "execution_count": 22,
   "id": "8de19725",
   "metadata": {
    "execution": {
     "iopub.execute_input": "2021-08-31T14:58:11.220200Z",
     "iopub.status.busy": "2021-08-31T14:58:11.219732Z",
     "iopub.status.idle": "2021-08-31T14:58:11.222726Z",
     "shell.execute_reply": "2021-08-31T14:58:11.222325Z"
    },
    "papermill": {
     "duration": 0.054106,
     "end_time": "2021-08-31T14:58:11.222826",
     "exception": false,
     "start_time": "2021-08-31T14:58:11.168720",
     "status": "completed"
    },
    "tags": []
   },
   "outputs": [
    {
     "name": "stdout",
     "output_type": "stream",
     "text": [
      "tensor([3, 7])\n"
     ]
    }
   ],
   "source": [
    "print(x[:2, -1])  # First two rows, last column"
   ]
  },
  {
   "cell_type": "code",
   "execution_count": 23,
   "id": "5960390a",
   "metadata": {
    "execution": {
     "iopub.execute_input": "2021-08-31T14:58:11.371118Z",
     "iopub.status.busy": "2021-08-31T14:58:11.370601Z",
     "iopub.status.idle": "2021-08-31T14:58:11.373207Z",
     "shell.execute_reply": "2021-08-31T14:58:11.373586Z"
    },
    "papermill": {
     "duration": 0.10232,
     "end_time": "2021-08-31T14:58:11.373709",
     "exception": false,
     "start_time": "2021-08-31T14:58:11.271389",
     "status": "completed"
    },
    "tags": []
   },
   "outputs": [
    {
     "name": "stdout",
     "output_type": "stream",
     "text": [
      "tensor([[ 4,  5,  6,  7],\n",
      "        [ 8,  9, 10, 11]])\n"
     ]
    }
   ],
   "source": [
    "print(x[1:3, :])  # Middle two rows"
   ]
  },
  {
   "cell_type": "markdown",
   "id": "f030542d",
   "metadata": {
    "papermill": {
     "duration": 0.060282,
     "end_time": "2021-08-31T14:58:11.512862",
     "exception": false,
     "start_time": "2021-08-31T14:58:11.452580",
     "status": "completed"
    },
    "tags": []
   },
   "source": [
    "### Dynamic Computation Graph and Backpropagation\n",
    "\n",
    "One of the main reasons for using PyTorch in Deep Learning projects is that we can automatically get **gradients/derivatives** of functions that we define.\n",
    "We will mainly use PyTorch for implementing neural networks, and they are just fancy functions.\n",
    "If we use weight matrices in our function that we want to learn, then those are called the **parameters** or simply the **weights**.\n",
    "\n",
    "If our neural network would output a single scalar value, we would talk about taking the **derivative**, but you will see that quite often we will have **multiple** output variables (\"values\"); in that case we talk about **gradients**.\n",
    "It's a more general term.\n",
    "\n",
    "Given an input $\\mathbf{x}$, we define our function by **manipulating** that input, usually by matrix-multiplications with weight matrices and additions with so-called bias vectors.\n",
    "As we manipulate our input, we are automatically creating a **computational graph**.\n",
    "This graph shows how to arrive at our output from our input.\n",
    "PyTorch is a **define-by-run** framework; this means that we can just do our manipulations, and PyTorch will keep track of that graph for us.\n",
    "Thus, we create a dynamic computation graph along the way.\n",
    "\n",
    "So, to recap: the only thing we have to do is to compute the **output**, and then we can ask PyTorch to automatically get the **gradients**.\n",
    "\n",
    "> **Note:  Why do we want gradients?\n",
    "** Consider that we have defined a function, a neural net, that is supposed to compute a certain output $y$ for an input vector $\\mathbf{x}$.\n",
    "We then define an **error measure** that tells us how wrong our network is; how bad it is in predicting output $y$ from input $\\mathbf{x}$.\n",
    "Based on this error measure, we can use the gradients to **update** the weights $\\mathbf{W}$ that were responsible for the output, so that the next time we present input $\\mathbf{x}$ to our network, the output will be closer to what we want.\n",
    "\n",
    "The first thing we have to do is to specify which tensors require gradients.\n",
    "By default, when we create a tensor, it does not require gradients."
   ]
  },
  {
   "cell_type": "code",
   "execution_count": 24,
   "id": "eb6dfab2",
   "metadata": {
    "execution": {
     "iopub.execute_input": "2021-08-31T14:58:11.656820Z",
     "iopub.status.busy": "2021-08-31T14:58:11.656325Z",
     "iopub.status.idle": "2021-08-31T14:58:11.658691Z",
     "shell.execute_reply": "2021-08-31T14:58:11.658224Z"
    },
    "papermill": {
     "duration": 0.083573,
     "end_time": "2021-08-31T14:58:11.658794",
     "exception": false,
     "start_time": "2021-08-31T14:58:11.575221",
     "status": "completed"
    },
    "tags": []
   },
   "outputs": [
    {
     "name": "stdout",
     "output_type": "stream",
     "text": [
      "False\n"
     ]
    }
   ],
   "source": [
    "x = torch.ones((3,))\n",
    "print(x.requires_grad)"
   ]
  },
  {
   "cell_type": "markdown",
   "id": "9da2c91f",
   "metadata": {
    "papermill": {
     "duration": 0.048865,
     "end_time": "2021-08-31T14:58:11.757269",
     "exception": false,
     "start_time": "2021-08-31T14:58:11.708404",
     "status": "completed"
    },
    "tags": []
   },
   "source": [
    "We can change this for an existing tensor using the function `requires_grad_()` (underscore indicating that this is a in-place operation).\n",
    "Alternatively, when creating a tensor, you can pass the argument\n",
    "`requires_grad=True` to most initializers we have seen above."
   ]
  },
  {
   "cell_type": "code",
   "execution_count": 25,
   "id": "941bc887",
   "metadata": {
    "execution": {
     "iopub.execute_input": "2021-08-31T14:58:11.859684Z",
     "iopub.status.busy": "2021-08-31T14:58:11.859214Z",
     "iopub.status.idle": "2021-08-31T14:58:11.861649Z",
     "shell.execute_reply": "2021-08-31T14:58:11.861186Z"
    },
    "papermill": {
     "duration": 0.054782,
     "end_time": "2021-08-31T14:58:11.861751",
     "exception": false,
     "start_time": "2021-08-31T14:58:11.806969",
     "status": "completed"
    },
    "tags": []
   },
   "outputs": [
    {
     "name": "stdout",
     "output_type": "stream",
     "text": [
      "True\n"
     ]
    }
   ],
   "source": [
    "x.requires_grad_(True)\n",
    "print(x.requires_grad)"
   ]
  },
  {
   "cell_type": "markdown",
   "id": "57b45257",
   "metadata": {
    "papermill": {
     "duration": 0.049394,
     "end_time": "2021-08-31T14:58:11.961217",
     "exception": false,
     "start_time": "2021-08-31T14:58:11.911823",
     "status": "completed"
    },
    "tags": []
   },
   "source": [
    "In order to get familiar with the concept of a computation graph, we will create one for the following function:\n",
    "\n",
    "$$y = \\frac{1}{|x|}\\sum_i \\left[(x_i + 2)^2 + 3\\right]$$\n",
    "\n",
    "You could imagine that $x$ are our parameters, and we want to optimize (either maximize or minimize) the output $y$.\n",
    "For this, we want to obtain the gradients $\\partial y / \\partial \\mathbf{x}$.\n",
    "For our example, we'll use $\\mathbf{x}=[0,1,2]$ as our input."
   ]
  },
  {
   "cell_type": "code",
   "execution_count": 26,
   "id": "3d156187",
   "metadata": {
    "execution": {
     "iopub.execute_input": "2021-08-31T14:58:12.064250Z",
     "iopub.status.busy": "2021-08-31T14:58:12.063765Z",
     "iopub.status.idle": "2021-08-31T14:58:12.066624Z",
     "shell.execute_reply": "2021-08-31T14:58:12.067008Z"
    },
    "papermill": {
     "duration": 0.056387,
     "end_time": "2021-08-31T14:58:12.067145",
     "exception": false,
     "start_time": "2021-08-31T14:58:12.010758",
     "status": "completed"
    },
    "tags": []
   },
   "outputs": [
    {
     "name": "stdout",
     "output_type": "stream",
     "text": [
      "X tensor([0., 1., 2.], requires_grad=True)\n"
     ]
    }
   ],
   "source": [
    "x = torch.arange(3, dtype=torch.float32, requires_grad=True)  # Only float tensors can have gradients\n",
    "print(\"X\", x)"
   ]
  },
  {
   "cell_type": "markdown",
   "id": "4173df8e",
   "metadata": {
    "papermill": {
     "duration": 0.051084,
     "end_time": "2021-08-31T14:58:12.168561",
     "exception": false,
     "start_time": "2021-08-31T14:58:12.117477",
     "status": "completed"
    },
    "tags": []
   },
   "source": [
    "Now let's build the computation graph step by step.\n",
    "You can combine multiple operations in a single line, but we will\n",
    "separate them here to get a better understanding of how each operation\n",
    "is added to the computation graph."
   ]
  },
  {
   "cell_type": "code",
   "execution_count": 27,
   "id": "228620f0",
   "metadata": {
    "execution": {
     "iopub.execute_input": "2021-08-31T14:58:12.273961Z",
     "iopub.status.busy": "2021-08-31T14:58:12.273491Z",
     "iopub.status.idle": "2021-08-31T14:58:12.277265Z",
     "shell.execute_reply": "2021-08-31T14:58:12.276858Z"
    },
    "papermill": {
     "duration": 0.059048,
     "end_time": "2021-08-31T14:58:12.277370",
     "exception": false,
     "start_time": "2021-08-31T14:58:12.218322",
     "status": "completed"
    },
    "tags": []
   },
   "outputs": [
    {
     "name": "stdout",
     "output_type": "stream",
     "text": [
      "Y tensor(12.6667, grad_fn=<MeanBackward0>)\n"
     ]
    }
   ],
   "source": [
    "a = x + 2\n",
    "b = a ** 2\n",
    "c = b + 3\n",
    "y = c.mean()\n",
    "print(\"Y\", y)"
   ]
  },
  {
   "cell_type": "markdown",
   "id": "0de46c64",
   "metadata": {
    "papermill": {
     "duration": 0.053334,
     "end_time": "2021-08-31T14:58:12.383335",
     "exception": false,
     "start_time": "2021-08-31T14:58:12.330001",
     "status": "completed"
    },
    "tags": []
   },
   "source": [
    "Using the statements above, we have created a computation graph that looks similar to the figure below:\n",
    "\n",
    "<center style=\"width: 100%\"><img src=\"https://github.com/PyTorchLightning/lightning-tutorials/raw/main/course_UvA-DL/introduction-to-pytorch/pytorch_computation_graph.svg\" width=\"200px\"></center>\n",
    "\n",
    "We calculate $a$ based on the inputs $x$ and the constant $2$, $b$ is $a$ squared, and so on.\n",
    "The visualization is an abstraction of the dependencies between inputs and outputs of the operations we have applied.\n",
    "Each node of the computation graph has automatically defined a function for calculating the gradients with respect to its inputs, `grad_fn`.\n",
    "You can see this when we printed the output tensor $y$.\n",
    "This is why the computation graph is usually visualized in the reverse direction (arrows point from the result to the inputs).\n",
    "We can perform backpropagation on the computation graph by calling the\n",
    "function `backward()` on the last output, which effectively calculates\n",
    "the gradients for each tensor that has the property\n",
    "`requires_grad=True`:"
   ]
  },
  {
   "cell_type": "code",
   "execution_count": 28,
   "id": "36911662",
   "metadata": {
    "execution": {
     "iopub.execute_input": "2021-08-31T14:58:12.520137Z",
     "iopub.status.busy": "2021-08-31T14:58:12.519650Z",
     "iopub.status.idle": "2021-08-31T14:58:12.592268Z",
     "shell.execute_reply": "2021-08-31T14:58:12.592664Z"
    },
    "papermill": {
     "duration": 0.158395,
     "end_time": "2021-08-31T14:58:12.592809",
     "exception": false,
     "start_time": "2021-08-31T14:58:12.434414",
     "status": "completed"
    },
    "tags": []
   },
   "outputs": [],
   "source": [
    "y.backward()"
   ]
  },
  {
   "cell_type": "markdown",
   "id": "f6bb817c",
   "metadata": {
    "papermill": {
     "duration": 0.050831,
     "end_time": "2021-08-31T14:58:12.707690",
     "exception": false,
     "start_time": "2021-08-31T14:58:12.656859",
     "status": "completed"
    },
    "tags": []
   },
   "source": [
    "`x.grad` will now contain the gradient $\\partial y/ \\partial \\mathcal{x}$, and this gradient indicates how a change in $\\mathbf{x}$ will affect output $y$ given the current input $\\mathbf{x}=[0,1,2]$:"
   ]
  },
  {
   "cell_type": "code",
   "execution_count": 29,
   "id": "9f13e756",
   "metadata": {
    "execution": {
     "iopub.execute_input": "2021-08-31T14:58:12.812891Z",
     "iopub.status.busy": "2021-08-31T14:58:12.812423Z",
     "iopub.status.idle": "2021-08-31T14:58:12.815404Z",
     "shell.execute_reply": "2021-08-31T14:58:12.814977Z"
    },
    "papermill": {
     "duration": 0.057135,
     "end_time": "2021-08-31T14:58:12.815507",
     "exception": false,
     "start_time": "2021-08-31T14:58:12.758372",
     "status": "completed"
    },
    "tags": []
   },
   "outputs": [
    {
     "name": "stdout",
     "output_type": "stream",
     "text": [
      "tensor([1.3333, 2.0000, 2.6667])\n"
     ]
    }
   ],
   "source": [
    "print(x.grad)"
   ]
  },
  {
   "cell_type": "markdown",
   "id": "5c085b8e",
   "metadata": {
    "papermill": {
     "duration": 0.051366,
     "end_time": "2021-08-31T14:58:12.918145",
     "exception": false,
     "start_time": "2021-08-31T14:58:12.866779",
     "status": "completed"
    },
    "tags": []
   },
   "source": [
    "We can also verify these gradients by hand.\n",
    "We will calculate the gradients using the chain rule, in the same way as PyTorch did it:\n",
    "\n",
    "$$\\frac{\\partial y}{\\partial x_i} = \\frac{\\partial y}{\\partial c_i}\\frac{\\partial c_i}{\\partial b_i}\\frac{\\partial b_i}{\\partial a_i}\\frac{\\partial a_i}{\\partial x_i}$$\n",
    "\n",
    "Note that we have simplified this equation to index notation, and by using the fact that all operation besides the mean do not combine the elements in the tensor.\n",
    "The partial derivatives are:\n",
    "\n",
    "$$\n",
    "\\frac{\\partial a_i}{\\partial x_i} = 1,\\hspace{1cm}\n",
    "\\frac{\\partial b_i}{\\partial a_i} = 2\\cdot a_i\\hspace{1cm}\n",
    "\\frac{\\partial c_i}{\\partial b_i} = 1\\hspace{1cm}\n",
    "\\frac{\\partial y}{\\partial c_i} = \\frac{1}{3}\n",
    "$$\n",
    "\n",
    "Hence, with the input being $\\mathbf{x}=[0,1,2]$, our gradients are $\\partial y/\\partial \\mathbf{x}=[4/3,2,8/3]$.\n",
    "The previous code cell should have printed the same result."
   ]
  },
  {
   "cell_type": "markdown",
   "id": "d7f7bc3b",
   "metadata": {
    "papermill": {
     "duration": 0.052172,
     "end_time": "2021-08-31T14:58:13.021424",
     "exception": false,
     "start_time": "2021-08-31T14:58:12.969252",
     "status": "completed"
    },
    "tags": []
   },
   "source": [
    "### GPU support\n",
    "\n",
    "A crucial feature of PyTorch is the support of GPUs, short for Graphics Processing Unit.\n",
    "A GPU can perform many thousands of small operations in parallel, making it very well suitable for performing large matrix operations in neural networks.\n",
    "When comparing GPUs to CPUs, we can list the following main differences (credit: [Kevin Krewell, 2009](https://blogs.nvidia.com/blog/2009/12/16/whats-the-difference-between-a-cpu-and-a-gpu/))\n",
    "\n",
    "<center style=\"width: 100%\"><img src=\"https://github.com/PyTorchLightning/lightning-tutorials/raw/main/course_UvA-DL/introduction-to-pytorch/comparison_CPU_GPU.png\" width=\"700px\"></center>\n",
    "\n",
    "CPUs and GPUs have both different advantages and disadvantages, which is why many computers contain both components and use them for different tasks.\n",
    "In case you are not familiar with GPUs, you can read up more details in this [NVIDIA blog post](https://blogs.nvidia.com/blog/2009/12/16/whats-the-difference-between-a-cpu-and-a-gpu/) or [here](https://www.intel.com/content/www/us/en/products/docs/processors/what-is-a-gpu.html).\n",
    "\n",
    "GPUs can accelerate the training of your network up to a factor of $100$ which is essential for large neural networks.\n",
    "PyTorch implements a lot of functionality for supporting GPUs (mostly those of NVIDIA due to the libraries [CUDA](https://developer.nvidia.com/cuda-zone) and [cuDNN](https://developer.nvidia.com/cudnn)).\n",
    "First, let's check whether you have a GPU available:"
   ]
  },
  {
   "cell_type": "code",
   "execution_count": 30,
   "id": "4ec2016d",
   "metadata": {
    "execution": {
     "iopub.execute_input": "2021-08-31T14:58:13.130310Z",
     "iopub.status.busy": "2021-08-31T14:58:13.129831Z",
     "iopub.status.idle": "2021-08-31T14:58:13.132277Z",
     "shell.execute_reply": "2021-08-31T14:58:13.131867Z"
    },
    "papermill": {
     "duration": 0.056794,
     "end_time": "2021-08-31T14:58:13.132386",
     "exception": false,
     "start_time": "2021-08-31T14:58:13.075592",
     "status": "completed"
    },
    "tags": []
   },
   "outputs": [
    {
     "name": "stdout",
     "output_type": "stream",
     "text": [
      "Is the GPU available? True\n"
     ]
    }
   ],
   "source": [
    "gpu_avail = torch.cuda.is_available()\n",
    "print(f\"Is the GPU available? {gpu_avail}\")"
   ]
  },
  {
   "cell_type": "markdown",
   "id": "409f1468",
   "metadata": {
    "papermill": {
     "duration": 0.051236,
     "end_time": "2021-08-31T14:58:13.237312",
     "exception": false,
     "start_time": "2021-08-31T14:58:13.186076",
     "status": "completed"
    },
    "tags": []
   },
   "source": [
    "If you have a GPU on your computer but the command above returns False, make sure you have the correct CUDA-version installed.\n",
    "The `dl2020` environment comes with the CUDA-toolkit 10.1, which is selected for the Lisa supercomputer.\n",
    "Please change it if necessary (CUDA 10.2 is currently common).\n",
    "On Google Colab, make sure that you have selected a GPU in your runtime setup (in the menu, check under `Runtime -> Change runtime type`).\n",
    "\n",
    "By default, all tensors you create are stored on the CPU.\n",
    "We can push a tensor to the GPU by using the function `.to(...)`, or `.cuda()`.\n",
    "However, it is often a good practice to define a `device` object in your code which points to the GPU if you have one, and otherwise to the CPU.\n",
    "Then, you can write your code with respect to this device object, and it allows you to run the same code on both a CPU-only system, and one with a GPU.\n",
    "Let's try it below.\n",
    "We can specify the device as follows:"
   ]
  },
  {
   "cell_type": "code",
   "execution_count": 31,
   "id": "4e90b702",
   "metadata": {
    "execution": {
     "iopub.execute_input": "2021-08-31T14:58:13.345462Z",
     "iopub.status.busy": "2021-08-31T14:58:13.344984Z",
     "iopub.status.idle": "2021-08-31T14:58:13.347439Z",
     "shell.execute_reply": "2021-08-31T14:58:13.347015Z"
    },
    "papermill": {
     "duration": 0.057431,
     "end_time": "2021-08-31T14:58:13.347542",
     "exception": false,
     "start_time": "2021-08-31T14:58:13.290111",
     "status": "completed"
    },
    "tags": []
   },
   "outputs": [
    {
     "name": "stdout",
     "output_type": "stream",
     "text": [
      "Device cuda\n"
     ]
    }
   ],
   "source": [
    "device = torch.device(\"cuda\") if torch.cuda.is_available() else torch.device(\"cpu\")\n",
    "print(\"Device\", device)"
   ]
  },
  {
   "cell_type": "markdown",
   "id": "7757a900",
   "metadata": {
    "papermill": {
     "duration": 0.051647,
     "end_time": "2021-08-31T14:58:13.450713",
     "exception": false,
     "start_time": "2021-08-31T14:58:13.399066",
     "status": "completed"
    },
    "tags": []
   },
   "source": [
    "Now let's create a tensor and push it to the device:"
   ]
  },
  {
   "cell_type": "code",
   "execution_count": 32,
   "id": "03bd25d1",
   "metadata": {
    "execution": {
     "iopub.execute_input": "2021-08-31T14:58:13.565411Z",
     "iopub.status.busy": "2021-08-31T14:58:13.564929Z",
     "iopub.status.idle": "2021-08-31T14:58:16.174926Z",
     "shell.execute_reply": "2021-08-31T14:58:16.174516Z"
    },
    "papermill": {
     "duration": 2.671383,
     "end_time": "2021-08-31T14:58:16.175067",
     "exception": false,
     "start_time": "2021-08-31T14:58:13.503684",
     "status": "completed"
    },
    "tags": []
   },
   "outputs": [
    {
     "name": "stdout",
     "output_type": "stream",
     "text": [
      "X tensor([[0., 0., 0.],\n",
      "        [0., 0., 0.]], device='cuda:0')\n"
     ]
    }
   ],
   "source": [
    "x = torch.zeros(2, 3)\n",
    "x = x.to(device)\n",
    "print(\"X\", x)"
   ]
  },
  {
   "cell_type": "markdown",
   "id": "de05fcb4",
   "metadata": {
    "papermill": {
     "duration": 0.058379,
     "end_time": "2021-08-31T14:58:16.285132",
     "exception": false,
     "start_time": "2021-08-31T14:58:16.226753",
     "status": "completed"
    },
    "tags": []
   },
   "source": [
    "In case you have a GPU, you should now see the attribute `device='cuda:0'` being printed next to your tensor.\n",
    "The zero next to cuda indicates that this is the zero-th GPU device on your computer.\n",
    "PyTorch also supports multi-GPU systems, but this you will only need once you have very big networks to train (if interested, see the [PyTorch documentation](https://pytorch.org/docs/stable/distributed.html#distributed-basics)).\n",
    "We can also compare the runtime of a large matrix multiplication on the CPU with a operation on the GPU:"
   ]
  },
  {
   "cell_type": "code",
   "execution_count": 33,
   "id": "750c24ae",
   "metadata": {
    "execution": {
     "iopub.execute_input": "2021-08-31T14:58:16.448970Z",
     "iopub.status.busy": "2021-08-31T14:58:16.448456Z",
     "iopub.status.idle": "2021-08-31T14:58:16.980322Z",
     "shell.execute_reply": "2021-08-31T14:58:16.979881Z"
    },
    "papermill": {
     "duration": 0.643669,
     "end_time": "2021-08-31T14:58:16.980440",
     "exception": false,
     "start_time": "2021-08-31T14:58:16.336771",
     "status": "completed"
    },
    "tags": []
   },
   "outputs": [
    {
     "name": "stdout",
     "output_type": "stream",
     "text": [
      "CPU time: 0.26331s\n",
      "GPU time: 0.00011s\n"
     ]
    }
   ],
   "source": [
    "x = torch.randn(5000, 5000)\n",
    "\n",
    "# CPU version\n",
    "start_time = time.time()\n",
    "_ = torch.matmul(x, x)\n",
    "end_time = time.time()\n",
    "print(f\"CPU time: {(end_time - start_time):6.5f}s\")\n",
    "\n",
    "# GPU version\n",
    "x = x.to(device)\n",
    "# The first operation on a CUDA device can be slow as it has to establish a CPU-GPU communication first.\n",
    "# Hence, we run an arbitrary command first without timing it for a fair comparison.\n",
    "if torch.cuda.is_available():\n",
    "    _ = torch.matmul(x * 0.0, x)\n",
    "start_time = time.time()\n",
    "_ = torch.matmul(x, x)\n",
    "end_time = time.time()\n",
    "print(f\"GPU time: {(end_time - start_time):6.5f}s\")"
   ]
  },
  {
   "cell_type": "markdown",
   "id": "611499f2",
   "metadata": {
    "papermill": {
     "duration": 0.054137,
     "end_time": "2021-08-31T14:58:17.087173",
     "exception": false,
     "start_time": "2021-08-31T14:58:17.033036",
     "status": "completed"
    },
    "tags": []
   },
   "source": [
    "Depending on the size of the operation and the CPU/GPU in your system, the speedup of this operation can be >500x.\n",
    "As `matmul` operations are very common in neural networks, we can already see the great benefit of training a NN on a GPU.\n",
    "The time estimate can be relatively noisy here because we haven't run it for multiple times.\n",
    "Feel free to extend this, but it also takes longer to run.\n",
    "\n",
    "When generating random numbers, the seed between CPU and GPU is not synchronized.\n",
    "Hence, we need to set the seed on the GPU separately to ensure a reproducible code.\n",
    "Note that due to different GPU architectures, running the same code on different GPUs does not guarantee the same random numbers.\n",
    "Still, we don't want that our code gives us a different output every time we run it on the exact same hardware.\n",
    "Hence, we also set the seed on the GPU:"
   ]
  },
  {
   "cell_type": "code",
   "execution_count": 34,
   "id": "1cb257cf",
   "metadata": {
    "execution": {
     "iopub.execute_input": "2021-08-31T14:58:17.195054Z",
     "iopub.status.busy": "2021-08-31T14:58:17.194563Z",
     "iopub.status.idle": "2021-08-31T14:58:17.196736Z",
     "shell.execute_reply": "2021-08-31T14:58:17.196334Z"
    },
    "papermill": {
     "duration": 0.05785,
     "end_time": "2021-08-31T14:58:17.196838",
     "exception": false,
     "start_time": "2021-08-31T14:58:17.138988",
     "status": "completed"
    },
    "tags": []
   },
   "outputs": [],
   "source": [
    "# GPU operations have a separate seed we also want to set\n",
    "if torch.cuda.is_available():\n",
    "    torch.cuda.manual_seed(42)\n",
    "    torch.cuda.manual_seed_all(42)\n",
    "\n",
    "# Additionally, some operations on a GPU are implemented stochastic for efficiency\n",
    "# We want to ensure that all operations are deterministic on GPU (if used) for reproducibility\n",
    "torch.backends.cudnn.determinstic = True\n",
    "torch.backends.cudnn.benchmark = False"
   ]
  },
  {
   "cell_type": "markdown",
   "id": "af052234",
   "metadata": {
    "papermill": {
     "duration": 0.052675,
     "end_time": "2021-08-31T14:58:17.369798",
     "exception": false,
     "start_time": "2021-08-31T14:58:17.317123",
     "status": "completed"
    },
    "tags": []
   },
   "source": [
    "## Learning by example: Continuous XOR\n",
    "\n",
    "If we want to build a neural network in PyTorch, we could specify all our parameters (weight matrices, bias vectors) using `Tensors` (with `requires_grad=True`), ask PyTorch to calculate the gradients and then adjust the parameters.\n",
    "But things can quickly get cumbersome if we have a lot of parameters.\n",
    "In PyTorch, there is a package called `torch.nn` that makes building neural networks more convenient.\n",
    "\n",
    "We will introduce the libraries and all additional parts you might need to train a neural network in PyTorch, using a simple example classifier on a simple yet well known example: XOR.\n",
    "Given two binary inputs $x_1$ and $x_2$, the label to predict is $1$ if either $x_1$ or $x_2$ is $1$ while the other is $0$, or the label is $0$ in all other cases.\n",
    "The example became famous by the fact that a single neuron, i.e. a linear classifier, cannot learn this simple function.\n",
    "Hence, we will learn how to build a small neural network that can learn this function.\n",
    "To make it a little bit more interesting, we move the XOR into continuous space and introduce some gaussian noise on the binary inputs.\n",
    "Our desired separation of an XOR dataset could look as follows:\n",
    "\n",
    "<center style=\"width: 100%\"><img src=\"https://github.com/PyTorchLightning/lightning-tutorials/raw/main/course_UvA-DL/introduction-to-pytorch/continuous_xor.svg\" width=\"350px\"></center>"
   ]
  },
  {
   "cell_type": "markdown",
   "id": "70980da3",
   "metadata": {
    "papermill": {
     "duration": 0.0515,
     "end_time": "2021-08-31T14:58:17.473549",
     "exception": false,
     "start_time": "2021-08-31T14:58:17.422049",
     "status": "completed"
    },
    "tags": []
   },
   "source": [
    "### The model\n",
    "\n",
    "The package `torch.nn` defines a series of useful classes like linear networks layers, activation functions, loss functions etc.\n",
    "A full list can be found [here](https://pytorch.org/docs/stable/nn.html).\n",
    "In case you need a certain network layer, check the documentation of the package first before writing the layer yourself as the package likely contains the code for it already.\n",
    "We import it below:"
   ]
  },
  {
   "cell_type": "code",
   "execution_count": null,
   "id": "89efaa57",
   "metadata": {
    "lines_to_next_cell": 0,
    "papermill": {
     "duration": 0.132466,
     "end_time": "2021-08-31T14:58:17.657986",
     "exception": false,
     "start_time": "2021-08-31T14:58:17.525520",
     "status": "completed"
    },
    "tags": []
   },
   "outputs": [],
   "source": []
  },
  {
   "cell_type": "code",
   "execution_count": null,
   "id": "4ec5dcdf",
   "metadata": {
    "papermill": {
     "duration": 0.051995,
     "end_time": "2021-08-31T14:58:17.762455",
     "exception": false,
     "start_time": "2021-08-31T14:58:17.710460",
     "status": "completed"
    },
    "tags": []
   },
   "outputs": [],
   "source": []
  },
  {
   "cell_type": "markdown",
   "id": "0cac2bc2",
   "metadata": {
    "papermill": {
     "duration": 0.099885,
     "end_time": "2021-08-31T14:58:17.918376",
     "exception": false,
     "start_time": "2021-08-31T14:58:17.818491",
     "status": "completed"
    },
    "tags": []
   },
   "source": [
    "Additionally to `torch.nn`, there is also `torch.nn.functional`.\n",
    "It contains functions that are used in network layers.\n",
    "This is in contrast to `torch.nn` which defines them as `nn.Modules` (more on it below), and `torch.nn` actually uses a lot of functionalities from `torch.nn.functional`.\n",
    "Hence, the functional package is useful in many situations, and so we import it as well here."
   ]
  },
  {
   "cell_type": "markdown",
   "id": "b950e2eb",
   "metadata": {
    "lines_to_next_cell": 2,
    "papermill": {
     "duration": 0.053461,
     "end_time": "2021-08-31T14:58:18.112627",
     "exception": false,
     "start_time": "2021-08-31T14:58:18.059166",
     "status": "completed"
    },
    "tags": []
   },
   "source": [
    "#### nn.Module\n",
    "\n",
    "In PyTorch, a neural network is build up out of modules.\n",
    "Modules can contain other modules, and a neural network is considered to be a module itself as well.\n",
    "The basic template of a module is as follows:"
   ]
  },
  {
   "cell_type": "code",
   "execution_count": 35,
   "id": "2637c6c4",
   "metadata": {
    "execution": {
     "iopub.execute_input": "2021-08-31T14:58:18.255585Z",
     "iopub.status.busy": "2021-08-31T14:58:18.255107Z",
     "iopub.status.idle": "2021-08-31T14:58:18.257198Z",
     "shell.execute_reply": "2021-08-31T14:58:18.256724Z"
    },
    "lines_to_next_cell": 2,
    "papermill": {
     "duration": 0.057968,
     "end_time": "2021-08-31T14:58:18.257300",
     "exception": false,
     "start_time": "2021-08-31T14:58:18.199332",
     "status": "completed"
    },
    "tags": []
   },
   "outputs": [],
   "source": [
    "class MyModule(nn.Module):\n",
    "    def __init__(self):\n",
    "        super().__init__()\n",
    "        # Some init for my module\n",
    "\n",
    "    def forward(self, x):\n",
    "        # Function for performing the calculation of the module.\n",
    "        pass"
   ]
  },
  {
   "cell_type": "markdown",
   "id": "d521ef68",
   "metadata": {
    "lines_to_next_cell": 2,
    "papermill": {
     "duration": 0.053922,
     "end_time": "2021-08-31T14:58:18.413836",
     "exception": false,
     "start_time": "2021-08-31T14:58:18.359914",
     "status": "completed"
    },
    "tags": []
   },
   "source": [
    "The forward function is where the computation of the module is taken place, and is executed when you call the module (`nn = MyModule(); nn(x)`).\n",
    "In the init function, we usually create the parameters of the module, using `nn.Parameter`, or defining other modules that are used in the forward function.\n",
    "The backward calculation is done automatically, but could be overwritten as well if wanted.\n",
    "\n",
    "#### Simple classifier\n",
    "We can now make use of the pre-defined modules in the `torch.nn` package, and define our own small neural network.\n",
    "We will use a minimal network with a input layer, one hidden layer with tanh as activation function, and a output layer.\n",
    "In other words, our networks should look something like this:\n",
    "\n",
    "<center width=\"100%\"><img src=\"https://github.com/PyTorchLightning/lightning-tutorials/raw/main/course_UvA-DL/introduction-to-pytorch/small_neural_network.svg\" width=\"300px\"></center>\n",
    "\n",
    "The input neurons are shown in blue, which represent the coordinates $x_1$ and $x_2$ of a data point.\n",
    "The hidden neurons including a tanh activation are shown in white, and the output neuron in red.\n",
    "In PyTorch, we can define this as follows:"
   ]
  },
  {
   "cell_type": "code",
   "execution_count": 36,
   "id": "9c63ceda",
   "metadata": {
    "execution": {
     "iopub.execute_input": "2021-08-31T14:58:18.555458Z",
     "iopub.status.busy": "2021-08-31T14:58:18.554954Z",
     "iopub.status.idle": "2021-08-31T14:58:18.556607Z",
     "shell.execute_reply": "2021-08-31T14:58:18.556987Z"
    },
    "papermill": {
     "duration": 0.089518,
     "end_time": "2021-08-31T14:58:18.557109",
     "exception": false,
     "start_time": "2021-08-31T14:58:18.467591",
     "status": "completed"
    },
    "tags": []
   },
   "outputs": [],
   "source": [
    "class SimpleClassifier(nn.Module):\n",
    "    def __init__(self, num_inputs, num_hidden, num_outputs):\n",
    "        super().__init__()\n",
    "        # Initialize the modules we need to build the network\n",
    "        self.linear1 = nn.Linear(num_inputs, num_hidden)\n",
    "        self.act_fn = nn.Tanh()\n",
    "        self.linear2 = nn.Linear(num_hidden, num_outputs)\n",
    "\n",
    "    def forward(self, x):\n",
    "        # Perform the calculation of the model to determine the prediction\n",
    "        x = self.linear1(x)\n",
    "        x = self.act_fn(x)\n",
    "        x = self.linear2(x)\n",
    "        return x"
   ]
  },
  {
   "cell_type": "markdown",
   "id": "b97fd808",
   "metadata": {
    "papermill": {
     "duration": 0.092424,
     "end_time": "2021-08-31T14:58:18.701339",
     "exception": false,
     "start_time": "2021-08-31T14:58:18.608915",
     "status": "completed"
    },
    "tags": []
   },
   "source": [
    "For the examples in this notebook, we will use a tiny neural network with two input neurons and four hidden neurons.\n",
    "As we perform binary classification, we will use a single output neuron.\n",
    "Note that we do not apply a sigmoid on the output yet.\n",
    "This is because other functions, especially the loss, are more efficient and precise to calculate on the original outputs instead of the sigmoid output.\n",
    "We will discuss the detailed reason later."
   ]
  },
  {
   "cell_type": "code",
   "execution_count": 37,
   "id": "ce3fe4f6",
   "metadata": {
    "execution": {
     "iopub.execute_input": "2021-08-31T14:58:18.865237Z",
     "iopub.status.busy": "2021-08-31T14:58:18.863872Z",
     "iopub.status.idle": "2021-08-31T14:58:18.868361Z",
     "shell.execute_reply": "2021-08-31T14:58:18.867878Z"
    },
    "papermill": {
     "duration": 0.115622,
     "end_time": "2021-08-31T14:58:18.868467",
     "exception": false,
     "start_time": "2021-08-31T14:58:18.752845",
     "status": "completed"
    },
    "tags": []
   },
   "outputs": [
    {
     "name": "stdout",
     "output_type": "stream",
     "text": [
      "SimpleClassifier(\n",
      "  (linear1): Linear(in_features=2, out_features=4, bias=True)\n",
      "  (act_fn): Tanh()\n",
      "  (linear2): Linear(in_features=4, out_features=1, bias=True)\n",
      ")\n"
     ]
    }
   ],
   "source": [
    "model = SimpleClassifier(num_inputs=2, num_hidden=4, num_outputs=1)\n",
    "# Printing a module shows all its submodules\n",
    "print(model)"
   ]
  },
  {
   "cell_type": "markdown",
   "id": "5ffd7bd5",
   "metadata": {
    "papermill": {
     "duration": 0.052863,
     "end_time": "2021-08-31T14:58:18.975809",
     "exception": false,
     "start_time": "2021-08-31T14:58:18.922946",
     "status": "completed"
    },
    "tags": []
   },
   "source": [
    "Printing the model lists all submodules it contains.\n",
    "The parameters of a module can be obtained by using its `parameters()` functions, or `named_parameters()` to get a name to each parameter object.\n",
    "For our small neural network, we have the following parameters:"
   ]
  },
  {
   "cell_type": "code",
   "execution_count": 38,
   "id": "e73245a7",
   "metadata": {
    "execution": {
     "iopub.execute_input": "2021-08-31T14:58:19.087737Z",
     "iopub.status.busy": "2021-08-31T14:58:19.087262Z",
     "iopub.status.idle": "2021-08-31T14:58:19.090072Z",
     "shell.execute_reply": "2021-08-31T14:58:19.089542Z"
    },
    "papermill": {
     "duration": 0.06037,
     "end_time": "2021-08-31T14:58:19.090179",
     "exception": false,
     "start_time": "2021-08-31T14:58:19.029809",
     "status": "completed"
    },
    "tags": []
   },
   "outputs": [
    {
     "name": "stdout",
     "output_type": "stream",
     "text": [
      "Parameter linear1.weight, shape torch.Size([4, 2])\n",
      "Parameter linear1.bias, shape torch.Size([4])\n",
      "Parameter linear2.weight, shape torch.Size([1, 4])\n",
      "Parameter linear2.bias, shape torch.Size([1])\n"
     ]
    }
   ],
   "source": [
    "for name, param in model.named_parameters():\n",
    "    print(f\"Parameter {name}, shape {param.shape}\")"
   ]
  },
  {
   "cell_type": "markdown",
   "id": "9da623ad",
   "metadata": {
    "papermill": {
     "duration": 0.055102,
     "end_time": "2021-08-31T14:58:19.201821",
     "exception": false,
     "start_time": "2021-08-31T14:58:19.146719",
     "status": "completed"
    },
    "tags": []
   },
   "source": [
    "Each linear layer has a weight matrix of the shape `[output, input]`, and a bias of the shape `[output]`.\n",
    "The tanh activation function does not have any parameters.\n",
    "Note that parameters are only registered for `nn.Module` objects that are direct object attributes, i.e. `self.a = ...`.\n",
    "If you define a list of modules, the parameters of those are not registered for the outer module and can cause some issues when you try to optimize your module.\n",
    "There are alternatives, like `nn.ModuleList`, `nn.ModuleDict` and `nn.Sequential`, that allow you to have different data structures of modules.\n",
    "We will use them in a few later tutorials and explain them there."
   ]
  },
  {
   "cell_type": "markdown",
   "id": "141fc134",
   "metadata": {
    "papermill": {
     "duration": 0.055128,
     "end_time": "2021-08-31T14:58:19.312092",
     "exception": false,
     "start_time": "2021-08-31T14:58:19.256964",
     "status": "completed"
    },
    "tags": []
   },
   "source": [
    "### The data\n",
    "\n",
    "PyTorch also provides a few functionalities to load the training and\n",
    "test data efficiently, summarized in the package `torch.utils.data`."
   ]
  },
  {
   "cell_type": "code",
   "execution_count": null,
   "id": "5688aa07",
   "metadata": {
    "papermill": {
     "duration": 0.087442,
     "end_time": "2021-08-31T14:58:19.454150",
     "exception": false,
     "start_time": "2021-08-31T14:58:19.366708",
     "status": "completed"
    },
    "tags": []
   },
   "outputs": [],
   "source": []
  },
  {
   "cell_type": "markdown",
   "id": "41331933",
   "metadata": {
    "papermill": {
     "duration": 0.053692,
     "end_time": "2021-08-31T14:58:19.562574",
     "exception": false,
     "start_time": "2021-08-31T14:58:19.508882",
     "status": "completed"
    },
    "tags": []
   },
   "source": [
    "The data package defines two classes which are the standard interface for handling data in PyTorch: `data.Dataset`, and `data.DataLoader`.\n",
    "The dataset class provides an uniform interface to access the\n",
    "training/test data, while the data loader makes sure to efficiently load\n",
    "and stack the data points from the dataset into batches during training."
   ]
  },
  {
   "cell_type": "markdown",
   "id": "5f76e0c0",
   "metadata": {
    "papermill": {
     "duration": 0.056707,
     "end_time": "2021-08-31T14:58:19.675281",
     "exception": false,
     "start_time": "2021-08-31T14:58:19.618574",
     "status": "completed"
    },
    "tags": []
   },
   "source": [
    "#### The dataset class\n",
    "\n",
    "The dataset class summarizes the basic functionality of a dataset in a natural way.\n",
    "To define a dataset in PyTorch, we simply specify two functions: `__getitem__`, and `__len__`.\n",
    "The get-item function has to return the $i$-th data point in the dataset, while the len function returns the size of the dataset.\n",
    "For the XOR dataset, we can define the dataset class as follows:"
   ]
  },
  {
   "cell_type": "code",
   "execution_count": 39,
   "id": "53d023a4",
   "metadata": {
    "execution": {
     "iopub.execute_input": "2021-08-31T14:58:19.816495Z",
     "iopub.status.busy": "2021-08-31T14:58:19.816002Z",
     "iopub.status.idle": "2021-08-31T14:58:19.818038Z",
     "shell.execute_reply": "2021-08-31T14:58:19.817561Z"
    },
    "papermill": {
     "duration": 0.062875,
     "end_time": "2021-08-31T14:58:19.818145",
     "exception": false,
     "start_time": "2021-08-31T14:58:19.755270",
     "status": "completed"
    },
    "tags": []
   },
   "outputs": [],
   "source": [
    "\n",
    "\n",
    "class XORDataset(data.Dataset):\n",
    "    def __init__(self, size, std=0.1):\n",
    "        \"\"\"\n",
    "        Inputs:\n",
    "            size - Number of data points we want to generate\n",
    "            std - Standard deviation of the noise (see generate_continuous_xor function)\n",
    "        \"\"\"\n",
    "        super().__init__()\n",
    "        self.size = size\n",
    "        self.std = std\n",
    "        self.generate_continuous_xor()\n",
    "\n",
    "    def generate_continuous_xor(self):\n",
    "        # Each data point in the XOR dataset has two variables, x and y, that can be either 0 or 1\n",
    "        # The label is their XOR combination, i.e. 1 if only x or only y is 1 while the other is 0.\n",
    "        # If x=y, the label is 0.\n",
    "        data = torch.randint(low=0, high=2, size=(self.size, 2), dtype=torch.float32)\n",
    "        label = (data.sum(dim=1) == 1).to(torch.long)\n",
    "        # To make it slightly more challenging, we add a bit of gaussian noise to the data points.\n",
    "        data += self.std * torch.randn(data.shape)\n",
    "\n",
    "        self.data = data\n",
    "        self.label = label\n",
    "\n",
    "    def __len__(self):\n",
    "        # Number of data point we have. Alternatively self.data.shape[0], or self.label.shape[0]\n",
    "        return self.size\n",
    "\n",
    "    def __getitem__(self, idx):\n",
    "        # Return the idx-th data point of the dataset\n",
    "        # If we have multiple things to return (data point and label), we can return them as tuple\n",
    "        data_point = self.data[idx]\n",
    "        data_label = self.label[idx]\n",
    "        return data_point, data_label"
   ]
  },
  {
   "cell_type": "markdown",
   "id": "0cf6a280",
   "metadata": {
    "papermill": {
     "duration": 0.054161,
     "end_time": "2021-08-31T14:58:19.926029",
     "exception": false,
     "start_time": "2021-08-31T14:58:19.871868",
     "status": "completed"
    },
    "tags": []
   },
   "source": [
    "Let's try to create such a dataset and inspect it:"
   ]
  },
  {
   "cell_type": "code",
   "execution_count": 40,
   "id": "ae18af7e",
   "metadata": {
    "execution": {
     "iopub.execute_input": "2021-08-31T14:58:20.063367Z",
     "iopub.status.busy": "2021-08-31T14:58:20.062868Z",
     "iopub.status.idle": "2021-08-31T14:58:20.066681Z",
     "shell.execute_reply": "2021-08-31T14:58:20.067089Z"
    },
    "papermill": {
     "duration": 0.061007,
     "end_time": "2021-08-31T14:58:20.067218",
     "exception": false,
     "start_time": "2021-08-31T14:58:20.006211",
     "status": "completed"
    },
    "tags": []
   },
   "outputs": [
    {
     "name": "stdout",
     "output_type": "stream",
     "text": [
      "Size of dataset: 200\n",
      "Data point 0: (tensor([0.9632, 0.1117]), tensor(1))\n"
     ]
    }
   ],
   "source": [
    "dataset = XORDataset(size=200)\n",
    "print(\"Size of dataset:\", len(dataset))\n",
    "print(\"Data point 0:\", dataset[0])"
   ]
  },
  {
   "cell_type": "markdown",
   "id": "3b589b05",
   "metadata": {
    "lines_to_next_cell": 2,
    "papermill": {
     "duration": 0.058329,
     "end_time": "2021-08-31T14:58:20.188416",
     "exception": false,
     "start_time": "2021-08-31T14:58:20.130087",
     "status": "completed"
    },
    "tags": []
   },
   "source": [
    "To better relate to the dataset, we visualize the samples below."
   ]
  },
  {
   "cell_type": "code",
   "execution_count": 41,
   "id": "0ab99074",
   "metadata": {
    "execution": {
     "iopub.execute_input": "2021-08-31T14:58:20.312697Z",
     "iopub.status.busy": "2021-08-31T14:58:20.312221Z",
     "iopub.status.idle": "2021-08-31T14:58:20.314457Z",
     "shell.execute_reply": "2021-08-31T14:58:20.313992Z"
    },
    "papermill": {
     "duration": 0.072968,
     "end_time": "2021-08-31T14:58:20.314559",
     "exception": false,
     "start_time": "2021-08-31T14:58:20.241591",
     "status": "completed"
    },
    "tags": []
   },
   "outputs": [],
   "source": [
    "def visualize_samples(data, label):\n",
    "    if isinstance(data, torch.Tensor):\n",
    "        data = data.cpu().numpy()\n",
    "    if isinstance(label, torch.Tensor):\n",
    "        label = label.cpu().numpy()\n",
    "    data_0 = data[label == 0]\n",
    "    data_1 = data[label == 1]\n",
    "\n",
    "    plt.figure(figsize=(4, 4))\n",
    "    plt.scatter(data_0[:, 0], data_0[:, 1], edgecolor=\"#333\", label=\"Class 0\")\n",
    "    plt.scatter(data_1[:, 0], data_1[:, 1], edgecolor=\"#333\", label=\"Class 1\")\n",
    "    plt.title(\"Dataset samples\")\n",
    "    plt.ylabel(r\"$x_2$\")\n",
    "    plt.xlabel(r\"$x_1$\")\n",
    "    plt.legend()"
   ]
  },
  {
   "cell_type": "code",
   "execution_count": 42,
   "id": "3dc961f3",
   "metadata": {
    "execution": {
     "iopub.execute_input": "2021-08-31T14:58:20.434020Z",
     "iopub.status.busy": "2021-08-31T14:58:20.429068Z",
     "iopub.status.idle": "2021-08-31T14:58:20.906805Z",
     "shell.execute_reply": "2021-08-31T14:58:20.907245Z"
    },
    "papermill": {
     "duration": 0.540337,
     "end_time": "2021-08-31T14:58:20.907390",
     "exception": false,
     "start_time": "2021-08-31T14:58:20.367053",
     "status": "completed"
    },
    "tags": []
   },
   "outputs": [
    {
     "data": {
      "application/pdf": "[encoded data removed]",
      "image/svg+xml": [
       "<?xml version=\"1.0\" encoding=\"utf-8\" standalone=\"no\"?>\n",
       "<!DOCTYPE svg PUBLIC \"-//W3C//DTD SVG 1.1//EN\"\n",
       "  \"http://www.w3.org/Graphics/SVG/1.1/DTD/svg11.dtd\">\n",
       "<svg height=\"277.314375pt\" version=\"1.1\" viewBox=\"0 0 288.985258 277.314375\" width=\"288.985258pt\" xmlns=\"http://www.w3.org/2000/svg\" xmlns:xlink=\"http://www.w3.org/1999/xlink\">\n",
       " <metadata>\n",
       "  <rdf:RDF xmlns:cc=\"http://creativecommons.org/ns#\" xmlns:dc=\"http://purl.org/dc/elements/1.1/\" xmlns:rdf=\"http://www.w3.org/1999/02/22-rdf-syntax-ns#\">\n",
       "   <cc:Work>\n",
       "    <dc:type rdf:resource=\"http://purl.org/dc/dcmitype/StillImage\"/>\n",
       "    <dc:date>2021-08-31T16:58:20.648806</dc:date>\n",
       "    <dc:format>image/svg+xml</dc:format>\n",
       "    <dc:creator>\n",
       "     <cc:Agent>\n",
       "      <dc:title>Matplotlib v3.4.3, https://matplotlib.org/</dc:title>\n",
       "     </cc:Agent>\n",
       "    </dc:creator>\n",
       "   </cc:Work>\n",
       "  </rdf:RDF>\n",
       " </metadata>\n",
       " <defs>\n",
       "  <style type=\"text/css\">*{stroke-linecap:butt;stroke-linejoin:round;}</style>\n",
       " </defs>\n",
       " <g id=\"figure_1\">\n",
       "  <g id=\"patch_1\">\n",
       "   <path d=\"M 0 277.314375 \n",
       "L 288.985258 277.314375 \n",
       "L 288.985258 0 \n",
       "L 0 0 \n",
       "z\n",
       "\" style=\"fill:none;\"/>\n",
       "  </g>\n",
       "  <g id=\"axes_1\">\n",
       "   <g id=\"patch_2\">\n",
       "    <path d=\"M 52.160938 239.758125 \n",
       "L 275.360937 239.758125 \n",
       "L 275.360937 22.318125 \n",
       "L 52.160938 22.318125 \n",
       "z\n",
       "\" style=\"fill:#ffffff;\"/>\n",
       "   </g>\n",
       "   <g id=\"PathCollection_1\">\n",
       "    <defs>\n",
       "     <path d=\"M 0 3 \n",
       "C 0.795609 3 1.55874 2.683901 2.12132 2.12132 \n",
       "C 2.683901 1.55874 3 0.795609 3 0 \n",
       "C 3 -0.795609 2.683901 -1.55874 2.12132 -2.12132 \n",
       "C 1.55874 -2.683901 0.795609 -3 0 -3 \n",
       "C -0.795609 -3 -1.55874 -2.683901 -2.12132 -2.12132 \n",
       "C -2.683901 -1.55874 -3 -0.795609 -3 0 \n",
       "C -3 0.795609 -2.683901 1.55874 -2.12132 2.12132 \n",
       "C -1.55874 2.683901 -0.795609 3 0 3 \n",
       "z\n",
       "\" id=\"m6efb44b3ea\" style=\"stroke:#333333;\"/>\n",
       "    </defs>\n",
       "    <g clip-path=\"url(#pe4ae81a13c)\">\n",
       "     <use style=\"fill:#1f77b4;stroke:#333333;\" x=\"96.31168\" xlink:href=\"#m6efb44b3ea\" y=\"193.325344\"/>\n",
       "     <use style=\"fill:#1f77b4;stroke:#333333;\" x=\"232.057657\" xlink:href=\"#m6efb44b3ea\" y=\"62.145049\"/>\n",
       "     <use style=\"fill:#1f77b4;stroke:#333333;\" x=\"258.979442\" xlink:href=\"#m6efb44b3ea\" y=\"63.780462\"/>\n",
       "     <use style=\"fill:#1f77b4;stroke:#333333;\" x=\"108.913368\" xlink:href=\"#m6efb44b3ea\" y=\"204.409578\"/>\n",
       "     <use style=\"fill:#1f77b4;stroke:#333333;\" x=\"101.325808\" xlink:href=\"#m6efb44b3ea\" y=\"205.043015\"/>\n",
       "     <use style=\"fill:#1f77b4;stroke:#333333;\" x=\"70.983454\" xlink:href=\"#m6efb44b3ea\" y=\"189.560429\"/>\n",
       "     <use style=\"fill:#1f77b4;stroke:#333333;\" x=\"242.885541\" xlink:href=\"#m6efb44b3ea\" y=\"58.566133\"/>\n",
       "     <use style=\"fill:#1f77b4;stroke:#333333;\" x=\"232.016709\" xlink:href=\"#m6efb44b3ea\" y=\"51.440521\"/>\n",
       "     <use style=\"fill:#1f77b4;stroke:#333333;\" x=\"93.978943\" xlink:href=\"#m6efb44b3ea\" y=\"204.550687\"/>\n",
       "     <use style=\"fill:#1f77b4;stroke:#333333;\" x=\"237.538974\" xlink:href=\"#m6efb44b3ea\" y=\"53.572047\"/>\n",
       "     <use style=\"fill:#1f77b4;stroke:#333333;\" x=\"103.543109\" xlink:href=\"#m6efb44b3ea\" y=\"200.309835\"/>\n",
       "     <use style=\"fill:#1f77b4;stroke:#333333;\" x=\"255.555098\" xlink:href=\"#m6efb44b3ea\" y=\"32.201761\"/>\n",
       "     <use style=\"fill:#1f77b4;stroke:#333333;\" x=\"238.058002\" xlink:href=\"#m6efb44b3ea\" y=\"62.589723\"/>\n",
       "     <use style=\"fill:#1f77b4;stroke:#333333;\" x=\"232.170061\" xlink:href=\"#m6efb44b3ea\" y=\"57.754453\"/>\n",
       "     <use style=\"fill:#1f77b4;stroke:#333333;\" x=\"94.264177\" xlink:href=\"#m6efb44b3ea\" y=\"212.626168\"/>\n",
       "     <use style=\"fill:#1f77b4;stroke:#333333;\" x=\"89.231835\" xlink:href=\"#m6efb44b3ea\" y=\"185.037671\"/>\n",
       "     <use style=\"fill:#1f77b4;stroke:#333333;\" x=\"251.267421\" xlink:href=\"#m6efb44b3ea\" y=\"90.813692\"/>\n",
       "     <use style=\"fill:#1f77b4;stroke:#333333;\" x=\"254.815479\" xlink:href=\"#m6efb44b3ea\" y=\"83.753102\"/>\n",
       "     <use style=\"fill:#1f77b4;stroke:#333333;\" x=\"226.105337\" xlink:href=\"#m6efb44b3ea\" y=\"59.138235\"/>\n",
       "     <use style=\"fill:#1f77b4;stroke:#333333;\" x=\"82.022892\" xlink:href=\"#m6efb44b3ea\" y=\"209.202243\"/>\n",
       "     <use style=\"fill:#1f77b4;stroke:#333333;\" x=\"253.973129\" xlink:href=\"#m6efb44b3ea\" y=\"32.62492\"/>\n",
       "     <use style=\"fill:#1f77b4;stroke:#333333;\" x=\"245.15091\" xlink:href=\"#m6efb44b3ea\" y=\"59.955798\"/>\n",
       "     <use style=\"fill:#1f77b4;stroke:#333333;\" x=\"114.421987\" xlink:href=\"#m6efb44b3ea\" y=\"175.83743\"/>\n",
       "     <use style=\"fill:#1f77b4;stroke:#333333;\" x=\"228.657784\" xlink:href=\"#m6efb44b3ea\" y=\"32.336249\"/>\n",
       "     <use style=\"fill:#1f77b4;stroke:#333333;\" x=\"99.781014\" xlink:href=\"#m6efb44b3ea\" y=\"194.777215\"/>\n",
       "     <use style=\"fill:#1f77b4;stroke:#333333;\" x=\"227.807175\" xlink:href=\"#m6efb44b3ea\" y=\"51.50491\"/>\n",
       "     <use style=\"fill:#1f77b4;stroke:#333333;\" x=\"86.881354\" xlink:href=\"#m6efb44b3ea\" y=\"179.492748\"/>\n",
       "     <use style=\"fill:#1f77b4;stroke:#333333;\" x=\"250.727063\" xlink:href=\"#m6efb44b3ea\" y=\"48.77409\"/>\n",
       "     <use style=\"fill:#1f77b4;stroke:#333333;\" x=\"246.39628\" xlink:href=\"#m6efb44b3ea\" y=\"61.512745\"/>\n",
       "     <use style=\"fill:#1f77b4;stroke:#333333;\" x=\"240.179519\" xlink:href=\"#m6efb44b3ea\" y=\"43.69401\"/>\n",
       "     <use style=\"fill:#1f77b4;stroke:#333333;\" x=\"92.34098\" xlink:href=\"#m6efb44b3ea\" y=\"184.373252\"/>\n",
       "     <use style=\"fill:#1f77b4;stroke:#333333;\" x=\"104.506115\" xlink:href=\"#m6efb44b3ea\" y=\"209.709719\"/>\n",
       "     <use style=\"fill:#1f77b4;stroke:#333333;\" x=\"87.360439\" xlink:href=\"#m6efb44b3ea\" y=\"169.625602\"/>\n",
       "     <use style=\"fill:#1f77b4;stroke:#333333;\" x=\"97.745486\" xlink:href=\"#m6efb44b3ea\" y=\"201.318829\"/>\n",
       "     <use style=\"fill:#1f77b4;stroke:#333333;\" x=\"112.202457\" xlink:href=\"#m6efb44b3ea\" y=\"200.867622\"/>\n",
       "     <use style=\"fill:#1f77b4;stroke:#333333;\" x=\"93.386735\" xlink:href=\"#m6efb44b3ea\" y=\"195.701852\"/>\n",
       "     <use style=\"fill:#1f77b4;stroke:#333333;\" x=\"112.962408\" xlink:href=\"#m6efb44b3ea\" y=\"212.211753\"/>\n",
       "     <use style=\"fill:#1f77b4;stroke:#333333;\" x=\"213.923524\" xlink:href=\"#m6efb44b3ea\" y=\"39.620323\"/>\n",
       "     <use style=\"fill:#1f77b4;stroke:#333333;\" x=\"253.408944\" xlink:href=\"#m6efb44b3ea\" y=\"64.604829\"/>\n",
       "     <use style=\"fill:#1f77b4;stroke:#333333;\" x=\"238.202599\" xlink:href=\"#m6efb44b3ea\" y=\"63.759786\"/>\n",
       "     <use style=\"fill:#1f77b4;stroke:#333333;\" x=\"93.334759\" xlink:href=\"#m6efb44b3ea\" y=\"205.410605\"/>\n",
       "     <use style=\"fill:#1f77b4;stroke:#333333;\" x=\"222.697015\" xlink:href=\"#m6efb44b3ea\" y=\"89.092646\"/>\n",
       "     <use style=\"fill:#1f77b4;stroke:#333333;\" x=\"246.067518\" xlink:href=\"#m6efb44b3ea\" y=\"56.781365\"/>\n",
       "     <use style=\"fill:#1f77b4;stroke:#333333;\" x=\"97.908356\" xlink:href=\"#m6efb44b3ea\" y=\"212.127081\"/>\n",
       "     <use style=\"fill:#1f77b4;stroke:#333333;\" x=\"110.608912\" xlink:href=\"#m6efb44b3ea\" y=\"217.677792\"/>\n",
       "     <use style=\"fill:#1f77b4;stroke:#333333;\" x=\"119.278606\" xlink:href=\"#m6efb44b3ea\" y=\"177.02797\"/>\n",
       "     <use style=\"fill:#1f77b4;stroke:#333333;\" x=\"229.431275\" xlink:href=\"#m6efb44b3ea\" y=\"71.868079\"/>\n",
       "     <use style=\"fill:#1f77b4;stroke:#333333;\" x=\"217.108023\" xlink:href=\"#m6efb44b3ea\" y=\"44.358713\"/>\n",
       "     <use style=\"fill:#1f77b4;stroke:#333333;\" x=\"90.421001\" xlink:href=\"#m6efb44b3ea\" y=\"205.813556\"/>\n",
       "     <use style=\"fill:#1f77b4;stroke:#333333;\" x=\"230.637614\" xlink:href=\"#m6efb44b3ea\" y=\"68.485687\"/>\n",
       "     <use style=\"fill:#1f77b4;stroke:#333333;\" x=\"98.642521\" xlink:href=\"#m6efb44b3ea\" y=\"201.033344\"/>\n",
       "     <use style=\"fill:#1f77b4;stroke:#333333;\" x=\"242.296554\" xlink:href=\"#m6efb44b3ea\" y=\"33.609264\"/>\n",
       "     <use style=\"fill:#1f77b4;stroke:#333333;\" x=\"95.167044\" xlink:href=\"#m6efb44b3ea\" y=\"188.760034\"/>\n",
       "     <use style=\"fill:#1f77b4;stroke:#333333;\" x=\"227.659933\" xlink:href=\"#m6efb44b3ea\" y=\"76.575953\"/>\n",
       "     <use style=\"fill:#1f77b4;stroke:#333333;\" x=\"239.162594\" xlink:href=\"#m6efb44b3ea\" y=\"47.436505\"/>\n",
       "     <use style=\"fill:#1f77b4;stroke:#333333;\" x=\"70.985535\" xlink:href=\"#m6efb44b3ea\" y=\"190.609003\"/>\n",
       "     <use style=\"fill:#1f77b4;stroke:#333333;\" x=\"216.984682\" xlink:href=\"#m6efb44b3ea\" y=\"47.197067\"/>\n",
       "     <use style=\"fill:#1f77b4;stroke:#333333;\" x=\"247.342435\" xlink:href=\"#m6efb44b3ea\" y=\"65.6149\"/>\n",
       "     <use style=\"fill:#1f77b4;stroke:#333333;\" x=\"82.942512\" xlink:href=\"#m6efb44b3ea\" y=\"196.823089\"/>\n",
       "     <use style=\"fill:#1f77b4;stroke:#333333;\" x=\"94.610207\" xlink:href=\"#m6efb44b3ea\" y=\"229.874489\"/>\n",
       "     <use style=\"fill:#1f77b4;stroke:#333333;\" x=\"94.065144\" xlink:href=\"#m6efb44b3ea\" y=\"199.872245\"/>\n",
       "     <use style=\"fill:#1f77b4;stroke:#333333;\" x=\"75.9265\" xlink:href=\"#m6efb44b3ea\" y=\"200.007537\"/>\n",
       "     <use style=\"fill:#1f77b4;stroke:#333333;\" x=\"261.562131\" xlink:href=\"#m6efb44b3ea\" y=\"65.752612\"/>\n",
       "     <use style=\"fill:#1f77b4;stroke:#333333;\" x=\"227.651459\" xlink:href=\"#m6efb44b3ea\" y=\"73.759575\"/>\n",
       "     <use style=\"fill:#1f77b4;stroke:#333333;\" x=\"253.566025\" xlink:href=\"#m6efb44b3ea\" y=\"39.679857\"/>\n",
       "     <use style=\"fill:#1f77b4;stroke:#333333;\" x=\"76.490724\" xlink:href=\"#m6efb44b3ea\" y=\"185.321057\"/>\n",
       "     <use style=\"fill:#1f77b4;stroke:#333333;\" x=\"238.897525\" xlink:href=\"#m6efb44b3ea\" y=\"82.429587\"/>\n",
       "     <use style=\"fill:#1f77b4;stroke:#333333;\" x=\"249.223089\" xlink:href=\"#m6efb44b3ea\" y=\"89.661589\"/>\n",
       "     <use style=\"fill:#1f77b4;stroke:#333333;\" x=\"118.387936\" xlink:href=\"#m6efb44b3ea\" y=\"218.303568\"/>\n",
       "     <use style=\"fill:#1f77b4;stroke:#333333;\" x=\"108.710707\" xlink:href=\"#m6efb44b3ea\" y=\"207.070547\"/>\n",
       "     <use style=\"fill:#1f77b4;stroke:#333333;\" x=\"94.960359\" xlink:href=\"#m6efb44b3ea\" y=\"190.023846\"/>\n",
       "     <use style=\"fill:#1f77b4;stroke:#333333;\" x=\"95.804305\" xlink:href=\"#m6efb44b3ea\" y=\"187.711556\"/>\n",
       "     <use style=\"fill:#1f77b4;stroke:#333333;\" x=\"239.509346\" xlink:href=\"#m6efb44b3ea\" y=\"53.869424\"/>\n",
       "     <use style=\"fill:#1f77b4;stroke:#333333;\" x=\"226.971018\" xlink:href=\"#m6efb44b3ea\" y=\"88.154106\"/>\n",
       "     <use style=\"fill:#1f77b4;stroke:#333333;\" x=\"94.916859\" xlink:href=\"#m6efb44b3ea\" y=\"195.521558\"/>\n",
       "     <use style=\"fill:#1f77b4;stroke:#333333;\" x=\"106.991269\" xlink:href=\"#m6efb44b3ea\" y=\"186.850471\"/>\n",
       "     <use style=\"fill:#1f77b4;stroke:#333333;\" x=\"108.567957\" xlink:href=\"#m6efb44b3ea\" y=\"194.117803\"/>\n",
       "     <use style=\"fill:#1f77b4;stroke:#333333;\" x=\"239.227411\" xlink:href=\"#m6efb44b3ea\" y=\"37.590473\"/>\n",
       "     <use style=\"fill:#1f77b4;stroke:#333333;\" x=\"238.317384\" xlink:href=\"#m6efb44b3ea\" y=\"35.754283\"/>\n",
       "     <use style=\"fill:#1f77b4;stroke:#333333;\" x=\"96.994499\" xlink:href=\"#m6efb44b3ea\" y=\"208.108344\"/>\n",
       "     <use style=\"fill:#1f77b4;stroke:#333333;\" x=\"250.032038\" xlink:href=\"#m6efb44b3ea\" y=\"37.701594\"/>\n",
       "     <use style=\"fill:#1f77b4;stroke:#333333;\" x=\"232.359401\" xlink:href=\"#m6efb44b3ea\" y=\"72.374698\"/>\n",
       "     <use style=\"fill:#1f77b4;stroke:#333333;\" x=\"248.199716\" xlink:href=\"#m6efb44b3ea\" y=\"33.573869\"/>\n",
       "     <use style=\"fill:#1f77b4;stroke:#333333;\" x=\"88.429047\" xlink:href=\"#m6efb44b3ea\" y=\"192.95304\"/>\n",
       "     <use style=\"fill:#1f77b4;stroke:#333333;\" x=\"234.27057\" xlink:href=\"#m6efb44b3ea\" y=\"47.995435\"/>\n",
       "     <use style=\"fill:#1f77b4;stroke:#333333;\" x=\"98.536004\" xlink:href=\"#m6efb44b3ea\" y=\"212.515425\"/>\n",
       "     <use style=\"fill:#1f77b4;stroke:#333333;\" x=\"107.800107\" xlink:href=\"#m6efb44b3ea\" y=\"204.310706\"/>\n",
       "     <use style=\"fill:#1f77b4;stroke:#333333;\" x=\"87.726796\" xlink:href=\"#m6efb44b3ea\" y=\"191.216589\"/>\n",
       "     <use style=\"fill:#1f77b4;stroke:#333333;\" x=\"212.816998\" xlink:href=\"#m6efb44b3ea\" y=\"53.841351\"/>\n",
       "     <use style=\"fill:#1f77b4;stroke:#333333;\" x=\"225.168168\" xlink:href=\"#m6efb44b3ea\" y=\"47.841136\"/>\n",
       "     <use style=\"fill:#1f77b4;stroke:#333333;\" x=\"202.642744\" xlink:href=\"#m6efb44b3ea\" y=\"44.693113\"/>\n",
       "     <use style=\"fill:#1f77b4;stroke:#333333;\" x=\"86.981531\" xlink:href=\"#m6efb44b3ea\" y=\"191.534849\"/>\n",
       "     <use style=\"fill:#1f77b4;stroke:#333333;\" x=\"116.687423\" xlink:href=\"#m6efb44b3ea\" y=\"206.975146\"/>\n",
       "     <use style=\"fill:#1f77b4;stroke:#333333;\" x=\"91.776781\" xlink:href=\"#m6efb44b3ea\" y=\"209.817871\"/>\n",
       "     <use style=\"fill:#1f77b4;stroke:#333333;\" x=\"225.892096\" xlink:href=\"#m6efb44b3ea\" y=\"90.705434\"/>\n",
       "     <use style=\"fill:#1f77b4;stroke:#333333;\" x=\"102.087238\" xlink:href=\"#m6efb44b3ea\" y=\"195.303274\"/>\n",
       "     <use style=\"fill:#1f77b4;stroke:#333333;\" x=\"94.905243\" xlink:href=\"#m6efb44b3ea\" y=\"189.148117\"/>\n",
       "     <use style=\"fill:#1f77b4;stroke:#333333;\" x=\"89.515988\" xlink:href=\"#m6efb44b3ea\" y=\"200.223394\"/>\n",
       "     <use style=\"fill:#1f77b4;stroke:#333333;\" x=\"99.167164\" xlink:href=\"#m6efb44b3ea\" y=\"208.206126\"/>\n",
       "     <use style=\"fill:#1f77b4;stroke:#333333;\" x=\"211.577945\" xlink:href=\"#m6efb44b3ea\" y=\"57.867977\"/>\n",
       "     <use style=\"fill:#1f77b4;stroke:#333333;\" x=\"220.751413\" xlink:href=\"#m6efb44b3ea\" y=\"41.469595\"/>\n",
       "     <use style=\"fill:#1f77b4;stroke:#333333;\" x=\"72.137778\" xlink:href=\"#m6efb44b3ea\" y=\"214.445482\"/>\n",
       "     <use style=\"fill:#1f77b4;stroke:#333333;\" x=\"235.916363\" xlink:href=\"#m6efb44b3ea\" y=\"80.464924\"/>\n",
       "    </g>\n",
       "   </g>\n",
       "   <g id=\"PathCollection_2\">\n",
       "    <defs>\n",
       "     <path d=\"M 0 3 \n",
       "C 0.795609 3 1.55874 2.683901 2.12132 2.12132 \n",
       "C 2.683901 1.55874 3 0.795609 3 0 \n",
       "C 3 -0.795609 2.683901 -1.55874 2.12132 -2.12132 \n",
       "C 1.55874 -2.683901 0.795609 -3 0 -3 \n",
       "C -0.795609 -3 -1.55874 -2.683901 -2.12132 -2.12132 \n",
       "C -2.683901 -1.55874 -3 -0.795609 -3 0 \n",
       "C -3 0.795609 -2.683901 1.55874 -2.12132 2.12132 \n",
       "C -1.55874 2.683901 -0.795609 3 0 3 \n",
       "z\n",
       "\" id=\"mbfb46d7eb2\" style=\"stroke:#333333;\"/>\n",
       "    </defs>\n",
       "    <g clip-path=\"url(#pe4ae81a13c)\">\n",
       "     <use style=\"fill:#ff7f0e;stroke:#333333;\" x=\"230.877063\" xlink:href=\"#mbfb46d7eb2\" y=\"180.913557\"/>\n",
       "     <use style=\"fill:#ff7f0e;stroke:#333333;\" x=\"243.842427\" xlink:href=\"#mbfb46d7eb2\" y=\"181.183986\"/>\n",
       "     <use style=\"fill:#ff7f0e;stroke:#333333;\" x=\"232.017097\" xlink:href=\"#mbfb46d7eb2\" y=\"198.932324\"/>\n",
       "     <use style=\"fill:#ff7f0e;stroke:#333333;\" x=\"89.746376\" xlink:href=\"#mbfb46d7eb2\" y=\"45.392998\"/>\n",
       "     <use style=\"fill:#ff7f0e;stroke:#333333;\" x=\"250.686437\" xlink:href=\"#mbfb46d7eb2\" y=\"201.599728\"/>\n",
       "     <use style=\"fill:#ff7f0e;stroke:#333333;\" x=\"100.400405\" xlink:href=\"#mbfb46d7eb2\" y=\"63.553489\"/>\n",
       "     <use style=\"fill:#ff7f0e;stroke:#333333;\" x=\"219.862038\" xlink:href=\"#mbfb46d7eb2\" y=\"211.350014\"/>\n",
       "     <use style=\"fill:#ff7f0e;stroke:#333333;\" x=\"130.59866\" xlink:href=\"#mbfb46d7eb2\" y=\"59.599027\"/>\n",
       "     <use style=\"fill:#ff7f0e;stroke:#333333;\" x=\"247.536058\" xlink:href=\"#mbfb46d7eb2\" y=\"217.196966\"/>\n",
       "     <use style=\"fill:#ff7f0e;stroke:#333333;\" x=\"214.797166\" xlink:href=\"#mbfb46d7eb2\" y=\"185.557909\"/>\n",
       "     <use style=\"fill:#ff7f0e;stroke:#333333;\" x=\"229.906907\" xlink:href=\"#mbfb46d7eb2\" y=\"173.017888\"/>\n",
       "     <use style=\"fill:#ff7f0e;stroke:#333333;\" x=\"65.731142\" xlink:href=\"#mbfb46d7eb2\" y=\"44.566804\"/>\n",
       "     <use style=\"fill:#ff7f0e;stroke:#333333;\" x=\"116.585574\" xlink:href=\"#mbfb46d7eb2\" y=\"45.533014\"/>\n",
       "     <use style=\"fill:#ff7f0e;stroke:#333333;\" x=\"96.4775\" xlink:href=\"#mbfb46d7eb2\" y=\"76.495825\"/>\n",
       "     <use style=\"fill:#ff7f0e;stroke:#333333;\" x=\"96.788387\" xlink:href=\"#mbfb46d7eb2\" y=\"42.091466\"/>\n",
       "     <use style=\"fill:#ff7f0e;stroke:#333333;\" x=\"75.708547\" xlink:href=\"#mbfb46d7eb2\" y=\"39.030573\"/>\n",
       "     <use style=\"fill:#ff7f0e;stroke:#333333;\" x=\"233.922057\" xlink:href=\"#mbfb46d7eb2\" y=\"201.757218\"/>\n",
       "     <use style=\"fill:#ff7f0e;stroke:#333333;\" x=\"216.28277\" xlink:href=\"#mbfb46d7eb2\" y=\"180.766731\"/>\n",
       "     <use style=\"fill:#ff7f0e;stroke:#333333;\" x=\"225.945553\" xlink:href=\"#mbfb46d7eb2\" y=\"182.832732\"/>\n",
       "     <use style=\"fill:#ff7f0e;stroke:#333333;\" x=\"107.888844\" xlink:href=\"#mbfb46d7eb2\" y=\"59.25904\"/>\n",
       "     <use style=\"fill:#ff7f0e;stroke:#333333;\" x=\"212.266314\" xlink:href=\"#mbfb46d7eb2\" y=\"192.147409\"/>\n",
       "     <use style=\"fill:#ff7f0e;stroke:#333333;\" x=\"257.089413\" xlink:href=\"#mbfb46d7eb2\" y=\"200.542537\"/>\n",
       "     <use style=\"fill:#ff7f0e;stroke:#333333;\" x=\"248.528097\" xlink:href=\"#mbfb46d7eb2\" y=\"198.107913\"/>\n",
       "     <use style=\"fill:#ff7f0e;stroke:#333333;\" x=\"223.275659\" xlink:href=\"#mbfb46d7eb2\" y=\"202.11576\"/>\n",
       "     <use style=\"fill:#ff7f0e;stroke:#333333;\" x=\"254.62465\" xlink:href=\"#mbfb46d7eb2\" y=\"176.456154\"/>\n",
       "     <use style=\"fill:#ff7f0e;stroke:#333333;\" x=\"83.200733\" xlink:href=\"#mbfb46d7eb2\" y=\"70.175377\"/>\n",
       "     <use style=\"fill:#ff7f0e;stroke:#333333;\" x=\"251.724096\" xlink:href=\"#mbfb46d7eb2\" y=\"179.390064\"/>\n",
       "     <use style=\"fill:#ff7f0e;stroke:#333333;\" x=\"110.819287\" xlink:href=\"#mbfb46d7eb2\" y=\"55.123203\"/>\n",
       "     <use style=\"fill:#ff7f0e;stroke:#333333;\" x=\"232.126351\" xlink:href=\"#mbfb46d7eb2\" y=\"178.669064\"/>\n",
       "     <use style=\"fill:#ff7f0e;stroke:#333333;\" x=\"68.497902\" xlink:href=\"#mbfb46d7eb2\" y=\"56.973626\"/>\n",
       "     <use style=\"fill:#ff7f0e;stroke:#333333;\" x=\"95.226666\" xlink:href=\"#mbfb46d7eb2\" y=\"66.120244\"/>\n",
       "     <use style=\"fill:#ff7f0e;stroke:#333333;\" x=\"223.392974\" xlink:href=\"#mbfb46d7eb2\" y=\"208.672634\"/>\n",
       "     <use style=\"fill:#ff7f0e;stroke:#333333;\" x=\"214.945261\" xlink:href=\"#mbfb46d7eb2\" y=\"183.133722\"/>\n",
       "     <use style=\"fill:#ff7f0e;stroke:#333333;\" x=\"100.205618\" xlink:href=\"#mbfb46d7eb2\" y=\"60.661631\"/>\n",
       "     <use style=\"fill:#ff7f0e;stroke:#333333;\" x=\"244.127174\" xlink:href=\"#mbfb46d7eb2\" y=\"183.85959\"/>\n",
       "     <use style=\"fill:#ff7f0e;stroke:#333333;\" x=\"100.782099\" xlink:href=\"#mbfb46d7eb2\" y=\"68.534007\"/>\n",
       "     <use style=\"fill:#ff7f0e;stroke:#333333;\" x=\"97.685973\" xlink:href=\"#mbfb46d7eb2\" y=\"71.284393\"/>\n",
       "     <use style=\"fill:#ff7f0e;stroke:#333333;\" x=\"261.24119\" xlink:href=\"#mbfb46d7eb2\" y=\"209.357586\"/>\n",
       "     <use style=\"fill:#ff7f0e;stroke:#333333;\" x=\"231.536281\" xlink:href=\"#mbfb46d7eb2\" y=\"180.074569\"/>\n",
       "     <use style=\"fill:#ff7f0e;stroke:#333333;\" x=\"84.432042\" xlink:href=\"#mbfb46d7eb2\" y=\"55.826098\"/>\n",
       "     <use style=\"fill:#ff7f0e;stroke:#333333;\" x=\"114.704427\" xlink:href=\"#mbfb46d7eb2\" y=\"57.881371\"/>\n",
       "     <use style=\"fill:#ff7f0e;stroke:#333333;\" x=\"118.139583\" xlink:href=\"#mbfb46d7eb2\" y=\"40.282525\"/>\n",
       "     <use style=\"fill:#ff7f0e;stroke:#333333;\" x=\"244.331312\" xlink:href=\"#mbfb46d7eb2\" y=\"206.328325\"/>\n",
       "     <use style=\"fill:#ff7f0e;stroke:#333333;\" x=\"84.937455\" xlink:href=\"#mbfb46d7eb2\" y=\"59.985039\"/>\n",
       "     <use style=\"fill:#ff7f0e;stroke:#333333;\" x=\"229.111028\" xlink:href=\"#mbfb46d7eb2\" y=\"185.254639\"/>\n",
       "     <use style=\"fill:#ff7f0e;stroke:#333333;\" x=\"99.865846\" xlink:href=\"#mbfb46d7eb2\" y=\"73.50443\"/>\n",
       "     <use style=\"fill:#ff7f0e;stroke:#333333;\" x=\"107.774522\" xlink:href=\"#mbfb46d7eb2\" y=\"50.128195\"/>\n",
       "     <use style=\"fill:#ff7f0e;stroke:#333333;\" x=\"106.681533\" xlink:href=\"#mbfb46d7eb2\" y=\"53.57626\"/>\n",
       "     <use style=\"fill:#ff7f0e;stroke:#333333;\" x=\"220.300095\" xlink:href=\"#mbfb46d7eb2\" y=\"186.154142\"/>\n",
       "     <use style=\"fill:#ff7f0e;stroke:#333333;\" x=\"84.93114\" xlink:href=\"#mbfb46d7eb2\" y=\"77.508109\"/>\n",
       "     <use style=\"fill:#ff7f0e;stroke:#333333;\" x=\"105.491498\" xlink:href=\"#mbfb46d7eb2\" y=\"48.161599\"/>\n",
       "     <use style=\"fill:#ff7f0e;stroke:#333333;\" x=\"212.017878\" xlink:href=\"#mbfb46d7eb2\" y=\"182.204423\"/>\n",
       "     <use style=\"fill:#ff7f0e;stroke:#333333;\" x=\"238.780524\" xlink:href=\"#mbfb46d7eb2\" y=\"210.592034\"/>\n",
       "     <use style=\"fill:#ff7f0e;stroke:#333333;\" x=\"102.920944\" xlink:href=\"#mbfb46d7eb2\" y=\"48.671279\"/>\n",
       "     <use style=\"fill:#ff7f0e;stroke:#333333;\" x=\"109.227118\" xlink:href=\"#mbfb46d7eb2\" y=\"67.791241\"/>\n",
       "     <use style=\"fill:#ff7f0e;stroke:#333333;\" x=\"218.916511\" xlink:href=\"#mbfb46d7eb2\" y=\"195.110735\"/>\n",
       "     <use style=\"fill:#ff7f0e;stroke:#333333;\" x=\"210.412471\" xlink:href=\"#mbfb46d7eb2\" y=\"197.807546\"/>\n",
       "     <use style=\"fill:#ff7f0e;stroke:#333333;\" x=\"106.409234\" xlink:href=\"#mbfb46d7eb2\" y=\"62.370039\"/>\n",
       "     <use style=\"fill:#ff7f0e;stroke:#333333;\" x=\"62.306392\" xlink:href=\"#mbfb46d7eb2\" y=\"69.539331\"/>\n",
       "     <use style=\"fill:#ff7f0e;stroke:#333333;\" x=\"91.834453\" xlink:href=\"#mbfb46d7eb2\" y=\"77.469177\"/>\n",
       "     <use style=\"fill:#ff7f0e;stroke:#333333;\" x=\"109.483259\" xlink:href=\"#mbfb46d7eb2\" y=\"52.116365\"/>\n",
       "     <use style=\"fill:#ff7f0e;stroke:#333333;\" x=\"87.52736\" xlink:href=\"#mbfb46d7eb2\" y=\"63.223243\"/>\n",
       "     <use style=\"fill:#ff7f0e;stroke:#333333;\" x=\"94.034599\" xlink:href=\"#mbfb46d7eb2\" y=\"55.768785\"/>\n",
       "     <use style=\"fill:#ff7f0e;stroke:#333333;\" x=\"110.113367\" xlink:href=\"#mbfb46d7eb2\" y=\"68.261083\"/>\n",
       "     <use style=\"fill:#ff7f0e;stroke:#333333;\" x=\"257.318305\" xlink:href=\"#mbfb46d7eb2\" y=\"202.317721\"/>\n",
       "     <use style=\"fill:#ff7f0e;stroke:#333333;\" x=\"79.762115\" xlink:href=\"#mbfb46d7eb2\" y=\"39.847979\"/>\n",
       "     <use style=\"fill:#ff7f0e;stroke:#333333;\" x=\"258.048499\" xlink:href=\"#mbfb46d7eb2\" y=\"185.012766\"/>\n",
       "     <use style=\"fill:#ff7f0e;stroke:#333333;\" x=\"244.789162\" xlink:href=\"#mbfb46d7eb2\" y=\"171.865302\"/>\n",
       "     <use style=\"fill:#ff7f0e;stroke:#333333;\" x=\"214.47439\" xlink:href=\"#mbfb46d7eb2\" y=\"211.299351\"/>\n",
       "     <use style=\"fill:#ff7f0e;stroke:#333333;\" x=\"218.387835\" xlink:href=\"#mbfb46d7eb2\" y=\"227.253664\"/>\n",
       "     <use style=\"fill:#ff7f0e;stroke:#333333;\" x=\"98.247032\" xlink:href=\"#mbfb46d7eb2\" y=\"41.347367\"/>\n",
       "     <use style=\"fill:#ff7f0e;stroke:#333333;\" x=\"221.09122\" xlink:href=\"#mbfb46d7eb2\" y=\"178.959826\"/>\n",
       "     <use style=\"fill:#ff7f0e;stroke:#333333;\" x=\"207.783237\" xlink:href=\"#mbfb46d7eb2\" y=\"165.02484\"/>\n",
       "     <use style=\"fill:#ff7f0e;stroke:#333333;\" x=\"84.486389\" xlink:href=\"#mbfb46d7eb2\" y=\"47.120304\"/>\n",
       "     <use style=\"fill:#ff7f0e;stroke:#333333;\" x=\"108.320496\" xlink:href=\"#mbfb46d7eb2\" y=\"59.847104\"/>\n",
       "     <use style=\"fill:#ff7f0e;stroke:#333333;\" x=\"247.02495\" xlink:href=\"#mbfb46d7eb2\" y=\"184.293941\"/>\n",
       "     <use style=\"fill:#ff7f0e;stroke:#333333;\" x=\"92.024123\" xlink:href=\"#mbfb46d7eb2\" y=\"51.399993\"/>\n",
       "     <use style=\"fill:#ff7f0e;stroke:#333333;\" x=\"103.976033\" xlink:href=\"#mbfb46d7eb2\" y=\"61.578541\"/>\n",
       "     <use style=\"fill:#ff7f0e;stroke:#333333;\" x=\"102.375453\" xlink:href=\"#mbfb46d7eb2\" y=\"64.816787\"/>\n",
       "     <use style=\"fill:#ff7f0e;stroke:#333333;\" x=\"230.527021\" xlink:href=\"#mbfb46d7eb2\" y=\"177.171327\"/>\n",
       "     <use style=\"fill:#ff7f0e;stroke:#333333;\" x=\"238.484799\" xlink:href=\"#mbfb46d7eb2\" y=\"167.950176\"/>\n",
       "     <use style=\"fill:#ff7f0e;stroke:#333333;\" x=\"247.340005\" xlink:href=\"#mbfb46d7eb2\" y=\"185.179964\"/>\n",
       "     <use style=\"fill:#ff7f0e;stroke:#333333;\" x=\"134.8086\" xlink:href=\"#mbfb46d7eb2\" y=\"59.304711\"/>\n",
       "     <use style=\"fill:#ff7f0e;stroke:#333333;\" x=\"213.726653\" xlink:href=\"#mbfb46d7eb2\" y=\"213.578161\"/>\n",
       "     <use style=\"fill:#ff7f0e;stroke:#333333;\" x=\"265.215483\" xlink:href=\"#mbfb46d7eb2\" y=\"212.626448\"/>\n",
       "     <use style=\"fill:#ff7f0e;stroke:#333333;\" x=\"226.839442\" xlink:href=\"#mbfb46d7eb2\" y=\"209.593202\"/>\n",
       "     <use style=\"fill:#ff7f0e;stroke:#333333;\" x=\"88.454985\" xlink:href=\"#mbfb46d7eb2\" y=\"69.802283\"/>\n",
       "     <use style=\"fill:#ff7f0e;stroke:#333333;\" x=\"86.200641\" xlink:href=\"#mbfb46d7eb2\" y=\"59.30147\"/>\n",
       "     <use style=\"fill:#ff7f0e;stroke:#333333;\" x=\"249.708568\" xlink:href=\"#mbfb46d7eb2\" y=\"212.467168\"/>\n",
       "     <use style=\"fill:#ff7f0e;stroke:#333333;\" x=\"86.639713\" xlink:href=\"#mbfb46d7eb2\" y=\"66.734504\"/>\n",
       "     <use style=\"fill:#ff7f0e;stroke:#333333;\" x=\"72.549088\" xlink:href=\"#mbfb46d7eb2\" y=\"61.78785\"/>\n",
       "     <use style=\"fill:#ff7f0e;stroke:#333333;\" x=\"116.327234\" xlink:href=\"#mbfb46d7eb2\" y=\"48.616483\"/>\n",
       "     <use style=\"fill:#ff7f0e;stroke:#333333;\" x=\"89.624632\" xlink:href=\"#mbfb46d7eb2\" y=\"51.591563\"/>\n",
       "     <use style=\"fill:#ff7f0e;stroke:#333333;\" x=\"257.369976\" xlink:href=\"#mbfb46d7eb2\" y=\"209.982902\"/>\n",
       "     <use style=\"fill:#ff7f0e;stroke:#333333;\" x=\"209.334228\" xlink:href=\"#mbfb46d7eb2\" y=\"191.955712\"/>\n",
       "     <use style=\"fill:#ff7f0e;stroke:#333333;\" x=\"98.138755\" xlink:href=\"#mbfb46d7eb2\" y=\"44.566278\"/>\n",
       "     <use style=\"fill:#ff7f0e;stroke:#333333;\" x=\"254.619078\" xlink:href=\"#mbfb46d7eb2\" y=\"207.56031\"/>\n",
       "    </g>\n",
       "   </g>\n",
       "   <g id=\"matplotlib.axis_1\">\n",
       "    <g id=\"xtick_1\">\n",
       "     <g id=\"line2d_1\">\n",
       "      <defs>\n",
       "       <path d=\"M 0 0 \n",
       "L 0 3.5 \n",
       "\" id=\"m257bae9f80\" style=\"stroke:#000000;stroke-width:0.8;\"/>\n",
       "      </defs>\n",
       "      <g>\n",
       "       <use style=\"stroke:#000000;stroke-width:0.8;\" x=\"62.596276\" xlink:href=\"#m257bae9f80\" y=\"239.758125\"/>\n",
       "      </g>\n",
       "     </g>\n",
       "     <g id=\"text_1\">\n",
       "      <!-- −0.25 -->\n",
       "      <g transform=\"translate(47.27362 254.356562)scale(0.1 -0.1)\">\n",
       "       <defs>\n",
       "        <path d=\"M 678 2272 \n",
       "L 4684 2272 \n",
       "L 4684 1741 \n",
       "L 678 1741 \n",
       "L 678 2272 \n",
       "z\n",
       "\" id=\"DejaVuSans-2212\" transform=\"scale(0.015625)\"/>\n",
       "        <path d=\"M 2034 4250 \n",
       "Q 1547 4250 1301 3770 \n",
       "Q 1056 3291 1056 2328 \n",
       "Q 1056 1369 1301 889 \n",
       "Q 1547 409 2034 409 \n",
       "Q 2525 409 2770 889 \n",
       "Q 3016 1369 3016 2328 \n",
       "Q 3016 3291 2770 3770 \n",
       "Q 2525 4250 2034 4250 \n",
       "z\n",
       "M 2034 4750 \n",
       "Q 2819 4750 3233 4129 \n",
       "Q 3647 3509 3647 2328 \n",
       "Q 3647 1150 3233 529 \n",
       "Q 2819 -91 2034 -91 \n",
       "Q 1250 -91 836 529 \n",
       "Q 422 1150 422 2328 \n",
       "Q 422 3509 836 4129 \n",
       "Q 1250 4750 2034 4750 \n",
       "z\n",
       "\" id=\"DejaVuSans-30\" transform=\"scale(0.015625)\"/>\n",
       "        <path d=\"M 684 794 \n",
       "L 1344 794 \n",
       "L 1344 0 \n",
       "L 684 0 \n",
       "L 684 794 \n",
       "z\n",
       "\" id=\"DejaVuSans-2e\" transform=\"scale(0.015625)\"/>\n",
       "        <path d=\"M 1228 531 \n",
       "L 3431 531 \n",
       "L 3431 0 \n",
       "L 469 0 \n",
       "L 469 531 \n",
       "Q 828 903 1448 1529 \n",
       "Q 2069 2156 2228 2338 \n",
       "Q 2531 2678 2651 2914 \n",
       "Q 2772 3150 2772 3378 \n",
       "Q 2772 3750 2511 3984 \n",
       "Q 2250 4219 1831 4219 \n",
       "Q 1534 4219 1204 4116 \n",
       "Q 875 4013 500 3803 \n",
       "L 500 4441 \n",
       "Q 881 4594 1212 4672 \n",
       "Q 1544 4750 1819 4750 \n",
       "Q 2544 4750 2975 4387 \n",
       "Q 3406 4025 3406 3419 \n",
       "Q 3406 3131 3298 2873 \n",
       "Q 3191 2616 2906 2266 \n",
       "Q 2828 2175 2409 1742 \n",
       "Q 1991 1309 1228 531 \n",
       "z\n",
       "\" id=\"DejaVuSans-32\" transform=\"scale(0.015625)\"/>\n",
       "        <path d=\"M 691 4666 \n",
       "L 3169 4666 \n",
       "L 3169 4134 \n",
       "L 1269 4134 \n",
       "L 1269 2991 \n",
       "Q 1406 3038 1543 3061 \n",
       "Q 1681 3084 1819 3084 \n",
       "Q 2600 3084 3056 2656 \n",
       "Q 3513 2228 3513 1497 \n",
       "Q 3513 744 3044 326 \n",
       "Q 2575 -91 1722 -91 \n",
       "Q 1428 -91 1123 -41 \n",
       "Q 819 9 494 109 \n",
       "L 494 744 \n",
       "Q 775 591 1075 516 \n",
       "Q 1375 441 1709 441 \n",
       "Q 2250 441 2565 725 \n",
       "Q 2881 1009 2881 1497 \n",
       "Q 2881 1984 2565 2268 \n",
       "Q 2250 2553 1709 2553 \n",
       "Q 1456 2553 1204 2497 \n",
       "Q 953 2441 691 2322 \n",
       "L 691 4666 \n",
       "z\n",
       "\" id=\"DejaVuSans-35\" transform=\"scale(0.015625)\"/>\n",
       "       </defs>\n",
       "       <use xlink:href=\"#DejaVuSans-2212\"/>\n",
       "       <use x=\"83.789062\" xlink:href=\"#DejaVuSans-30\"/>\n",
       "       <use x=\"147.412109\" xlink:href=\"#DejaVuSans-2e\"/>\n",
       "       <use x=\"179.199219\" xlink:href=\"#DejaVuSans-32\"/>\n",
       "       <use x=\"242.822266\" xlink:href=\"#DejaVuSans-35\"/>\n",
       "      </g>\n",
       "     </g>\n",
       "    </g>\n",
       "    <g id=\"xtick_2\">\n",
       "     <g id=\"line2d_2\">\n",
       "      <g>\n",
       "       <use style=\"stroke:#000000;stroke-width:0.8;\" x=\"97.272305\" xlink:href=\"#m257bae9f80\" y=\"239.758125\"/>\n",
       "      </g>\n",
       "     </g>\n",
       "     <g id=\"text_2\">\n",
       "      <!-- 0.00 -->\n",
       "      <g transform=\"translate(86.139492 254.356562)scale(0.1 -0.1)\">\n",
       "       <use xlink:href=\"#DejaVuSans-30\"/>\n",
       "       <use x=\"63.623047\" xlink:href=\"#DejaVuSans-2e\"/>\n",
       "       <use x=\"95.410156\" xlink:href=\"#DejaVuSans-30\"/>\n",
       "       <use x=\"159.033203\" xlink:href=\"#DejaVuSans-30\"/>\n",
       "      </g>\n",
       "     </g>\n",
       "    </g>\n",
       "    <g id=\"xtick_3\">\n",
       "     <g id=\"line2d_3\">\n",
       "      <g>\n",
       "       <use style=\"stroke:#000000;stroke-width:0.8;\" x=\"131.948333\" xlink:href=\"#m257bae9f80\" y=\"239.758125\"/>\n",
       "      </g>\n",
       "     </g>\n",
       "     <g id=\"text_3\">\n",
       "      <!-- 0.25 -->\n",
       "      <g transform=\"translate(120.81552 254.356562)scale(0.1 -0.1)\">\n",
       "       <use xlink:href=\"#DejaVuSans-30\"/>\n",
       "       <use x=\"63.623047\" xlink:href=\"#DejaVuSans-2e\"/>\n",
       "       <use x=\"95.410156\" xlink:href=\"#DejaVuSans-32\"/>\n",
       "       <use x=\"159.033203\" xlink:href=\"#DejaVuSans-35\"/>\n",
       "      </g>\n",
       "     </g>\n",
       "    </g>\n",
       "    <g id=\"xtick_4\">\n",
       "     <g id=\"line2d_4\">\n",
       "      <g>\n",
       "       <use style=\"stroke:#000000;stroke-width:0.8;\" x=\"166.624361\" xlink:href=\"#m257bae9f80\" y=\"239.758125\"/>\n",
       "      </g>\n",
       "     </g>\n",
       "     <g id=\"text_4\">\n",
       "      <!-- 0.50 -->\n",
       "      <g transform=\"translate(155.491548 254.356562)scale(0.1 -0.1)\">\n",
       "       <use xlink:href=\"#DejaVuSans-30\"/>\n",
       "       <use x=\"63.623047\" xlink:href=\"#DejaVuSans-2e\"/>\n",
       "       <use x=\"95.410156\" xlink:href=\"#DejaVuSans-35\"/>\n",
       "       <use x=\"159.033203\" xlink:href=\"#DejaVuSans-30\"/>\n",
       "      </g>\n",
       "     </g>\n",
       "    </g>\n",
       "    <g id=\"xtick_5\">\n",
       "     <g id=\"line2d_5\">\n",
       "      <g>\n",
       "       <use style=\"stroke:#000000;stroke-width:0.8;\" x=\"201.300389\" xlink:href=\"#m257bae9f80\" y=\"239.758125\"/>\n",
       "      </g>\n",
       "     </g>\n",
       "     <g id=\"text_5\">\n",
       "      <!-- 0.75 -->\n",
       "      <g transform=\"translate(190.167577 254.356562)scale(0.1 -0.1)\">\n",
       "       <defs>\n",
       "        <path d=\"M 525 4666 \n",
       "L 3525 4666 \n",
       "L 3525 4397 \n",
       "L 1831 0 \n",
       "L 1172 0 \n",
       "L 2766 4134 \n",
       "L 525 4134 \n",
       "L 525 4666 \n",
       "z\n",
       "\" id=\"DejaVuSans-37\" transform=\"scale(0.015625)\"/>\n",
       "       </defs>\n",
       "       <use xlink:href=\"#DejaVuSans-30\"/>\n",
       "       <use x=\"63.623047\" xlink:href=\"#DejaVuSans-2e\"/>\n",
       "       <use x=\"95.410156\" xlink:href=\"#DejaVuSans-37\"/>\n",
       "       <use x=\"159.033203\" xlink:href=\"#DejaVuSans-35\"/>\n",
       "      </g>\n",
       "     </g>\n",
       "    </g>\n",
       "    <g id=\"xtick_6\">\n",
       "     <g id=\"line2d_6\">\n",
       "      <g>\n",
       "       <use style=\"stroke:#000000;stroke-width:0.8;\" x=\"235.976417\" xlink:href=\"#m257bae9f80\" y=\"239.758125\"/>\n",
       "      </g>\n",
       "     </g>\n",
       "     <g id=\"text_6\">\n",
       "      <!-- 1.00 -->\n",
       "      <g transform=\"translate(224.843605 254.356562)scale(0.1 -0.1)\">\n",
       "       <defs>\n",
       "        <path d=\"M 794 531 \n",
       "L 1825 531 \n",
       "L 1825 4091 \n",
       "L 703 3866 \n",
       "L 703 4441 \n",
       "L 1819 4666 \n",
       "L 2450 4666 \n",
       "L 2450 531 \n",
       "L 3481 531 \n",
       "L 3481 0 \n",
       "L 794 0 \n",
       "L 794 531 \n",
       "z\n",
       "\" id=\"DejaVuSans-31\" transform=\"scale(0.015625)\"/>\n",
       "       </defs>\n",
       "       <use xlink:href=\"#DejaVuSans-31\"/>\n",
       "       <use x=\"63.623047\" xlink:href=\"#DejaVuSans-2e\"/>\n",
       "       <use x=\"95.410156\" xlink:href=\"#DejaVuSans-30\"/>\n",
       "       <use x=\"159.033203\" xlink:href=\"#DejaVuSans-30\"/>\n",
       "      </g>\n",
       "     </g>\n",
       "    </g>\n",
       "    <g id=\"xtick_7\">\n",
       "     <g id=\"line2d_7\">\n",
       "      <g>\n",
       "       <use style=\"stroke:#000000;stroke-width:0.8;\" x=\"270.652446\" xlink:href=\"#m257bae9f80\" y=\"239.758125\"/>\n",
       "      </g>\n",
       "     </g>\n",
       "     <g id=\"text_7\">\n",
       "      <!-- 1.25 -->\n",
       "      <g transform=\"translate(259.519633 254.356562)scale(0.1 -0.1)\">\n",
       "       <use xlink:href=\"#DejaVuSans-31\"/>\n",
       "       <use x=\"63.623047\" xlink:href=\"#DejaVuSans-2e\"/>\n",
       "       <use x=\"95.410156\" xlink:href=\"#DejaVuSans-32\"/>\n",
       "       <use x=\"159.033203\" xlink:href=\"#DejaVuSans-35\"/>\n",
       "      </g>\n",
       "     </g>\n",
       "    </g>\n",
       "    <g id=\"text_8\">\n",
       "     <!-- $x_1$ -->\n",
       "     <g transform=\"translate(158.410938 268.034687)scale(0.1 -0.1)\">\n",
       "      <defs>\n",
       "       <path d=\"M 3841 3500 \n",
       "L 2234 1784 \n",
       "L 3219 0 \n",
       "L 2559 0 \n",
       "L 1819 1388 \n",
       "L 531 0 \n",
       "L -166 0 \n",
       "L 1556 1844 \n",
       "L 641 3500 \n",
       "L 1300 3500 \n",
       "L 1972 2234 \n",
       "L 3144 3500 \n",
       "L 3841 3500 \n",
       "z\n",
       "\" id=\"DejaVuSans-Oblique-78\" transform=\"scale(0.015625)\"/>\n",
       "      </defs>\n",
       "      <use transform=\"translate(0 0.3125)\" xlink:href=\"#DejaVuSans-Oblique-78\"/>\n",
       "      <use transform=\"translate(59.179688 -16.09375)scale(0.7)\" xlink:href=\"#DejaVuSans-31\"/>\n",
       "     </g>\n",
       "    </g>\n",
       "   </g>\n",
       "   <g id=\"matplotlib.axis_2\">\n",
       "    <g id=\"ytick_1\">\n",
       "     <g id=\"line2d_8\">\n",
       "      <defs>\n",
       "       <path d=\"M 0 0 \n",
       "L -3.5 0 \n",
       "\" id=\"mef6ac926ad\" style=\"stroke:#000000;stroke-width:0.8;\"/>\n",
       "      </defs>\n",
       "      <g>\n",
       "       <use style=\"stroke:#000000;stroke-width:0.8;\" x=\"52.160938\" xlink:href=\"#mef6ac926ad\" y=\"223.94267\"/>\n",
       "      </g>\n",
       "     </g>\n",
       "     <g id=\"text_9\">\n",
       "      <!-- −0.2 -->\n",
       "      <g transform=\"translate(20.878125 227.741889)scale(0.1 -0.1)\">\n",
       "       <use xlink:href=\"#DejaVuSans-2212\"/>\n",
       "       <use x=\"83.789062\" xlink:href=\"#DejaVuSans-30\"/>\n",
       "       <use x=\"147.412109\" xlink:href=\"#DejaVuSans-2e\"/>\n",
       "       <use x=\"179.199219\" xlink:href=\"#DejaVuSans-32\"/>\n",
       "      </g>\n",
       "     </g>\n",
       "    </g>\n",
       "    <g id=\"ytick_2\">\n",
       "     <g id=\"line2d_9\">\n",
       "      <g>\n",
       "       <use style=\"stroke:#000000;stroke-width:0.8;\" x=\"52.160938\" xlink:href=\"#mef6ac926ad\" y=\"196.335617\"/>\n",
       "      </g>\n",
       "     </g>\n",
       "     <g id=\"text_10\">\n",
       "      <!-- 0.0 -->\n",
       "      <g transform=\"translate(29.257812 200.134836)scale(0.1 -0.1)\">\n",
       "       <use xlink:href=\"#DejaVuSans-30\"/>\n",
       "       <use x=\"63.623047\" xlink:href=\"#DejaVuSans-2e\"/>\n",
       "       <use x=\"95.410156\" xlink:href=\"#DejaVuSans-30\"/>\n",
       "      </g>\n",
       "     </g>\n",
       "    </g>\n",
       "    <g id=\"ytick_3\">\n",
       "     <g id=\"line2d_10\">\n",
       "      <g>\n",
       "       <use style=\"stroke:#000000;stroke-width:0.8;\" x=\"52.160938\" xlink:href=\"#mef6ac926ad\" y=\"168.728564\"/>\n",
       "      </g>\n",
       "     </g>\n",
       "     <g id=\"text_11\">\n",
       "      <!-- 0.2 -->\n",
       "      <g transform=\"translate(29.257812 172.527783)scale(0.1 -0.1)\">\n",
       "       <use xlink:href=\"#DejaVuSans-30\"/>\n",
       "       <use x=\"63.623047\" xlink:href=\"#DejaVuSans-2e\"/>\n",
       "       <use x=\"95.410156\" xlink:href=\"#DejaVuSans-32\"/>\n",
       "      </g>\n",
       "     </g>\n",
       "    </g>\n",
       "    <g id=\"ytick_4\">\n",
       "     <g id=\"line2d_11\">\n",
       "      <g>\n",
       "       <use style=\"stroke:#000000;stroke-width:0.8;\" x=\"52.160938\" xlink:href=\"#mef6ac926ad\" y=\"141.12151\"/>\n",
       "      </g>\n",
       "     </g>\n",
       "     <g id=\"text_12\">\n",
       "      <!-- 0.4 -->\n",
       "      <g transform=\"translate(29.257812 144.920729)scale(0.1 -0.1)\">\n",
       "       <defs>\n",
       "        <path d=\"M 2419 4116 \n",
       "L 825 1625 \n",
       "L 2419 1625 \n",
       "L 2419 4116 \n",
       "z\n",
       "M 2253 4666 \n",
       "L 3047 4666 \n",
       "L 3047 1625 \n",
       "L 3713 1625 \n",
       "L 3713 1100 \n",
       "L 3047 1100 \n",
       "L 3047 0 \n",
       "L 2419 0 \n",
       "L 2419 1100 \n",
       "L 313 1100 \n",
       "L 313 1709 \n",
       "L 2253 4666 \n",
       "z\n",
       "\" id=\"DejaVuSans-34\" transform=\"scale(0.015625)\"/>\n",
       "       </defs>\n",
       "       <use xlink:href=\"#DejaVuSans-30\"/>\n",
       "       <use x=\"63.623047\" xlink:href=\"#DejaVuSans-2e\"/>\n",
       "       <use x=\"95.410156\" xlink:href=\"#DejaVuSans-34\"/>\n",
       "      </g>\n",
       "     </g>\n",
       "    </g>\n",
       "    <g id=\"ytick_5\">\n",
       "     <g id=\"line2d_12\">\n",
       "      <g>\n",
       "       <use style=\"stroke:#000000;stroke-width:0.8;\" x=\"52.160938\" xlink:href=\"#mef6ac926ad\" y=\"113.514457\"/>\n",
       "      </g>\n",
       "     </g>\n",
       "     <g id=\"text_13\">\n",
       "      <!-- 0.6 -->\n",
       "      <g transform=\"translate(29.257812 117.313676)scale(0.1 -0.1)\">\n",
       "       <defs>\n",
       "        <path d=\"M 2113 2584 \n",
       "Q 1688 2584 1439 2293 \n",
       "Q 1191 2003 1191 1497 \n",
       "Q 1191 994 1439 701 \n",
       "Q 1688 409 2113 409 \n",
       "Q 2538 409 2786 701 \n",
       "Q 3034 994 3034 1497 \n",
       "Q 3034 2003 2786 2293 \n",
       "Q 2538 2584 2113 2584 \n",
       "z\n",
       "M 3366 4563 \n",
       "L 3366 3988 \n",
       "Q 3128 4100 2886 4159 \n",
       "Q 2644 4219 2406 4219 \n",
       "Q 1781 4219 1451 3797 \n",
       "Q 1122 3375 1075 2522 \n",
       "Q 1259 2794 1537 2939 \n",
       "Q 1816 3084 2150 3084 \n",
       "Q 2853 3084 3261 2657 \n",
       "Q 3669 2231 3669 1497 \n",
       "Q 3669 778 3244 343 \n",
       "Q 2819 -91 2113 -91 \n",
       "Q 1303 -91 875 529 \n",
       "Q 447 1150 447 2328 \n",
       "Q 447 3434 972 4092 \n",
       "Q 1497 4750 2381 4750 \n",
       "Q 2619 4750 2861 4703 \n",
       "Q 3103 4656 3366 4563 \n",
       "z\n",
       "\" id=\"DejaVuSans-36\" transform=\"scale(0.015625)\"/>\n",
       "       </defs>\n",
       "       <use xlink:href=\"#DejaVuSans-30\"/>\n",
       "       <use x=\"63.623047\" xlink:href=\"#DejaVuSans-2e\"/>\n",
       "       <use x=\"95.410156\" xlink:href=\"#DejaVuSans-36\"/>\n",
       "      </g>\n",
       "     </g>\n",
       "    </g>\n",
       "    <g id=\"ytick_6\">\n",
       "     <g id=\"line2d_13\">\n",
       "      <g>\n",
       "       <use style=\"stroke:#000000;stroke-width:0.8;\" x=\"52.160938\" xlink:href=\"#mef6ac926ad\" y=\"85.907404\"/>\n",
       "      </g>\n",
       "     </g>\n",
       "     <g id=\"text_14\">\n",
       "      <!-- 0.8 -->\n",
       "      <g transform=\"translate(29.257812 89.706623)scale(0.1 -0.1)\">\n",
       "       <defs>\n",
       "        <path d=\"M 2034 2216 \n",
       "Q 1584 2216 1326 1975 \n",
       "Q 1069 1734 1069 1313 \n",
       "Q 1069 891 1326 650 \n",
       "Q 1584 409 2034 409 \n",
       "Q 2484 409 2743 651 \n",
       "Q 3003 894 3003 1313 \n",
       "Q 3003 1734 2745 1975 \n",
       "Q 2488 2216 2034 2216 \n",
       "z\n",
       "M 1403 2484 \n",
       "Q 997 2584 770 2862 \n",
       "Q 544 3141 544 3541 \n",
       "Q 544 4100 942 4425 \n",
       "Q 1341 4750 2034 4750 \n",
       "Q 2731 4750 3128 4425 \n",
       "Q 3525 4100 3525 3541 \n",
       "Q 3525 3141 3298 2862 \n",
       "Q 3072 2584 2669 2484 \n",
       "Q 3125 2378 3379 2068 \n",
       "Q 3634 1759 3634 1313 \n",
       "Q 3634 634 3220 271 \n",
       "Q 2806 -91 2034 -91 \n",
       "Q 1263 -91 848 271 \n",
       "Q 434 634 434 1313 \n",
       "Q 434 1759 690 2068 \n",
       "Q 947 2378 1403 2484 \n",
       "z\n",
       "M 1172 3481 \n",
       "Q 1172 3119 1398 2916 \n",
       "Q 1625 2713 2034 2713 \n",
       "Q 2441 2713 2670 2916 \n",
       "Q 2900 3119 2900 3481 \n",
       "Q 2900 3844 2670 4047 \n",
       "Q 2441 4250 2034 4250 \n",
       "Q 1625 4250 1398 4047 \n",
       "Q 1172 3844 1172 3481 \n",
       "z\n",
       "\" id=\"DejaVuSans-38\" transform=\"scale(0.015625)\"/>\n",
       "       </defs>\n",
       "       <use xlink:href=\"#DejaVuSans-30\"/>\n",
       "       <use x=\"63.623047\" xlink:href=\"#DejaVuSans-2e\"/>\n",
       "       <use x=\"95.410156\" xlink:href=\"#DejaVuSans-38\"/>\n",
       "      </g>\n",
       "     </g>\n",
       "    </g>\n",
       "    <g id=\"ytick_7\">\n",
       "     <g id=\"line2d_14\">\n",
       "      <g>\n",
       "       <use style=\"stroke:#000000;stroke-width:0.8;\" x=\"52.160938\" xlink:href=\"#mef6ac926ad\" y=\"58.300351\"/>\n",
       "      </g>\n",
       "     </g>\n",
       "     <g id=\"text_15\">\n",
       "      <!-- 1.0 -->\n",
       "      <g transform=\"translate(29.257812 62.099569)scale(0.1 -0.1)\">\n",
       "       <use xlink:href=\"#DejaVuSans-31\"/>\n",
       "       <use x=\"63.623047\" xlink:href=\"#DejaVuSans-2e\"/>\n",
       "       <use x=\"95.410156\" xlink:href=\"#DejaVuSans-30\"/>\n",
       "      </g>\n",
       "     </g>\n",
       "    </g>\n",
       "    <g id=\"ytick_8\">\n",
       "     <g id=\"line2d_15\">\n",
       "      <g>\n",
       "       <use style=\"stroke:#000000;stroke-width:0.8;\" x=\"52.160938\" xlink:href=\"#mef6ac926ad\" y=\"30.693297\"/>\n",
       "      </g>\n",
       "     </g>\n",
       "     <g id=\"text_16\">\n",
       "      <!-- 1.2 -->\n",
       "      <g transform=\"translate(29.257812 34.492516)scale(0.1 -0.1)\">\n",
       "       <use xlink:href=\"#DejaVuSans-31\"/>\n",
       "       <use x=\"63.623047\" xlink:href=\"#DejaVuSans-2e\"/>\n",
       "       <use x=\"95.410156\" xlink:href=\"#DejaVuSans-32\"/>\n",
       "      </g>\n",
       "     </g>\n",
       "    </g>\n",
       "    <g id=\"text_17\">\n",
       "     <!-- $x_2$ -->\n",
       "     <g transform=\"translate(14.798438 136.388125)rotate(-90)scale(0.1 -0.1)\">\n",
       "      <use transform=\"translate(0 0.3125)\" xlink:href=\"#DejaVuSans-Oblique-78\"/>\n",
       "      <use transform=\"translate(59.179688 -16.09375)scale(0.7)\" xlink:href=\"#DejaVuSans-32\"/>\n",
       "     </g>\n",
       "    </g>\n",
       "   </g>\n",
       "   <g id=\"patch_3\">\n",
       "    <path d=\"M 52.160938 239.758125 \n",
       "L 52.160938 22.318125 \n",
       "\" style=\"fill:none;stroke:#000000;stroke-linecap:square;stroke-linejoin:miter;stroke-width:0.8;\"/>\n",
       "   </g>\n",
       "   <g id=\"patch_4\">\n",
       "    <path d=\"M 275.360937 239.758125 \n",
       "L 275.360937 22.318125 \n",
       "\" style=\"fill:none;stroke:#000000;stroke-linecap:square;stroke-linejoin:miter;stroke-width:0.8;\"/>\n",
       "   </g>\n",
       "   <g id=\"patch_5\">\n",
       "    <path d=\"M 52.160937 239.758125 \n",
       "L 275.360937 239.758125 \n",
       "\" style=\"fill:none;stroke:#000000;stroke-linecap:square;stroke-linejoin:miter;stroke-width:0.8;\"/>\n",
       "   </g>\n",
       "   <g id=\"patch_6\">\n",
       "    <path d=\"M 52.160937 22.318125 \n",
       "L 275.360937 22.318125 \n",
       "\" style=\"fill:none;stroke:#000000;stroke-linecap:square;stroke-linejoin:miter;stroke-width:0.8;\"/>\n",
       "   </g>\n",
       "   <g id=\"text_18\">\n",
       "    <!-- Dataset samples -->\n",
       "    <g transform=\"translate(113.418125 16.318125)scale(0.12 -0.12)\">\n",
       "     <defs>\n",
       "      <path d=\"M 1259 4147 \n",
       "L 1259 519 \n",
       "L 2022 519 \n",
       "Q 2988 519 3436 956 \n",
       "Q 3884 1394 3884 2338 \n",
       "Q 3884 3275 3436 3711 \n",
       "Q 2988 4147 2022 4147 \n",
       "L 1259 4147 \n",
       "z\n",
       "M 628 4666 \n",
       "L 1925 4666 \n",
       "Q 3281 4666 3915 4102 \n",
       "Q 4550 3538 4550 2338 \n",
       "Q 4550 1131 3912 565 \n",
       "Q 3275 0 1925 0 \n",
       "L 628 0 \n",
       "L 628 4666 \n",
       "z\n",
       "\" id=\"DejaVuSans-44\" transform=\"scale(0.015625)\"/>\n",
       "      <path d=\"M 2194 1759 \n",
       "Q 1497 1759 1228 1600 \n",
       "Q 959 1441 959 1056 \n",
       "Q 959 750 1161 570 \n",
       "Q 1363 391 1709 391 \n",
       "Q 2188 391 2477 730 \n",
       "Q 2766 1069 2766 1631 \n",
       "L 2766 1759 \n",
       "L 2194 1759 \n",
       "z\n",
       "M 3341 1997 \n",
       "L 3341 0 \n",
       "L 2766 0 \n",
       "L 2766 531 \n",
       "Q 2569 213 2275 61 \n",
       "Q 1981 -91 1556 -91 \n",
       "Q 1019 -91 701 211 \n",
       "Q 384 513 384 1019 \n",
       "Q 384 1609 779 1909 \n",
       "Q 1175 2209 1959 2209 \n",
       "L 2766 2209 \n",
       "L 2766 2266 \n",
       "Q 2766 2663 2505 2880 \n",
       "Q 2244 3097 1772 3097 \n",
       "Q 1472 3097 1187 3025 \n",
       "Q 903 2953 641 2809 \n",
       "L 641 3341 \n",
       "Q 956 3463 1253 3523 \n",
       "Q 1550 3584 1831 3584 \n",
       "Q 2591 3584 2966 3190 \n",
       "Q 3341 2797 3341 1997 \n",
       "z\n",
       "\" id=\"DejaVuSans-61\" transform=\"scale(0.015625)\"/>\n",
       "      <path d=\"M 1172 4494 \n",
       "L 1172 3500 \n",
       "L 2356 3500 \n",
       "L 2356 3053 \n",
       "L 1172 3053 \n",
       "L 1172 1153 \n",
       "Q 1172 725 1289 603 \n",
       "Q 1406 481 1766 481 \n",
       "L 2356 481 \n",
       "L 2356 0 \n",
       "L 1766 0 \n",
       "Q 1100 0 847 248 \n",
       "Q 594 497 594 1153 \n",
       "L 594 3053 \n",
       "L 172 3053 \n",
       "L 172 3500 \n",
       "L 594 3500 \n",
       "L 594 4494 \n",
       "L 1172 4494 \n",
       "z\n",
       "\" id=\"DejaVuSans-74\" transform=\"scale(0.015625)\"/>\n",
       "      <path d=\"M 2834 3397 \n",
       "L 2834 2853 \n",
       "Q 2591 2978 2328 3040 \n",
       "Q 2066 3103 1784 3103 \n",
       "Q 1356 3103 1142 2972 \n",
       "Q 928 2841 928 2578 \n",
       "Q 928 2378 1081 2264 \n",
       "Q 1234 2150 1697 2047 \n",
       "L 1894 2003 \n",
       "Q 2506 1872 2764 1633 \n",
       "Q 3022 1394 3022 966 \n",
       "Q 3022 478 2636 193 \n",
       "Q 2250 -91 1575 -91 \n",
       "Q 1294 -91 989 -36 \n",
       "Q 684 19 347 128 \n",
       "L 347 722 \n",
       "Q 666 556 975 473 \n",
       "Q 1284 391 1588 391 \n",
       "Q 1994 391 2212 530 \n",
       "Q 2431 669 2431 922 \n",
       "Q 2431 1156 2273 1281 \n",
       "Q 2116 1406 1581 1522 \n",
       "L 1381 1569 \n",
       "Q 847 1681 609 1914 \n",
       "Q 372 2147 372 2553 \n",
       "Q 372 3047 722 3315 \n",
       "Q 1072 3584 1716 3584 \n",
       "Q 2034 3584 2315 3537 \n",
       "Q 2597 3491 2834 3397 \n",
       "z\n",
       "\" id=\"DejaVuSans-73\" transform=\"scale(0.015625)\"/>\n",
       "      <path d=\"M 3597 1894 \n",
       "L 3597 1613 \n",
       "L 953 1613 \n",
       "Q 991 1019 1311 708 \n",
       "Q 1631 397 2203 397 \n",
       "Q 2534 397 2845 478 \n",
       "Q 3156 559 3463 722 \n",
       "L 3463 178 \n",
       "Q 3153 47 2828 -22 \n",
       "Q 2503 -91 2169 -91 \n",
       "Q 1331 -91 842 396 \n",
       "Q 353 884 353 1716 \n",
       "Q 353 2575 817 3079 \n",
       "Q 1281 3584 2069 3584 \n",
       "Q 2775 3584 3186 3129 \n",
       "Q 3597 2675 3597 1894 \n",
       "z\n",
       "M 3022 2063 \n",
       "Q 3016 2534 2758 2815 \n",
       "Q 2500 3097 2075 3097 \n",
       "Q 1594 3097 1305 2825 \n",
       "Q 1016 2553 972 2059 \n",
       "L 3022 2063 \n",
       "z\n",
       "\" id=\"DejaVuSans-65\" transform=\"scale(0.015625)\"/>\n",
       "      <path id=\"DejaVuSans-20\" transform=\"scale(0.015625)\"/>\n",
       "      <path d=\"M 3328 2828 \n",
       "Q 3544 3216 3844 3400 \n",
       "Q 4144 3584 4550 3584 \n",
       "Q 5097 3584 5394 3201 \n",
       "Q 5691 2819 5691 2113 \n",
       "L 5691 0 \n",
       "L 5113 0 \n",
       "L 5113 2094 \n",
       "Q 5113 2597 4934 2840 \n",
       "Q 4756 3084 4391 3084 \n",
       "Q 3944 3084 3684 2787 \n",
       "Q 3425 2491 3425 1978 \n",
       "L 3425 0 \n",
       "L 2847 0 \n",
       "L 2847 2094 \n",
       "Q 2847 2600 2669 2842 \n",
       "Q 2491 3084 2119 3084 \n",
       "Q 1678 3084 1418 2786 \n",
       "Q 1159 2488 1159 1978 \n",
       "L 1159 0 \n",
       "L 581 0 \n",
       "L 581 3500 \n",
       "L 1159 3500 \n",
       "L 1159 2956 \n",
       "Q 1356 3278 1631 3431 \n",
       "Q 1906 3584 2284 3584 \n",
       "Q 2666 3584 2933 3390 \n",
       "Q 3200 3197 3328 2828 \n",
       "z\n",
       "\" id=\"DejaVuSans-6d\" transform=\"scale(0.015625)\"/>\n",
       "      <path d=\"M 1159 525 \n",
       "L 1159 -1331 \n",
       "L 581 -1331 \n",
       "L 581 3500 \n",
       "L 1159 3500 \n",
       "L 1159 2969 \n",
       "Q 1341 3281 1617 3432 \n",
       "Q 1894 3584 2278 3584 \n",
       "Q 2916 3584 3314 3078 \n",
       "Q 3713 2572 3713 1747 \n",
       "Q 3713 922 3314 415 \n",
       "Q 2916 -91 2278 -91 \n",
       "Q 1894 -91 1617 61 \n",
       "Q 1341 213 1159 525 \n",
       "z\n",
       "M 3116 1747 \n",
       "Q 3116 2381 2855 2742 \n",
       "Q 2594 3103 2138 3103 \n",
       "Q 1681 3103 1420 2742 \n",
       "Q 1159 2381 1159 1747 \n",
       "Q 1159 1113 1420 752 \n",
       "Q 1681 391 2138 391 \n",
       "Q 2594 391 2855 752 \n",
       "Q 3116 1113 3116 1747 \n",
       "z\n",
       "\" id=\"DejaVuSans-70\" transform=\"scale(0.015625)\"/>\n",
       "      <path d=\"M 603 4863 \n",
       "L 1178 4863 \n",
       "L 1178 0 \n",
       "L 603 0 \n",
       "L 603 4863 \n",
       "z\n",
       "\" id=\"DejaVuSans-6c\" transform=\"scale(0.015625)\"/>\n",
       "     </defs>\n",
       "     <use xlink:href=\"#DejaVuSans-44\"/>\n",
       "     <use x=\"77.001953\" xlink:href=\"#DejaVuSans-61\"/>\n",
       "     <use x=\"138.28125\" xlink:href=\"#DejaVuSans-74\"/>\n",
       "     <use x=\"177.490234\" xlink:href=\"#DejaVuSans-61\"/>\n",
       "     <use x=\"238.769531\" xlink:href=\"#DejaVuSans-73\"/>\n",
       "     <use x=\"290.869141\" xlink:href=\"#DejaVuSans-65\"/>\n",
       "     <use x=\"352.392578\" xlink:href=\"#DejaVuSans-74\"/>\n",
       "     <use x=\"391.601562\" xlink:href=\"#DejaVuSans-20\"/>\n",
       "     <use x=\"423.388672\" xlink:href=\"#DejaVuSans-73\"/>\n",
       "     <use x=\"475.488281\" xlink:href=\"#DejaVuSans-61\"/>\n",
       "     <use x=\"536.767578\" xlink:href=\"#DejaVuSans-6d\"/>\n",
       "     <use x=\"634.179688\" xlink:href=\"#DejaVuSans-70\"/>\n",
       "     <use x=\"697.65625\" xlink:href=\"#DejaVuSans-6c\"/>\n",
       "     <use x=\"725.439453\" xlink:href=\"#DejaVuSans-65\"/>\n",
       "     <use x=\"786.962891\" xlink:href=\"#DejaVuSans-73\"/>\n",
       "    </g>\n",
       "   </g>\n",
       "   <g id=\"legend_1\">\n",
       "    <g id=\"patch_7\">\n",
       "     <path d=\"M 200.5125 147.21625 \n",
       "L 268.360937 147.21625 \n",
       "Q 270.360937 147.21625 270.360937 145.21625 \n",
       "L 270.360937 116.86 \n",
       "Q 270.360937 114.86 268.360937 114.86 \n",
       "L 200.5125 114.86 \n",
       "Q 198.5125 114.86 198.5125 116.86 \n",
       "L 198.5125 145.21625 \n",
       "Q 198.5125 147.21625 200.5125 147.21625 \n",
       "z\n",
       "\" style=\"fill:#ffffff;opacity:0.8;stroke:#cccccc;stroke-linejoin:miter;\"/>\n",
       "    </g>\n",
       "    <g id=\"PathCollection_3\">\n",
       "     <g>\n",
       "      <use style=\"fill:#1f77b4;stroke:#333333;\" x=\"212.5125\" xlink:href=\"#m6efb44b3ea\" y=\"123.833437\"/>\n",
       "     </g>\n",
       "    </g>\n",
       "    <g id=\"text_19\">\n",
       "     <!-- Class 0 -->\n",
       "     <g transform=\"translate(230.5125 126.458437)scale(0.1 -0.1)\">\n",
       "      <defs>\n",
       "       <path d=\"M 4122 4306 \n",
       "L 4122 3641 \n",
       "Q 3803 3938 3442 4084 \n",
       "Q 3081 4231 2675 4231 \n",
       "Q 1875 4231 1450 3742 \n",
       "Q 1025 3253 1025 2328 \n",
       "Q 1025 1406 1450 917 \n",
       "Q 1875 428 2675 428 \n",
       "Q 3081 428 3442 575 \n",
       "Q 3803 722 4122 1019 \n",
       "L 4122 359 \n",
       "Q 3791 134 3420 21 \n",
       "Q 3050 -91 2638 -91 \n",
       "Q 1578 -91 968 557 \n",
       "Q 359 1206 359 2328 \n",
       "Q 359 3453 968 4101 \n",
       "Q 1578 4750 2638 4750 \n",
       "Q 3056 4750 3426 4639 \n",
       "Q 3797 4528 4122 4306 \n",
       "z\n",
       "\" id=\"DejaVuSans-43\" transform=\"scale(0.015625)\"/>\n",
       "      </defs>\n",
       "      <use xlink:href=\"#DejaVuSans-43\"/>\n",
       "      <use x=\"69.824219\" xlink:href=\"#DejaVuSans-6c\"/>\n",
       "      <use x=\"97.607422\" xlink:href=\"#DejaVuSans-61\"/>\n",
       "      <use x=\"158.886719\" xlink:href=\"#DejaVuSans-73\"/>\n",
       "      <use x=\"210.986328\" xlink:href=\"#DejaVuSans-73\"/>\n",
       "      <use x=\"263.085938\" xlink:href=\"#DejaVuSans-20\"/>\n",
       "      <use x=\"294.873047\" xlink:href=\"#DejaVuSans-30\"/>\n",
       "     </g>\n",
       "    </g>\n",
       "    <g id=\"PathCollection_4\">\n",
       "     <g>\n",
       "      <use style=\"fill:#ff7f0e;stroke:#333333;\" x=\"212.5125\" xlink:href=\"#mbfb46d7eb2\" y=\"138.511562\"/>\n",
       "     </g>\n",
       "    </g>\n",
       "    <g id=\"text_20\">\n",
       "     <!-- Class 1 -->\n",
       "     <g transform=\"translate(230.5125 141.136562)scale(0.1 -0.1)\">\n",
       "      <use xlink:href=\"#DejaVuSans-43\"/>\n",
       "      <use x=\"69.824219\" xlink:href=\"#DejaVuSans-6c\"/>\n",
       "      <use x=\"97.607422\" xlink:href=\"#DejaVuSans-61\"/>\n",
       "      <use x=\"158.886719\" xlink:href=\"#DejaVuSans-73\"/>\n",
       "      <use x=\"210.986328\" xlink:href=\"#DejaVuSans-73\"/>\n",
       "      <use x=\"263.085938\" xlink:href=\"#DejaVuSans-20\"/>\n",
       "      <use x=\"294.873047\" xlink:href=\"#DejaVuSans-31\"/>\n",
       "     </g>\n",
       "    </g>\n",
       "   </g>\n",
       "  </g>\n",
       " </g>\n",
       " <defs>\n",
       "  <clipPath id=\"pe4ae81a13c\">\n",
       "   <rect height=\"217.44\" width=\"223.2\" x=\"52.160938\" y=\"22.318125\"/>\n",
       "  </clipPath>\n",
       " </defs>\n",
       "</svg>\n"
      ],
      "text/plain": [
       "<Figure size 288x288 with 1 Axes>"
      ]
     },
     "metadata": {
      "needs_background": "light"
     },
     "output_type": "display_data"
    }
   ],
   "source": [
    "visualize_samples(dataset.data, dataset.label)\n",
    "plt.show()"
   ]
  },
  {
   "cell_type": "markdown",
   "id": "2bf7eeca",
   "metadata": {
    "papermill": {
     "duration": 0.084138,
     "end_time": "2021-08-31T14:58:21.050429",
     "exception": false,
     "start_time": "2021-08-31T14:58:20.966291",
     "status": "completed"
    },
    "tags": []
   },
   "source": [
    "#### The data loader class\n",
    "\n",
    "The class `torch.utils.data.DataLoader` represents a Python iterable over a dataset with support for automatic batching, multi-process data loading and many more features.\n",
    "The data loader communicates with the dataset using the function `__getitem__`, and stacks its outputs as tensors over the first dimension to form a batch.\n",
    "In contrast to the dataset class, we usually don't have to define our own data loader class, but can just create an object of it with the dataset as input.\n",
    "Additionally, we can configure our data loader with the following input arguments (only a selection, see full list [here](https://pytorch.org/docs/stable/data.html#torch.utils.data.DataLoader)):\n",
    "\n",
    "* `batch_size`: Number of samples to stack per batch\n",
    "* `shuffle`: If True, the data is returned in a random order.\n",
    "This is important during training for introducing stochasticity.\n",
    "* `num_workers`: Number of subprocesses to use for data loading.\n",
    "The default, 0, means that the data will be loaded in the main process which can slow down training for datasets where loading a data point takes a considerable amount of time (e.g. large images).\n",
    "More workers are recommended for those, but can cause issues on Windows computers.\n",
    "For tiny datasets as ours, 0 workers are usually faster.\n",
    "* `pin_memory`: If True, the data loader will copy Tensors into CUDA pinned memory before returning them.\n",
    "This can save some time for large data points on GPUs.\n",
    "Usually a good practice to use for a training set, but not necessarily for validation and test to save memory on the GPU.\n",
    "* `drop_last`: If True, the last batch is dropped in case it is smaller than the specified batch size.\n",
    "This occurs when the dataset size is not a multiple of the batch size.\n",
    "Only potentially helpful during training to keep a consistent batch size.\n",
    "\n",
    "Let's create a simple data loader below:"
   ]
  },
  {
   "cell_type": "code",
   "execution_count": 43,
   "id": "c9d1a296",
   "metadata": {
    "execution": {
     "iopub.execute_input": "2021-08-31T14:58:21.167958Z",
     "iopub.status.busy": "2021-08-31T14:58:21.167461Z",
     "iopub.status.idle": "2021-08-31T14:58:21.169785Z",
     "shell.execute_reply": "2021-08-31T14:58:21.169159Z"
    },
    "papermill": {
     "duration": 0.061999,
     "end_time": "2021-08-31T14:58:21.169895",
     "exception": false,
     "start_time": "2021-08-31T14:58:21.107896",
     "status": "completed"
    },
    "tags": []
   },
   "outputs": [],
   "source": [
    "data_loader = data.DataLoader(dataset, batch_size=8, shuffle=True)"
   ]
  },
  {
   "cell_type": "code",
   "execution_count": 44,
   "id": "2a23de82",
   "metadata": {
    "execution": {
     "iopub.execute_input": "2021-08-31T14:58:21.285487Z",
     "iopub.status.busy": "2021-08-31T14:58:21.285005Z",
     "iopub.status.idle": "2021-08-31T14:58:21.289795Z",
     "shell.execute_reply": "2021-08-31T14:58:21.289306Z"
    },
    "papermill": {
     "duration": 0.064126,
     "end_time": "2021-08-31T14:58:21.289985",
     "exception": false,
     "start_time": "2021-08-31T14:58:21.225859",
     "status": "completed"
    },
    "tags": []
   },
   "outputs": [
    {
     "name": "stdout",
     "output_type": "stream",
     "text": [
      "Data inputs torch.Size([8, 2]) \n",
      " tensor([[ 1.2108, -0.1180],\n",
      "        [-0.1895,  0.0415],\n",
      "        [ 1.1542, -0.0989],\n",
      "        [ 1.1135,  0.1228],\n",
      "        [-0.0280,  0.0046],\n",
      "        [-0.0378,  1.0500],\n",
      "        [-0.0636,  0.9167],\n",
      "        [-0.0392,  0.8611]])\n",
      "Data labels torch.Size([8]) \n",
      " tensor([1, 0, 1, 1, 0, 1, 1, 1])\n"
     ]
    }
   ],
   "source": [
    "# next(iter(...)) catches the first batch of the data loader\n",
    "# If shuffle is True, this will return a different batch every time we run this cell\n",
    "# For iterating over the whole dataset, we can simple use \"for batch in data_loader: ...\"\n",
    "data_inputs, data_labels = next(iter(data_loader))\n",
    "\n",
    "# The shape of the outputs are [batch_size, d_1,...,d_N] where d_1,...,d_N are the\n",
    "# dimensions of the data point returned from the dataset class\n",
    "print(\"Data inputs\", data_inputs.shape, \"\\n\", data_inputs)\n",
    "print(\"Data labels\", data_labels.shape, \"\\n\", data_labels)"
   ]
  },
  {
   "cell_type": "markdown",
   "id": "8d2d8429",
   "metadata": {
    "papermill": {
     "duration": 0.056267,
     "end_time": "2021-08-31T14:58:21.402918",
     "exception": false,
     "start_time": "2021-08-31T14:58:21.346651",
     "status": "completed"
    },
    "tags": []
   },
   "source": [
    "### Optimization\n",
    "\n",
    "After defining the model and the dataset, it is time to prepare the optimization of the model.\n",
    "During training, we will perform the following steps:\n",
    "\n",
    "1. Get a batch from the data loader\n",
    "2. Obtain the predictions from the model for the batch\n",
    "3. Calculate the loss based on the difference between predictions and labels\n",
    "4. Backpropagation: calculate the gradients for every parameter with respect to the loss\n",
    "5. Update the parameters of the model in the direction of the gradients\n",
    "\n",
    "We have seen how we can do step 1, 2 and 4 in PyTorch. Now, we will look at step 3 and 5."
   ]
  },
  {
   "cell_type": "markdown",
   "id": "8e42b372",
   "metadata": {
    "papermill": {
     "duration": 0.056443,
     "end_time": "2021-08-31T14:58:21.517271",
     "exception": false,
     "start_time": "2021-08-31T14:58:21.460828",
     "status": "completed"
    },
    "tags": []
   },
   "source": [
    "#### Loss modules\n",
    "\n",
    "We can calculate the loss for a batch by simply performing a few tensor operations as those are automatically added to the computation graph.\n",
    "For instance, for binary classification, we can use Binary Cross Entropy (BCE) which is defined as follows:\n",
    "\n",
    "$$\\mathcal{L}_{BCE} = -\\sum_i \\left[ y_i \\log x_i + (1 - y_i) \\log (1 - x_i) \\right]$$\n",
    "\n",
    "where $y$ are our labels, and $x$ our predictions, both in the range of $[0,1]$.\n",
    "However, PyTorch already provides a list of predefined loss functions which we can use (see [here](https://pytorch.org/docs/stable/nn.html#loss-functions) for a full list).\n",
    "For instance, for BCE, PyTorch has two modules: `nn.BCELoss()`, `nn.BCEWithLogitsLoss()`.\n",
    "While `nn.BCELoss` expects the inputs $x$ to be in the range $[0,1]$, i.e. the output of a sigmoid, `nn.BCEWithLogitsLoss` combines a sigmoid layer and the BCE loss in a single class.\n",
    "This version is numerically more stable than using a plain Sigmoid followed by a BCE loss because of the logarithms applied in the loss function.\n",
    "Hence, it is adviced to use loss functions applied on \"logits\" where possible (remember to not apply a sigmoid on the output of the model in this case!).\n",
    "For our model defined above, we therefore use the module `nn.BCEWithLogitsLoss`."
   ]
  },
  {
   "cell_type": "code",
   "execution_count": 45,
   "id": "31b25e11",
   "metadata": {
    "execution": {
     "iopub.execute_input": "2021-08-31T14:58:21.635206Z",
     "iopub.status.busy": "2021-08-31T14:58:21.634713Z",
     "iopub.status.idle": "2021-08-31T14:58:21.636373Z",
     "shell.execute_reply": "2021-08-31T14:58:21.636756Z"
    },
    "papermill": {
     "duration": 0.061714,
     "end_time": "2021-08-31T14:58:21.636874",
     "exception": false,
     "start_time": "2021-08-31T14:58:21.575160",
     "status": "completed"
    },
    "tags": []
   },
   "outputs": [],
   "source": [
    "loss_module = nn.BCEWithLogitsLoss()"
   ]
  },
  {
   "cell_type": "markdown",
   "id": "54141ae5",
   "metadata": {
    "papermill": {
     "duration": 0.05604,
     "end_time": "2021-08-31T14:58:21.749091",
     "exception": false,
     "start_time": "2021-08-31T14:58:21.693051",
     "status": "completed"
    },
    "tags": []
   },
   "source": [
    "#### Stochastic Gradient Descent\n",
    "\n",
    "For updating the parameters, PyTorch provides the package `torch.optim` that has most popular optimizers implemented.\n",
    "We will discuss the specific optimizers and their differences later in the course, but will for now use the simplest of them: `torch.optim.SGD`.\n",
    "Stochastic Gradient Descent updates parameters by multiplying the gradients with a small constant, called learning rate, and subtracting those from the parameters (hence minimizing the loss).\n",
    "Therefore, we slowly move towards the direction of minimizing the loss.\n",
    "A good default value of the learning rate for a small network as ours is 0.1."
   ]
  },
  {
   "cell_type": "code",
   "execution_count": 46,
   "id": "15c851a7",
   "metadata": {
    "execution": {
     "iopub.execute_input": "2021-08-31T14:58:21.912681Z",
     "iopub.status.busy": "2021-08-31T14:58:21.912195Z",
     "iopub.status.idle": "2021-08-31T14:58:21.914266Z",
     "shell.execute_reply": "2021-08-31T14:58:21.913859Z"
    },
    "papermill": {
     "duration": 0.061615,
     "end_time": "2021-08-31T14:58:21.914369",
     "exception": false,
     "start_time": "2021-08-31T14:58:21.852754",
     "status": "completed"
    },
    "tags": []
   },
   "outputs": [],
   "source": [
    "# Input to the optimizer are the parameters of the model: model.parameters()\n",
    "optimizer = torch.optim.SGD(model.parameters(), lr=0.1)"
   ]
  },
  {
   "cell_type": "markdown",
   "id": "53c171ec",
   "metadata": {
    "papermill": {
     "duration": 0.05805,
     "end_time": "2021-08-31T14:58:22.028706",
     "exception": false,
     "start_time": "2021-08-31T14:58:21.970656",
     "status": "completed"
    },
    "tags": []
   },
   "source": [
    "The optimizer provides two useful functions: `optimizer.step()`, and `optimizer.zero_grad()`.\n",
    "The step function updates the parameters based on the gradients as explained above.\n",
    "The function `optimizer.zero_grad()` sets the gradients of all parameters to zero.\n",
    "While this function seems less relevant at first, it is a crucial pre-step before performing backpropagation.\n",
    "If we would call the `backward` function on the loss while the parameter gradients are non-zero from the previous batch, the new gradients would actually be added to the previous ones instead of overwriting them.\n",
    "This is done because a parameter might occur multiple times in a computation graph, and we need to sum the gradients in this case instead of replacing them.\n",
    "Hence, remember to call `optimizer.zero_grad()` before calculating the gradients of a batch."
   ]
  },
  {
   "cell_type": "markdown",
   "id": "e9898a56",
   "metadata": {
    "papermill": {
     "duration": 0.056415,
     "end_time": "2021-08-31T14:58:22.160138",
     "exception": false,
     "start_time": "2021-08-31T14:58:22.103723",
     "status": "completed"
    },
    "tags": []
   },
   "source": [
    "### Training\n",
    "\n",
    "Finally, we are ready to train our model.\n",
    "As a first step, we create a slightly larger dataset and specify a data loader with a larger batch size."
   ]
  },
  {
   "cell_type": "code",
   "execution_count": 47,
   "id": "9b26894f",
   "metadata": {
    "execution": {
     "iopub.execute_input": "2021-08-31T14:58:22.276619Z",
     "iopub.status.busy": "2021-08-31T14:58:22.276142Z",
     "iopub.status.idle": "2021-08-31T14:58:22.278709Z",
     "shell.execute_reply": "2021-08-31T14:58:22.278307Z"
    },
    "papermill": {
     "duration": 0.061813,
     "end_time": "2021-08-31T14:58:22.278812",
     "exception": false,
     "start_time": "2021-08-31T14:58:22.216999",
     "status": "completed"
    },
    "tags": []
   },
   "outputs": [],
   "source": [
    "train_dataset = XORDataset(size=1000)\n",
    "train_data_loader = data.DataLoader(train_dataset, batch_size=128, shuffle=True)"
   ]
  },
  {
   "cell_type": "markdown",
   "id": "21dd39a2",
   "metadata": {
    "papermill": {
     "duration": 0.060775,
     "end_time": "2021-08-31T14:58:22.404008",
     "exception": false,
     "start_time": "2021-08-31T14:58:22.343233",
     "status": "completed"
    },
    "tags": []
   },
   "source": [
    "Now, we can write a small training function.\n",
    "Remember our five steps: load a batch, obtain the predictions, calculate the loss, backpropagate, and update.\n",
    "Additionally, we have to push all data and model parameters to the device of our choice (GPU if available).\n",
    "For the tiny neural network we have, communicating the data to the GPU actually takes much more time than we could save from running the operation on GPU.\n",
    "For large networks, the communication time is significantly smaller than the actual runtime making a GPU crucial in these cases.\n",
    "Still, to practice, we will push the data to GPU here."
   ]
  },
  {
   "cell_type": "code",
   "execution_count": 48,
   "id": "4b7b46f6",
   "metadata": {
    "execution": {
     "iopub.execute_input": "2021-08-31T14:58:22.521915Z",
     "iopub.status.busy": "2021-08-31T14:58:22.521444Z",
     "iopub.status.idle": "2021-08-31T14:58:22.525137Z",
     "shell.execute_reply": "2021-08-31T14:58:22.524663Z"
    },
    "papermill": {
     "duration": 0.064829,
     "end_time": "2021-08-31T14:58:22.525240",
     "exception": false,
     "start_time": "2021-08-31T14:58:22.460411",
     "status": "completed"
    },
    "tags": []
   },
   "outputs": [
    {
     "data": {
      "text/plain": [
       "SimpleClassifier(\n",
       "  (linear1): Linear(in_features=2, out_features=4, bias=True)\n",
       "  (act_fn): Tanh()\n",
       "  (linear2): Linear(in_features=4, out_features=1, bias=True)\n",
       ")"
      ]
     },
     "execution_count": 48,
     "metadata": {},
     "output_type": "execute_result"
    }
   ],
   "source": [
    "# Push model to device. Has to be only done once\n",
    "model.to(device)"
   ]
  },
  {
   "cell_type": "markdown",
   "id": "241ed0bc",
   "metadata": {
    "lines_to_next_cell": 2,
    "papermill": {
     "duration": 0.056918,
     "end_time": "2021-08-31T14:58:22.639604",
     "exception": false,
     "start_time": "2021-08-31T14:58:22.582686",
     "status": "completed"
    },
    "tags": []
   },
   "source": [
    "In addition, we set our model to training mode.\n",
    "This is done by calling `model.train()`.\n",
    "There exist certain modules that need to perform a different forward\n",
    "step during training than during testing (e.g. BatchNorm and Dropout),\n",
    "and we can switch between them using `model.train()` and `model.eval()`."
   ]
  },
  {
   "cell_type": "code",
   "execution_count": 49,
   "id": "8dc53cae",
   "metadata": {
    "execution": {
     "iopub.execute_input": "2021-08-31T14:58:22.757678Z",
     "iopub.status.busy": "2021-08-31T14:58:22.757176Z",
     "iopub.status.idle": "2021-08-31T14:58:22.759305Z",
     "shell.execute_reply": "2021-08-31T14:58:22.758880Z"
    },
    "papermill": {
     "duration": 0.063337,
     "end_time": "2021-08-31T14:58:22.759406",
     "exception": false,
     "start_time": "2021-08-31T14:58:22.696069",
     "status": "completed"
    },
    "tags": []
   },
   "outputs": [],
   "source": [
    "def train_model(model, optimizer, data_loader, loss_module, num_epochs=100):\n",
    "    # Set model to train mode\n",
    "    model.train()\n",
    "\n",
    "    # Training loop\n",
    "    for epoch in tqdm(range(num_epochs)):\n",
    "        for data_inputs, data_labels in data_loader:\n",
    "\n",
    "            # Step 1: Move input data to device (only strictly necessary if we use GPU)\n",
    "            data_inputs = data_inputs.to(device)\n",
    "            data_labels = data_labels.to(device)\n",
    "\n",
    "            # Step 2: Run the model on the input data\n",
    "            preds = model(data_inputs)\n",
    "            preds = preds.squeeze(dim=1)  # Output is [Batch size, 1], but we want [Batch size]\n",
    "\n",
    "            # Step 3: Calculate the loss\n",
    "            loss = loss_module(preds, data_labels.float())\n",
    "\n",
    "            # Step 4: Perform backpropagation\n",
    "            # Before calculating the gradients, we need to ensure that they are all zero.\n",
    "            # The gradients would not be overwritten, but actually added to the existing ones.\n",
    "            optimizer.zero_grad()\n",
    "            # Perform backpropagation\n",
    "            loss.backward()\n",
    "\n",
    "            # Step 5: Update the parameters\n",
    "            optimizer.step()"
   ]
  },
  {
   "cell_type": "code",
   "execution_count": 50,
   "id": "41ff73f6",
   "metadata": {
    "execution": {
     "iopub.execute_input": "2021-08-31T14:58:22.876240Z",
     "iopub.status.busy": "2021-08-31T14:58:22.875764Z",
     "iopub.status.idle": "2021-08-31T14:58:24.064200Z",
     "shell.execute_reply": "2021-08-31T14:58:24.064591Z"
    },
    "papermill": {
     "duration": 1.247955,
     "end_time": "2021-08-31T14:58:24.064740",
     "exception": false,
     "start_time": "2021-08-31T14:58:22.816785",
     "status": "completed"
    },
    "tags": []
   },
   "outputs": [
    {
     "data": {
      "application/vnd.jupyter.widget-view+json": {
       "model_id": "f2c4f0ef495a4701a0f5ef5aa1d71515",
       "version_major": 2,
       "version_minor": 0
      },
      "text/plain": [
       "  0%|          | 0/100 [00:00<?, ?it/s]"
      ]
     },
     "metadata": {},
     "output_type": "display_data"
    }
   ],
   "source": [
    "train_model(model, optimizer, train_data_loader, loss_module)"
   ]
  },
  {
   "cell_type": "markdown",
   "id": "09d78450",
   "metadata": {
    "papermill": {
     "duration": 0.100144,
     "end_time": "2021-08-31T14:58:24.261217",
     "exception": false,
     "start_time": "2021-08-31T14:58:24.161073",
     "status": "completed"
    },
    "tags": []
   },
   "source": [
    "#### Saving a model\n",
    "\n",
    "After finish training a model, we save the model to disk so that we can load the same weights at a later time.\n",
    "For this, we extract the so-called `state_dict` from the model which contains all learnable parameters.\n",
    "For our simple model, the state dict contains the following entries:"
   ]
  },
  {
   "cell_type": "code",
   "execution_count": 51,
   "id": "ca5d8f4a",
   "metadata": {
    "execution": {
     "iopub.execute_input": "2021-08-31T14:58:24.438986Z",
     "iopub.status.busy": "2021-08-31T14:58:24.438513Z",
     "iopub.status.idle": "2021-08-31T14:58:24.443966Z",
     "shell.execute_reply": "2021-08-31T14:58:24.443561Z"
    },
    "papermill": {
     "duration": 0.083094,
     "end_time": "2021-08-31T14:58:24.444073",
     "exception": false,
     "start_time": "2021-08-31T14:58:24.360979",
     "status": "completed"
    },
    "tags": []
   },
   "outputs": [
    {
     "name": "stdout",
     "output_type": "stream",
     "text": [
      "OrderedDict([('linear1.weight', tensor([[-2.0670, -2.2975],\n",
      "        [ 1.2786, -1.8345],\n",
      "        [-1.4951, -0.5205],\n",
      "        [-0.6117, -0.7444]], device='cuda:0')), ('linear1.bias', tensor([ 0.7173, -0.8690,  1.3082, -0.2268], device='cuda:0')), ('linear2.weight', tensor([[-2.6062,  1.9208,  2.1200, -0.2700]], device='cuda:0')), ('linear2.bias', tensor([-0.9445], device='cuda:0'))])\n"
     ]
    }
   ],
   "source": [
    "state_dict = model.state_dict()\n",
    "print(state_dict)"
   ]
  },
  {
   "cell_type": "markdown",
   "id": "eb55487a",
   "metadata": {
    "papermill": {
     "duration": 0.100493,
     "end_time": "2021-08-31T14:58:24.602234",
     "exception": false,
     "start_time": "2021-08-31T14:58:24.501741",
     "status": "completed"
    },
    "tags": []
   },
   "source": [
    "To save the state dictionary, we can use `torch.save`:"
   ]
  },
  {
   "cell_type": "code",
   "execution_count": 52,
   "id": "b805774b",
   "metadata": {
    "execution": {
     "iopub.execute_input": "2021-08-31T14:58:24.855503Z",
     "iopub.status.busy": "2021-08-31T14:58:24.854995Z",
     "iopub.status.idle": "2021-08-31T14:58:24.857495Z",
     "shell.execute_reply": "2021-08-31T14:58:24.857086Z"
    },
    "papermill": {
     "duration": 0.110327,
     "end_time": "2021-08-31T14:58:24.857603",
     "exception": false,
     "start_time": "2021-08-31T14:58:24.747276",
     "status": "completed"
    },
    "tags": []
   },
   "outputs": [],
   "source": [
    "# torch.save(object, filename). For the filename, any extension can be used\n",
    "torch.save(state_dict, \"our_model.tar\")"
   ]
  },
  {
   "cell_type": "markdown",
   "id": "f20e124f",
   "metadata": {
    "papermill": {
     "duration": 0.099814,
     "end_time": "2021-08-31T14:58:25.404920",
     "exception": false,
     "start_time": "2021-08-31T14:58:25.305106",
     "status": "completed"
    },
    "tags": []
   },
   "source": [
    "To load a model from a state dict, we use the function `torch.load` to\n",
    "load the state dict from the disk, and the module function\n",
    "`load_state_dict` to overwrite our parameters with the new values:"
   ]
  },
  {
   "cell_type": "code",
   "execution_count": 53,
   "id": "9c5293a5",
   "metadata": {
    "execution": {
     "iopub.execute_input": "2021-08-31T14:58:25.570245Z",
     "iopub.status.busy": "2021-08-31T14:58:25.569752Z",
     "iopub.status.idle": "2021-08-31T14:58:25.578168Z",
     "shell.execute_reply": "2021-08-31T14:58:25.577758Z"
    },
    "papermill": {
     "duration": 0.072872,
     "end_time": "2021-08-31T14:58:25.578276",
     "exception": false,
     "start_time": "2021-08-31T14:58:25.505404",
     "status": "completed"
    },
    "tags": []
   },
   "outputs": [
    {
     "name": "stdout",
     "output_type": "stream",
     "text": [
      "Original model\n",
      " OrderedDict([('linear1.weight', tensor([[-2.0670, -2.2975],\n",
      "        [ 1.2786, -1.8345],\n",
      "        [-1.4951, -0.5205],\n",
      "        [-0.6117, -0.7444]], device='cuda:0')), ('linear1.bias', tensor([ 0.7173, -0.8690,  1.3082, -0.2268], device='cuda:0')), ('linear2.weight', tensor([[-2.6062,  1.9208,  2.1200, -0.2700]], device='cuda:0')), ('linear2.bias', tensor([-0.9445], device='cuda:0'))])\n",
      "\n",
      "Loaded model\n",
      " OrderedDict([('linear1.weight', tensor([[-2.0670, -2.2975],\n",
      "        [ 1.2786, -1.8345],\n",
      "        [-1.4951, -0.5205],\n",
      "        [-0.6117, -0.7444]])), ('linear1.bias', tensor([ 0.7173, -0.8690,  1.3082, -0.2268])), ('linear2.weight', tensor([[-2.6062,  1.9208,  2.1200, -0.2700]])), ('linear2.bias', tensor([-0.9445]))])\n"
     ]
    }
   ],
   "source": [
    "# Load state dict from the disk (make sure it is the same name as above)\n",
    "state_dict = torch.load(\"our_model.tar\")\n",
    "\n",
    "# Create a new model and load the state\n",
    "new_model = SimpleClassifier(num_inputs=2, num_hidden=4, num_outputs=1)\n",
    "new_model.load_state_dict(state_dict)\n",
    "\n",
    "# Verify that the parameters are the same\n",
    "print(\"Original model\\n\", model.state_dict())\n",
    "print(\"\\nLoaded model\\n\", new_model.state_dict())"
   ]
  },
  {
   "cell_type": "markdown",
   "id": "b5963b78",
   "metadata": {
    "papermill": {
     "duration": 0.089944,
     "end_time": "2021-08-31T14:58:25.756072",
     "exception": false,
     "start_time": "2021-08-31T14:58:25.666128",
     "status": "completed"
    },
    "tags": []
   },
   "source": [
    "A detailed tutorial on saving and loading models in PyTorch can be found\n",
    "[here](https://pytorch.org/tutorials/beginner/saving_loading_models.html)."
   ]
  },
  {
   "cell_type": "markdown",
   "id": "8b84c684",
   "metadata": {
    "papermill": {
     "duration": 0.140558,
     "end_time": "2021-08-31T14:58:26.007646",
     "exception": false,
     "start_time": "2021-08-31T14:58:25.867088",
     "status": "completed"
    },
    "tags": []
   },
   "source": [
    "### Evaluation\n",
    "\n",
    "Once we have trained a model, it is time to evaluate it on a held-out test set.\n",
    "As our dataset consist of randomly generated data points, we need to\n",
    "first create a test set with a corresponding data loader."
   ]
  },
  {
   "cell_type": "code",
   "execution_count": 54,
   "id": "10218c32",
   "metadata": {
    "execution": {
     "iopub.execute_input": "2021-08-31T14:58:26.299202Z",
     "iopub.status.busy": "2021-08-31T14:58:26.298697Z",
     "iopub.status.idle": "2021-08-31T14:58:26.300806Z",
     "shell.execute_reply": "2021-08-31T14:58:26.301188Z"
    },
    "papermill": {
     "duration": 0.093052,
     "end_time": "2021-08-31T14:58:26.301313",
     "exception": false,
     "start_time": "2021-08-31T14:58:26.208261",
     "status": "completed"
    },
    "tags": []
   },
   "outputs": [],
   "source": [
    "test_dataset = XORDataset(size=500)\n",
    "# drop_last -> Don't drop the last batch although it is smaller than 128\n",
    "test_data_loader = data.DataLoader(test_dataset, batch_size=128, shuffle=False, drop_last=False)"
   ]
  },
  {
   "cell_type": "markdown",
   "id": "b86f5b0c",
   "metadata": {
    "lines_to_next_cell": 2,
    "papermill": {
     "duration": 0.081095,
     "end_time": "2021-08-31T14:58:26.449616",
     "exception": false,
     "start_time": "2021-08-31T14:58:26.368521",
     "status": "completed"
    },
    "tags": []
   },
   "source": [
    "As metric, we will use accuracy which is calculated as follows:\n",
    "\n",
    "$$acc = \\frac{\\#\\text{correct predictions}}{\\#\\text{all predictions}} = \\frac{TP+TN}{TP+TN+FP+FN}$$\n",
    "\n",
    "where TP are the true positives, TN true negatives, FP false positives, and FN the fale negatives.\n",
    "\n",
    "When evaluating the model, we don't need to keep track of the computation graph as we don't intend to calculate the gradients.\n",
    "This reduces the required memory and speed up the model.\n",
    "In PyTorch, we can deactivate the computation graph using `with torch.no_grad(): ...`.\n",
    "Remember to additionally set the model to eval mode."
   ]
  },
  {
   "cell_type": "code",
   "execution_count": 55,
   "id": "78605067",
   "metadata": {
    "execution": {
     "iopub.execute_input": "2021-08-31T14:58:26.655782Z",
     "iopub.status.busy": "2021-08-31T14:58:26.655282Z",
     "iopub.status.idle": "2021-08-31T14:58:26.656900Z",
     "shell.execute_reply": "2021-08-31T14:58:26.657289Z"
    },
    "papermill": {
     "duration": 0.108178,
     "end_time": "2021-08-31T14:58:26.657417",
     "exception": false,
     "start_time": "2021-08-31T14:58:26.549239",
     "status": "completed"
    },
    "tags": []
   },
   "outputs": [],
   "source": [
    "def eval_model(model, data_loader):\n",
    "    model.eval()  # Set model to eval mode\n",
    "    true_preds, num_preds = 0.0, 0.0\n",
    "\n",
    "    with torch.no_grad():  # Deactivate gradients for the following code\n",
    "        for data_inputs, data_labels in data_loader:\n",
    "\n",
    "            # Determine prediction of model on dev set\n",
    "            data_inputs, data_labels = data_inputs.to(device), data_labels.to(device)\n",
    "            preds = model(data_inputs)\n",
    "            preds = preds.squeeze(dim=1)\n",
    "            preds = torch.sigmoid(preds)  # Sigmoid to map predictions between 0 and 1\n",
    "            pred_labels = (preds >= 0.5).long()  # Binarize predictions to 0 and 1\n",
    "\n",
    "            # Keep records of predictions for the accuracy metric (true_preds=TP+TN, num_preds=TP+TN+FP+FN)\n",
    "            true_preds += (pred_labels == data_labels).sum()\n",
    "            num_preds += data_labels.shape[0]\n",
    "\n",
    "    acc = true_preds / num_preds\n",
    "    print(f\"Accuracy of the model: {100.0*acc:4.2f}%\")"
   ]
  },
  {
   "cell_type": "code",
   "execution_count": 56,
   "id": "c8bbea2b",
   "metadata": {
    "execution": {
     "iopub.execute_input": "2021-08-31T14:58:26.998797Z",
     "iopub.status.busy": "2021-08-31T14:58:26.998307Z",
     "iopub.status.idle": "2021-08-31T14:58:27.005010Z",
     "shell.execute_reply": "2021-08-31T14:58:27.004534Z"
    },
    "papermill": {
     "duration": 0.09368,
     "end_time": "2021-08-31T14:58:27.005116",
     "exception": false,
     "start_time": "2021-08-31T14:58:26.911436",
     "status": "completed"
    },
    "tags": []
   },
   "outputs": [
    {
     "name": "stdout",
     "output_type": "stream",
     "text": [
      "Accuracy of the model: 100.00%\n"
     ]
    }
   ],
   "source": [
    "eval_model(model, test_data_loader)"
   ]
  },
  {
   "cell_type": "markdown",
   "id": "32ca5835",
   "metadata": {
    "papermill": {
     "duration": 0.10394,
     "end_time": "2021-08-31T14:58:27.203240",
     "exception": false,
     "start_time": "2021-08-31T14:58:27.099300",
     "status": "completed"
    },
    "tags": []
   },
   "source": [
    "If we trained our model correctly, we should see a score close to 100% accuracy.\n",
    "However, this is only possible because of our simple task, and\n",
    "unfortunately, we usually don't get such high scores on test sets of\n",
    "more complex tasks."
   ]
  },
  {
   "cell_type": "markdown",
   "id": "beae60b4",
   "metadata": {
    "lines_to_next_cell": 2,
    "papermill": {
     "duration": 0.061121,
     "end_time": "2021-08-31T14:58:27.413103",
     "exception": false,
     "start_time": "2021-08-31T14:58:27.351982",
     "status": "completed"
    },
    "tags": []
   },
   "source": [
    "#### Visualizing classification boundaries\n",
    "\n",
    "To visualize what our model has learned, we can perform a prediction for every data point in a range of $[-0.5, 1.5]$, and visualize the predicted class as in the sample figure at the beginning of this section.\n",
    "This shows where the model has created decision boundaries, and which points would be classified as $0$, and which as $1$.\n",
    "We therefore get a background image out of blue (class 0) and orange (class 1).\n",
    "The spots where the model is uncertain we will see a blurry overlap.\n",
    "The specific code is less relevant compared to the output figure which\n",
    "should hopefully show us a clear separation of classes:"
   ]
  },
  {
   "cell_type": "code",
   "execution_count": 57,
   "id": "3da5bb2e",
   "metadata": {
    "execution": {
     "iopub.execute_input": "2021-08-31T14:58:27.582859Z",
     "iopub.status.busy": "2021-08-31T14:58:27.570464Z",
     "iopub.status.idle": "2021-08-31T14:58:27.960224Z",
     "shell.execute_reply": "2021-08-31T14:58:27.960616Z"
    },
    "papermill": {
     "duration": 0.469526,
     "end_time": "2021-08-31T14:58:27.960759",
     "exception": false,
     "start_time": "2021-08-31T14:58:27.491233",
     "status": "completed"
    },
    "tags": []
   },
   "outputs": [
    {
     "data": {
      "application/pdf": "[encoded data removed]",
      "image/svg+xml": [
       "<?xml version=\"1.0\" encoding=\"utf-8\" standalone=\"no\"?>\n",
       "<!DOCTYPE svg PUBLIC \"-//W3C//DTD SVG 1.1//EN\"\n",
       "  \"http://www.w3.org/Graphics/SVG/1.1/DTD/svg11.dtd\">\n",
       "<svg height=\"277.314375pt\" version=\"1.1\" viewBox=\"0 0 291.115 277.314375\" width=\"291.115pt\" xmlns=\"http://www.w3.org/2000/svg\" xmlns:xlink=\"http://www.w3.org/1999/xlink\">\n",
       " <metadata>\n",
       "  <rdf:RDF xmlns:cc=\"http://creativecommons.org/ns#\" xmlns:dc=\"http://purl.org/dc/elements/1.1/\" xmlns:rdf=\"http://www.w3.org/1999/02/22-rdf-syntax-ns#\">\n",
       "   <cc:Work>\n",
       "    <dc:type rdf:resource=\"http://purl.org/dc/dcmitype/StillImage\"/>\n",
       "    <dc:date>2021-08-31T16:58:27.686868</dc:date>\n",
       "    <dc:format>image/svg+xml</dc:format>\n",
       "    <dc:creator>\n",
       "     <cc:Agent>\n",
       "      <dc:title>Matplotlib v3.4.3, https://matplotlib.org/</dc:title>\n",
       "     </cc:Agent>\n",
       "    </dc:creator>\n",
       "   </cc:Work>\n",
       "  </rdf:RDF>\n",
       " </metadata>\n",
       " <defs>\n",
       "  <style type=\"text/css\">*{stroke-linecap:butt;stroke-linejoin:round;}</style>\n",
       " </defs>\n",
       " <g id=\"figure_1\">\n",
       "  <g id=\"patch_1\">\n",
       "   <path d=\"M 0 277.314375 \n",
       "L 291.115 277.314375 \n",
       "L 291.115 0 \n",
       "L 0 0 \n",
       "z\n",
       "\" style=\"fill:none;\"/>\n",
       "  </g>\n",
       "  <g id=\"axes_1\">\n",
       "   <g id=\"patch_2\">\n",
       "    <path d=\"M 58.523438 239.758125 \n",
       "L 275.963437 239.758125 \n",
       "L 275.963437 22.318125 \n",
       "L 58.523438 22.318125 \n",
       "z\n",
       "\" style=\"fill:#ffffff;\"/>\n",
       "   </g>\n",
       "   <g clip-path=\"url(#pea9e406b48)\">\n",
       "    <image height=\"218\" id=\"image35ee24fbc4\" transform=\"scale(1 -1)translate(0 -218)\" width=\"218\" x=\"58.523438\" xlink:href=\"data:image/png;base64,\n",
       "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\" y=\"-21.758125\"/>\n",
       "   </g>\n",
       "   <g id=\"PathCollection_1\">\n",
       "    <defs>\n",
       "     <path d=\"M 0 3 \n",
       "C 0.795609 3 1.55874 2.683901 2.12132 2.12132 \n",
       "C 2.683901 1.55874 3 0.795609 3 0 \n",
       "C 3 -0.795609 2.683901 -1.55874 2.12132 -2.12132 \n",
       "C 1.55874 -2.683901 0.795609 -3 0 -3 \n",
       "C -0.795609 -3 -1.55874 -2.683901 -2.12132 -2.12132 \n",
       "C -2.683901 -1.55874 -3 -0.795609 -3 0 \n",
       "C -3 0.795609 -2.683901 1.55874 -2.12132 2.12132 \n",
       "C -1.55874 2.683901 -0.795609 3 0 3 \n",
       "z\n",
       "\" id=\"m76e99ac362\" style=\"stroke:#333333;\"/>\n",
       "    </defs>\n",
       "    <g clip-path=\"url(#pea9e406b48)\">\n",
       "     <use style=\"fill:#1f77b4;stroke:#333333;\" x=\"112.130475\" xlink:href=\"#m76e99ac362\" y=\"183.02716\"/>\n",
       "     <use style=\"fill:#1f77b4;stroke:#333333;\" x=\"218.531808\" xlink:href=\"#m76e99ac362\" y=\"79.706304\"/>\n",
       "     <use style=\"fill:#1f77b4;stroke:#333333;\" x=\"239.633825\" xlink:href=\"#m76e99ac362\" y=\"80.994397\"/>\n",
       "     <use style=\"fill:#1f77b4;stroke:#333333;\" x=\"122.008015\" xlink:href=\"#m76e99ac362\" y=\"191.757377\"/>\n",
       "     <use style=\"fill:#1f77b4;stroke:#333333;\" x=\"116.060682\" xlink:href=\"#m76e99ac362\" y=\"192.256288\"/>\n",
       "     <use style=\"fill:#1f77b4;stroke:#333333;\" x=\"92.277532\" xlink:href=\"#m76e99ac362\" y=\"180.061819\"/>\n",
       "     <use style=\"fill:#1f77b4;stroke:#333333;\" x=\"227.018994\" xlink:href=\"#m76e99ac362\" y=\"76.887462\"/>\n",
       "     <use style=\"fill:#1f77b4;stroke:#333333;\" x=\"218.499712\" xlink:href=\"#m76e99ac362\" y=\"71.275153\"/>\n",
       "     <use style=\"fill:#1f77b4;stroke:#333333;\" x=\"110.302013\" xlink:href=\"#m76e99ac362\" y=\"191.868518\"/>\n",
       "     <use style=\"fill:#1f77b4;stroke:#333333;\" x=\"222.828211\" xlink:href=\"#m76e99ac362\" y=\"72.953996\"/>\n",
       "     <use style=\"fill:#1f77b4;stroke:#333333;\" x=\"117.798662\" xlink:href=\"#m76e99ac362\" y=\"188.528318\"/>\n",
       "     <use style=\"fill:#1f77b4;stroke:#333333;\" x=\"236.949732\" xlink:href=\"#m76e99ac362\" y=\"56.122229\"/>\n",
       "     <use style=\"fill:#1f77b4;stroke:#333333;\" x=\"223.235039\" xlink:href=\"#m76e99ac362\" y=\"80.056541\"/>\n",
       "     <use style=\"fill:#1f77b4;stroke:#333333;\" x=\"218.619913\" xlink:href=\"#m76e99ac362\" y=\"76.248163\"/>\n",
       "     <use style=\"fill:#1f77b4;stroke:#333333;\" x=\"110.525586\" xlink:href=\"#m76e99ac362\" y=\"198.228967\"/>\n",
       "     <use style=\"fill:#1f77b4;stroke:#333333;\" x=\"106.581102\" xlink:href=\"#m76e99ac362\" y=\"176.499583\"/>\n",
       "     <use style=\"fill:#1f77b4;stroke:#333333;\" x=\"233.588936\" xlink:href=\"#m76e99ac362\" y=\"102.286439\"/>\n",
       "     <use style=\"fill:#1f77b4;stroke:#333333;\" x=\"236.369999\" xlink:href=\"#m76e99ac362\" y=\"96.725344\"/>\n",
       "     <use style=\"fill:#1f77b4;stroke:#333333;\" x=\"213.86622\" xlink:href=\"#m76e99ac362\" y=\"77.338064\"/>\n",
       "     <use style=\"fill:#1f77b4;stroke:#333333;\" x=\"100.93054\" xlink:href=\"#m76e99ac362\" y=\"195.532199\"/>\n",
       "     <use style=\"fill:#1f77b4;stroke:#333333;\" x=\"235.709742\" xlink:href=\"#m76e99ac362\" y=\"56.455519\"/>\n",
       "     <use style=\"fill:#1f77b4;stroke:#333333;\" x=\"228.794651\" xlink:href=\"#m76e99ac362\" y=\"77.981996\"/>\n",
       "     <use style=\"fill:#1f77b4;stroke:#333333;\" x=\"126.325818\" xlink:href=\"#m76e99ac362\" y=\"169.253244\"/>\n",
       "     <use style=\"fill:#1f77b4;stroke:#333333;\" x=\"215.866897\" xlink:href=\"#m76e99ac362\" y=\"56.228154\"/>\n",
       "     <use style=\"fill:#1f77b4;stroke:#333333;\" x=\"114.849831\" xlink:href=\"#m76e99ac362\" y=\"184.170689\"/>\n",
       "     <use style=\"fill:#1f77b4;stroke:#333333;\" x=\"215.200167\" xlink:href=\"#m76e99ac362\" y=\"71.325868\"/>\n",
       "     <use style=\"fill:#1f77b4;stroke:#333333;\" x=\"104.738732\" xlink:href=\"#m76e99ac362\" y=\"172.132264\"/>\n",
       "     <use style=\"fill:#1f77b4;stroke:#333333;\" x=\"233.165389\" xlink:href=\"#m76e99ac362\" y=\"69.175006\"/>\n",
       "     <use style=\"fill:#1f77b4;stroke:#333333;\" x=\"229.770805\" xlink:href=\"#m76e99ac362\" y=\"79.208287\"/>\n",
       "     <use style=\"fill:#1f77b4;stroke:#333333;\" x=\"224.897941\" xlink:href=\"#m76e99ac362\" y=\"65.173809\"/>\n",
       "     <use style=\"fill:#1f77b4;stroke:#333333;\" x=\"109.018133\" xlink:href=\"#m76e99ac362\" y=\"175.976269\"/>\n",
       "     <use style=\"fill:#1f77b4;stroke:#333333;\" x=\"118.553492\" xlink:href=\"#m76e99ac362\" y=\"195.931899\"/>\n",
       "     <use style=\"fill:#1f77b4;stroke:#333333;\" x=\"105.114252\" xlink:href=\"#m76e99ac362\" y=\"164.360655\"/>\n",
       "     <use style=\"fill:#1f77b4;stroke:#333333;\" x=\"113.25433\" xlink:href=\"#m76e99ac362\" y=\"189.323026\"/>\n",
       "     <use style=\"fill:#1f77b4;stroke:#333333;\" x=\"124.586091\" xlink:href=\"#m76e99ac362\" y=\"188.967644\"/>\n",
       "     <use style=\"fill:#1f77b4;stroke:#333333;\" x=\"109.837824\" xlink:href=\"#m76e99ac362\" y=\"184.898956\"/>\n",
       "     <use style=\"fill:#1f77b4;stroke:#333333;\" x=\"125.181761\" xlink:href=\"#m76e99ac362\" y=\"197.902563\"/>\n",
       "     <use style=\"fill:#1f77b4;stroke:#333333;\" x=\"204.317789\" xlink:href=\"#m76e99ac362\" y=\"61.965272\"/>\n",
       "     <use style=\"fill:#1f77b4;stroke:#333333;\" x=\"235.267519\" xlink:href=\"#m76e99ac362\" y=\"81.643688\"/>\n",
       "     <use style=\"fill:#1f77b4;stroke:#333333;\" x=\"223.348378\" xlink:href=\"#m76e99ac362\" y=\"80.978112\"/>\n",
       "     <use style=\"fill:#1f77b4;stroke:#333333;\" x=\"109.797084\" xlink:href=\"#m76e99ac362\" y=\"192.545811\"/>\n",
       "     <use style=\"fill:#1f77b4;stroke:#333333;\" x=\"211.194686\" xlink:href=\"#m76e99ac362\" y=\"100.930901\"/>\n",
       "     <use style=\"fill:#1f77b4;stroke:#333333;\" x=\"229.513113\" xlink:href=\"#m76e99ac362\" y=\"75.481734\"/>\n",
       "     <use style=\"fill:#1f77b4;stroke:#333333;\" x=\"113.381992\" xlink:href=\"#m76e99ac362\" y=\"197.835874\"/>\n",
       "     <use style=\"fill:#1f77b4;stroke:#333333;\" x=\"123.337028\" xlink:href=\"#m76e99ac362\" y=\"202.207751\"/>\n",
       "     <use style=\"fill:#1f77b4;stroke:#333333;\" x=\"130.132567\" xlink:href=\"#m76e99ac362\" y=\"170.190943\"/>\n",
       "     <use style=\"fill:#1f77b4;stroke:#333333;\" x=\"216.473179\" xlink:href=\"#m76e99ac362\" y=\"87.364405\"/>\n",
       "     <use style=\"fill:#1f77b4;stroke:#333333;\" x=\"206.813885\" xlink:href=\"#m76e99ac362\" y=\"65.697345\"/>\n",
       "     <use style=\"fill:#1f77b4;stroke:#333333;\" x=\"107.513202\" xlink:href=\"#m76e99ac362\" y=\"192.863185\"/>\n",
       "     <use style=\"fill:#1f77b4;stroke:#333333;\" x=\"217.41874\" xlink:href=\"#m76e99ac362\" y=\"84.700348\"/>\n",
       "     <use style=\"fill:#1f77b4;stroke:#333333;\" x=\"113.95745\" xlink:href=\"#m76e99ac362\" y=\"189.098171\"/>\n",
       "     <use style=\"fill:#1f77b4;stroke:#333333;\" x=\"226.55733\" xlink:href=\"#m76e99ac362\" y=\"57.230812\"/>\n",
       "     <use style=\"fill:#1f77b4;stroke:#333333;\" x=\"111.233278\" xlink:href=\"#m76e99ac362\" y=\"179.431408\"/>\n",
       "     <use style=\"fill:#1f77b4;stroke:#333333;\" x=\"215.084754\" xlink:href=\"#m76e99ac362\" y=\"91.072443\"/>\n",
       "     <use style=\"fill:#1f77b4;stroke:#333333;\" x=\"224.100848\" xlink:href=\"#m76e99ac362\" y=\"68.121491\"/>\n",
       "     <use style=\"fill:#1f77b4;stroke:#333333;\" x=\"92.279163\" xlink:href=\"#m76e99ac362\" y=\"180.887702\"/>\n",
       "     <use style=\"fill:#1f77b4;stroke:#333333;\" x=\"206.717206\" xlink:href=\"#m76e99ac362\" y=\"67.932904\"/>\n",
       "     <use style=\"fill:#1f77b4;stroke:#333333;\" x=\"230.512427\" xlink:href=\"#m76e99ac362\" y=\"82.439245\"/>\n",
       "     <use style=\"fill:#1f77b4;stroke:#333333;\" x=\"101.651362\" xlink:href=\"#m76e99ac362\" y=\"185.78207\"/>\n",
       "     <use style=\"fill:#1f77b4;stroke:#333333;\" x=\"110.796814\" xlink:href=\"#m76e99ac362\" y=\"211.814172\"/>\n",
       "     <use style=\"fill:#1f77b4;stroke:#333333;\" x=\"110.369579\" xlink:href=\"#m76e99ac362\" y=\"188.183661\"/>\n",
       "     <use style=\"fill:#1f77b4;stroke:#333333;\" x=\"96.152024\" xlink:href=\"#m76e99ac362\" y=\"188.29022\"/>\n",
       "     <use style=\"fill:#1f77b4;stroke:#333333;\" x=\"241.658206\" xlink:href=\"#m76e99ac362\" y=\"82.547711\"/>\n",
       "     <use style=\"fill:#1f77b4;stroke:#333333;\" x=\"215.078112\" xlink:href=\"#m76e99ac362\" y=\"88.854193\"/>\n",
       "     <use style=\"fill:#1f77b4;stroke:#333333;\" x=\"235.390643\" xlink:href=\"#m76e99ac362\" y=\"62.012163\"/>\n",
       "     <use style=\"fill:#1f77b4;stroke:#333333;\" x=\"96.594278\" xlink:href=\"#m76e99ac362\" y=\"176.722784\"/>\n",
       "     <use style=\"fill:#1f77b4;stroke:#333333;\" x=\"223.89308\" xlink:href=\"#m76e99ac362\" y=\"95.68291\"/>\n",
       "     <use style=\"fill:#1f77b4;stroke:#333333;\" x=\"231.986534\" xlink:href=\"#m76e99ac362\" y=\"101.379014\"/>\n",
       "     <use style=\"fill:#1f77b4;stroke:#333333;\" x=\"129.434435\" xlink:href=\"#m76e99ac362\" y=\"202.700628\"/>\n",
       "     <use style=\"fill:#1f77b4;stroke:#333333;\" x=\"121.849164\" xlink:href=\"#m76e99ac362\" y=\"193.853222\"/>\n",
       "     <use style=\"fill:#1f77b4;stroke:#333333;\" x=\"111.071273\" xlink:href=\"#m76e99ac362\" y=\"180.426817\"/>\n",
       "     <use style=\"fill:#1f77b4;stroke:#333333;\" x=\"111.73278\" xlink:href=\"#m76e99ac362\" y=\"178.6056\"/>\n",
       "     <use style=\"fill:#1f77b4;stroke:#333333;\" x=\"224.372642\" xlink:href=\"#m76e99ac362\" y=\"73.188217\"/>\n",
       "     <use style=\"fill:#1f77b4;stroke:#333333;\" x=\"214.544764\" xlink:href=\"#m76e99ac362\" y=\"100.191683\"/>\n",
       "     <use style=\"fill:#1f77b4;stroke:#333333;\" x=\"111.037176\" xlink:href=\"#m76e99ac362\" y=\"184.756952\"/>\n",
       "     <use style=\"fill:#1f77b4;stroke:#333333;\" x=\"120.501423\" xlink:href=\"#m76e99ac362\" y=\"177.927389\"/>\n",
       "     <use style=\"fill:#1f77b4;stroke:#333333;\" x=\"121.737273\" xlink:href=\"#m76e99ac362\" y=\"183.651319\"/>\n",
       "     <use style=\"fill:#1f77b4;stroke:#333333;\" x=\"224.151653\" xlink:href=\"#m76e99ac362\" y=\"60.366512\"/>\n",
       "     <use style=\"fill:#1f77b4;stroke:#333333;\" x=\"223.43835\" xlink:href=\"#m76e99ac362\" y=\"58.920283\"/>\n",
       "     <use style=\"fill:#1f77b4;stroke:#333333;\" x=\"112.665686\" xlink:href=\"#m76e99ac362\" y=\"194.670616\"/>\n",
       "     <use style=\"fill:#1f77b4;stroke:#333333;\" x=\"232.62061\" xlink:href=\"#m76e99ac362\" y=\"60.454033\"/>\n",
       "     <use style=\"fill:#1f77b4;stroke:#333333;\" x=\"218.768323\" xlink:href=\"#m76e99ac362\" y=\"87.76343\"/>\n",
       "     <use style=\"fill:#1f77b4;stroke:#333333;\" x=\"231.184386\" xlink:href=\"#m76e99ac362\" y=\"57.202935\"/>\n",
       "     <use style=\"fill:#1f77b4;stroke:#333333;\" x=\"105.951856\" xlink:href=\"#m76e99ac362\" y=\"182.733923\"/>\n",
       "     <use style=\"fill:#1f77b4;stroke:#333333;\" x=\"220.266348\" xlink:href=\"#m76e99ac362\" y=\"68.561718\"/>\n",
       "     <use style=\"fill:#1f77b4;stroke:#333333;\" x=\"113.873959\" xlink:href=\"#m76e99ac362\" y=\"198.141743\"/>\n",
       "     <use style=\"fill:#1f77b4;stroke:#333333;\" x=\"121.135411\" xlink:href=\"#m76e99ac362\" y=\"191.679503\"/>\n",
       "     <use style=\"fill:#1f77b4;stroke:#333333;\" x=\"105.401412\" xlink:href=\"#m76e99ac362\" y=\"181.366251\"/>\n",
       "     <use style=\"fill:#1f77b4;stroke:#333333;\" x=\"203.450464\" xlink:href=\"#m76e99ac362\" y=\"73.166107\"/>\n",
       "     <use style=\"fill:#1f77b4;stroke:#333333;\" x=\"213.131642\" xlink:href=\"#m76e99ac362\" y=\"68.440188\"/>\n",
       "     <use style=\"fill:#1f77b4;stroke:#333333;\" x=\"195.475611\" xlink:href=\"#m76e99ac362\" y=\"65.960727\"/>\n",
       "     <use style=\"fill:#1f77b4;stroke:#333333;\" x=\"104.817254\" xlink:href=\"#m76e99ac362\" y=\"181.616921\"/>\n",
       "     <use style=\"fill:#1f77b4;stroke:#333333;\" x=\"128.101527\" xlink:href=\"#m76e99ac362\" y=\"193.778082\"/>\n",
       "     <use style=\"fill:#1f77b4;stroke:#333333;\" x=\"108.575899\" xlink:href=\"#m76e99ac362\" y=\"196.017082\"/>\n",
       "     <use style=\"fill:#1f77b4;stroke:#333333;\" x=\"213.699076\" xlink:href=\"#m76e99ac362\" y=\"102.201172\"/>\n",
       "     <use style=\"fill:#1f77b4;stroke:#333333;\" x=\"116.657511\" xlink:href=\"#m76e99ac362\" y=\"184.585026\"/>\n",
       "     <use style=\"fill:#1f77b4;stroke:#333333;\" x=\"111.028071\" xlink:href=\"#m76e99ac362\" y=\"179.737071\"/>\n",
       "     <use style=\"fill:#1f77b4;stroke:#333333;\" x=\"106.803829\" xlink:href=\"#m76e99ac362\" y=\"188.460235\"/>\n",
       "     <use style=\"fill:#1f77b4;stroke:#333333;\" x=\"114.368679\" xlink:href=\"#m76e99ac362\" y=\"194.747632\"/>\n",
       "     <use style=\"fill:#1f77b4;stroke:#333333;\" x=\"202.479261\" xlink:href=\"#m76e99ac362\" y=\"76.337577\"/>\n",
       "     <use style=\"fill:#1f77b4;stroke:#333333;\" x=\"209.669671\" xlink:href=\"#m76e99ac362\" y=\"63.421804\"/>\n",
       "     <use style=\"fill:#1f77b4;stroke:#333333;\" x=\"93.182322\" xlink:href=\"#m76e99ac362\" y=\"199.661904\"/>\n",
       "     <use style=\"fill:#1f77b4;stroke:#333333;\" x=\"221.556365\" xlink:href=\"#m76e99ac362\" y=\"94.135493\"/>\n",
       "    </g>\n",
       "   </g>\n",
       "   <g id=\"PathCollection_2\">\n",
       "    <defs>\n",
       "     <path d=\"M 0 3 \n",
       "C 0.795609 3 1.55874 2.683901 2.12132 2.12132 \n",
       "C 2.683901 1.55874 3 0.795609 3 0 \n",
       "C 3 -0.795609 2.683901 -1.55874 2.12132 -2.12132 \n",
       "C 1.55874 -2.683901 0.795609 -3 0 -3 \n",
       "C -0.795609 -3 -1.55874 -2.683901 -2.12132 -2.12132 \n",
       "C -2.683901 -1.55874 -3 -0.795609 -3 0 \n",
       "C -3 0.795609 -2.683901 1.55874 -2.12132 2.12132 \n",
       "C -1.55874 2.683901 -0.795609 3 0 3 \n",
       "z\n",
       "\" id=\"m376cbc39d9\" style=\"stroke:#333333;\"/>\n",
       "    </defs>\n",
       "    <g clip-path=\"url(#pea9e406b48)\">\n",
       "     <use style=\"fill:#ff7f0e;stroke:#333333;\" x=\"217.606427\" xlink:href=\"#m376cbc39d9\" y=\"173.251328\"/>\n",
       "     <use style=\"fill:#ff7f0e;stroke:#333333;\" x=\"227.769027\" xlink:href=\"#m376cbc39d9\" y=\"173.464324\"/>\n",
       "     <use style=\"fill:#ff7f0e;stroke:#333333;\" x=\"218.500016\" xlink:href=\"#m376cbc39d9\" y=\"187.443356\"/>\n",
       "     <use style=\"fill:#ff7f0e;stroke:#333333;\" x=\"106.984413\" xlink:href=\"#m376cbc39d9\" y=\"66.511974\"/>\n",
       "     <use style=\"fill:#ff7f0e;stroke:#333333;\" x=\"233.133545\" xlink:href=\"#m376cbc39d9\" y=\"189.544269\"/>\n",
       "     <use style=\"fill:#ff7f0e;stroke:#333333;\" x=\"115.335326\" xlink:href=\"#m376cbc39d9\" y=\"80.815627\"/>\n",
       "     <use style=\"fill:#ff7f0e;stroke:#333333;\" x=\"208.972555\" xlink:href=\"#m376cbc39d9\" y=\"197.223837\"/>\n",
       "     <use style=\"fill:#ff7f0e;stroke:#333333;\" x=\"139.005527\" xlink:href=\"#m376cbc39d9\" y=\"77.700995\"/>\n",
       "     <use style=\"fill:#ff7f0e;stroke:#333333;\" x=\"230.664194\" xlink:href=\"#m376cbc39d9\" y=\"201.829041\"/>\n",
       "     <use style=\"fill:#ff7f0e;stroke:#333333;\" x=\"205.002573\" xlink:href=\"#m376cbc39d9\" y=\"176.909335\"/>\n",
       "     <use style=\"fill:#ff7f0e;stroke:#333333;\" x=\"216.845993\" xlink:href=\"#m376cbc39d9\" y=\"167.032503\"/>\n",
       "     <use style=\"fill:#ff7f0e;stroke:#333333;\" x=\"88.160629\" xlink:href=\"#m376cbc39d9\" y=\"65.861243\"/>\n",
       "     <use style=\"fill:#ff7f0e;stroke:#333333;\" x=\"128.021696\" xlink:href=\"#m376cbc39d9\" y=\"66.622254\"/>\n",
       "     <use style=\"fill:#ff7f0e;stroke:#333333;\" x=\"112.260448\" xlink:href=\"#m376cbc39d9\" y=\"91.009332\"/>\n",
       "     <use style=\"fill:#ff7f0e;stroke:#333333;\" x=\"112.50413\" xlink:href=\"#m376cbc39d9\" y=\"63.911605\"/>\n",
       "     <use style=\"fill:#ff7f0e;stroke:#333333;\" x=\"95.981186\" xlink:href=\"#m376cbc39d9\" y=\"61.50077\"/>\n",
       "     <use style=\"fill:#ff7f0e;stroke:#333333;\" x=\"219.993175\" xlink:href=\"#m376cbc39d9\" y=\"189.668312\"/>\n",
       "     <use style=\"fill:#ff7f0e;stroke:#333333;\" x=\"206.167029\" xlink:href=\"#m376cbc39d9\" y=\"173.135684\"/>\n",
       "     <use style=\"fill:#ff7f0e;stroke:#333333;\" x=\"213.740977\" xlink:href=\"#m376cbc39d9\" y=\"174.762918\"/>\n",
       "     <use style=\"fill:#ff7f0e;stroke:#333333;\" x=\"121.204965\" xlink:href=\"#m376cbc39d9\" y=\"77.433213\"/>\n",
       "     <use style=\"fill:#ff7f0e;stroke:#333333;\" x=\"203.018823\" xlink:href=\"#m376cbc39d9\" y=\"182.099388\"/>\n",
       "     <use style=\"fill:#ff7f0e;stroke:#333333;\" x=\"238.152369\" xlink:href=\"#m376cbc39d9\" y=\"188.7116\"/>\n",
       "     <use style=\"fill:#ff7f0e;stroke:#333333;\" x=\"231.441781\" xlink:href=\"#m376cbc39d9\" y=\"186.794029\"/>\n",
       "     <use style=\"fill:#ff7f0e;stroke:#333333;\" x=\"211.648243\" xlink:href=\"#m376cbc39d9\" y=\"189.950709\"/>\n",
       "     <use style=\"fill:#ff7f0e;stroke:#333333;\" x=\"236.220422\" xlink:href=\"#m376cbc39d9\" y=\"169.740566\"/>\n",
       "     <use style=\"fill:#ff7f0e;stroke:#333333;\" x=\"101.853762\" xlink:href=\"#m376cbc39d9\" y=\"86.031191\"/>\n",
       "     <use style=\"fill:#ff7f0e;stroke:#333333;\" x=\"233.94689\" xlink:href=\"#m376cbc39d9\" y=\"172.051387\"/>\n",
       "     <use style=\"fill:#ff7f0e;stroke:#333333;\" x=\"123.501925\" xlink:href=\"#m376cbc39d9\" y=\"74.175724\"/>\n",
       "     <use style=\"fill:#ff7f0e;stroke:#333333;\" x=\"218.585652\" xlink:href=\"#m376cbc39d9\" y=\"171.48351\"/>\n",
       "     <use style=\"fill:#ff7f0e;stroke:#333333;\" x=\"90.32929\" xlink:href=\"#m376cbc39d9\" y=\"75.633164\"/>\n",
       "     <use style=\"fill:#ff7f0e;stroke:#333333;\" x=\"111.280011\" xlink:href=\"#m376cbc39d9\" y=\"82.837267\"/>\n",
       "     <use style=\"fill:#ff7f0e;stroke:#333333;\" x=\"211.740197\" xlink:href=\"#m376cbc39d9\" y=\"195.115065\"/>\n",
       "     <use style=\"fill:#ff7f0e;stroke:#333333;\" x=\"205.118653\" xlink:href=\"#m376cbc39d9\" y=\"174.999985\"/>\n",
       "     <use style=\"fill:#ff7f0e;stroke:#333333;\" x=\"115.182647\" xlink:href=\"#m376cbc39d9\" y=\"78.537928\"/>\n",
       "     <use style=\"fill:#ff7f0e;stroke:#333333;\" x=\"227.992219\" xlink:href=\"#m376cbc39d9\" y=\"175.571697\"/>\n",
       "     <use style=\"fill:#ff7f0e;stroke:#333333;\" x=\"115.634509\" xlink:href=\"#m376cbc39d9\" y=\"84.738407\"/>\n",
       "     <use style=\"fill:#ff7f0e;stroke:#333333;\" x=\"113.207682\" xlink:href=\"#m376cbc39d9\" y=\"86.904679\"/>\n",
       "     <use style=\"fill:#ff7f0e;stroke:#333333;\" x=\"241.406644\" xlink:href=\"#m376cbc39d9\" y=\"195.654551\"/>\n",
       "     <use style=\"fill:#ff7f0e;stroke:#333333;\" x=\"218.12314\" xlink:href=\"#m376cbc39d9\" y=\"172.59052\"/>\n",
       "     <use style=\"fill:#ff7f0e;stroke:#333333;\" x=\"102.818896\" xlink:href=\"#m376cbc39d9\" y=\"74.729342\"/>\n",
       "     <use style=\"fill:#ff7f0e;stroke:#333333;\" x=\"126.547202\" xlink:href=\"#m376cbc39d9\" y=\"76.348126\"/>\n",
       "     <use style=\"fill:#ff7f0e;stroke:#333333;\" x=\"129.239769\" xlink:href=\"#m376cbc39d9\" y=\"62.486839\"/>\n",
       "     <use style=\"fill:#ff7f0e;stroke:#333333;\" x=\"228.152228\" xlink:href=\"#m376cbc39d9\" y=\"193.26863\"/>\n",
       "     <use style=\"fill:#ff7f0e;stroke:#333333;\" x=\"103.215052\" xlink:href=\"#m376cbc39d9\" y=\"78.005027\"/>\n",
       "     <use style=\"fill:#ff7f0e;stroke:#333333;\" x=\"216.222162\" xlink:href=\"#m376cbc39d9\" y=\"176.670472\"/>\n",
       "     <use style=\"fill:#ff7f0e;stroke:#333333;\" x=\"114.916325\" xlink:href=\"#m376cbc39d9\" y=\"88.653235\"/>\n",
       "     <use style=\"fill:#ff7f0e;stroke:#333333;\" x=\"121.115357\" xlink:href=\"#m376cbc39d9\" y=\"70.241533\"/>\n",
       "     <use style=\"fill:#ff7f0e;stroke:#333333;\" x=\"120.258643\" xlink:href=\"#m376cbc39d9\" y=\"72.957314\"/>\n",
       "     <use style=\"fill:#ff7f0e;stroke:#333333;\" x=\"209.315916\" xlink:href=\"#m376cbc39d9\" y=\"177.378942\"/>\n",
       "     <use style=\"fill:#ff7f0e;stroke:#333333;\" x=\"103.210102\" xlink:href=\"#m376cbc39d9\" y=\"91.806632\"/>\n",
       "     <use style=\"fill:#ff7f0e;stroke:#333333;\" x=\"119.325862\" xlink:href=\"#m376cbc39d9\" y=\"68.692592\"/>\n",
       "     <use style=\"fill:#ff7f0e;stroke:#333333;\" x=\"202.824093\" xlink:href=\"#m376cbc39d9\" y=\"174.268046\"/>\n",
       "     <use style=\"fill:#ff7f0e;stroke:#333333;\" x=\"223.801372\" xlink:href=\"#m376cbc39d9\" y=\"196.626833\"/>\n",
       "     <use style=\"fill:#ff7f0e;stroke:#333333;\" x=\"117.310993\" xlink:href=\"#m376cbc39d9\" y=\"69.094029\"/>\n",
       "     <use style=\"fill:#ff7f0e;stroke:#333333;\" x=\"122.253941\" xlink:href=\"#m376cbc39d9\" y=\"84.153386\"/>\n",
       "     <use style=\"fill:#ff7f0e;stroke:#333333;\" x=\"208.231426\" xlink:href=\"#m376cbc39d9\" y=\"184.433377\"/>\n",
       "     <use style=\"fill:#ff7f0e;stroke:#333333;\" x=\"201.565732\" xlink:href=\"#m376cbc39d9\" y=\"186.557453\"/>\n",
       "     <use style=\"fill:#ff7f0e;stroke:#333333;\" x=\"120.045207\" xlink:href=\"#m376cbc39d9\" y=\"79.883512\"/>\n",
       "     <use style=\"fill:#ff7f0e;stroke:#333333;\" x=\"85.476218\" xlink:href=\"#m376cbc39d9\" y=\"85.530225\"/>\n",
       "     <use style=\"fill:#ff7f0e;stroke:#333333;\" x=\"108.621104\" xlink:href=\"#m376cbc39d9\" y=\"91.775968\"/>\n",
       "     <use style=\"fill:#ff7f0e;stroke:#333333;\" x=\"122.454711\" xlink:href=\"#m376cbc39d9\" y=\"71.807464\"/>\n",
       "     <use style=\"fill:#ff7f0e;stroke:#333333;\" x=\"105.245089\" xlink:href=\"#m376cbc39d9\" y=\"80.555517\"/>\n",
       "     <use style=\"fill:#ff7f0e;stroke:#333333;\" x=\"110.345637\" xlink:href=\"#m376cbc39d9\" y=\"74.684201\"/>\n",
       "     <use style=\"fill:#ff7f0e;stroke:#333333;\" x=\"122.948606\" xlink:href=\"#m376cbc39d9\" y=\"84.523445\"/>\n",
       "     <use style=\"fill:#ff7f0e;stroke:#333333;\" x=\"238.331781\" xlink:href=\"#m376cbc39d9\" y=\"190.109778\"/>\n",
       "     <use style=\"fill:#ff7f0e;stroke:#333333;\" x=\"99.158482\" xlink:href=\"#m376cbc39d9\" y=\"62.144579\"/>\n",
       "     <use style=\"fill:#ff7f0e;stroke:#333333;\" x=\"238.904126\" xlink:href=\"#m376cbc39d9\" y=\"176.479967\"/>\n",
       "     <use style=\"fill:#ff7f0e;stroke:#333333;\" x=\"228.511103\" xlink:href=\"#m376cbc39d9\" y=\"166.124698\"/>\n",
       "     <use style=\"fill:#ff7f0e;stroke:#333333;\" x=\"204.749573\" xlink:href=\"#m376cbc39d9\" y=\"197.183933\"/>\n",
       "     <use style=\"fill:#ff7f0e;stroke:#333333;\" x=\"207.817035\" xlink:href=\"#m376cbc39d9\" y=\"209.749946\"/>\n",
       "     <use style=\"fill:#ff7f0e;stroke:#333333;\" x=\"113.647455\" xlink:href=\"#m376cbc39d9\" y=\"63.325534\"/>\n",
       "     <use style=\"fill:#ff7f0e;stroke:#333333;\" x=\"209.936021\" xlink:href=\"#m376cbc39d9\" y=\"171.712521\"/>\n",
       "     <use style=\"fill:#ff7f0e;stroke:#333333;\" x=\"199.504867\" xlink:href=\"#m376cbc39d9\" y=\"160.73698\"/>\n",
       "     <use style=\"fill:#ff7f0e;stroke:#333333;\" x=\"102.861494\" xlink:href=\"#m376cbc39d9\" y=\"67.872443\"/>\n",
       "     <use style=\"fill:#ff7f0e;stroke:#333333;\" x=\"121.543306\" xlink:href=\"#m376cbc39d9\" y=\"77.896386\"/>\n",
       "     <use style=\"fill:#ff7f0e;stroke:#333333;\" x=\"230.263574\" xlink:href=\"#m376cbc39d9\" y=\"175.913803\"/>\n",
       "     <use style=\"fill:#ff7f0e;stroke:#333333;\" x=\"108.769772\" xlink:href=\"#m376cbc39d9\" y=\"71.243232\"/>\n",
       "     <use style=\"fill:#ff7f0e;stroke:#333333;\" x=\"118.137999\" xlink:href=\"#m376cbc39d9\" y=\"79.260109\"/>\n",
       "     <use style=\"fill:#ff7f0e;stroke:#333333;\" x=\"116.883422\" xlink:href=\"#m376cbc39d9\" y=\"81.810632\"/>\n",
       "     <use style=\"fill:#ff7f0e;stroke:#333333;\" x=\"217.332054\" xlink:href=\"#m376cbc39d9\" y=\"170.303854\"/>\n",
       "     <use style=\"fill:#ff7f0e;stroke:#333333;\" x=\"223.569574\" xlink:href=\"#m376cbc39d9\" y=\"163.041048\"/>\n",
       "     <use style=\"fill:#ff7f0e;stroke:#333333;\" x=\"230.510522\" xlink:href=\"#m376cbc39d9\" y=\"176.611656\"/>\n",
       "     <use style=\"fill:#ff7f0e;stroke:#333333;\" x=\"142.305392\" xlink:href=\"#m376cbc39d9\" y=\"77.469185\"/>\n",
       "     <use style=\"fill:#ff7f0e;stroke:#333333;\" x=\"204.163476\" xlink:href=\"#m376cbc39d9\" y=\"198.978781\"/>\n",
       "     <use style=\"fill:#ff7f0e;stroke:#333333;\" x=\"244.521801\" xlink:href=\"#m376cbc39d9\" y=\"198.229188\"/>\n",
       "     <use style=\"fill:#ff7f0e;stroke:#333333;\" x=\"214.441631\" xlink:href=\"#m376cbc39d9\" y=\"195.840128\"/>\n",
       "     <use style=\"fill:#ff7f0e;stroke:#333333;\" x=\"105.972186\" xlink:href=\"#m376cbc39d9\" y=\"85.737332\"/>\n",
       "     <use style=\"fill:#ff7f0e;stroke:#333333;\" x=\"104.205171\" xlink:href=\"#m376cbc39d9\" y=\"77.466631\"/>\n",
       "     <use style=\"fill:#ff7f0e;stroke:#333333;\" x=\"232.367065\" xlink:href=\"#m376cbc39d9\" y=\"198.103735\"/>\n",
       "     <use style=\"fill:#ff7f0e;stroke:#333333;\" x=\"104.549328\" xlink:href=\"#m376cbc39d9\" y=\"83.321073\"/>\n",
       "     <use style=\"fill:#ff7f0e;stroke:#333333;\" x=\"93.504718\" xlink:href=\"#m376cbc39d9\" y=\"79.424966\"/>\n",
       "     <use style=\"fill:#ff7f0e;stroke:#333333;\" x=\"127.819202\" xlink:href=\"#m376cbc39d9\" y=\"69.050871\"/>\n",
       "     <use style=\"fill:#ff7f0e;stroke:#333333;\" x=\"106.888986\" xlink:href=\"#m376cbc39d9\" y=\"71.394117\"/>\n",
       "     <use style=\"fill:#ff7f0e;stroke:#333333;\" x=\"238.372282\" xlink:href=\"#m376cbc39d9\" y=\"196.147065\"/>\n",
       "     <use style=\"fill:#ff7f0e;stroke:#333333;\" x=\"200.720575\" xlink:href=\"#m376cbc39d9\" y=\"181.948403\"/>\n",
       "     <use style=\"fill:#ff7f0e;stroke:#333333;\" x=\"113.562585\" xlink:href=\"#m376cbc39d9\" y=\"65.860828\"/>\n",
       "     <use style=\"fill:#ff7f0e;stroke:#333333;\" x=\"236.216055\" xlink:href=\"#m376cbc39d9\" y=\"194.238972\"/>\n",
       "    </g>\n",
       "   </g>\n",
       "   <g id=\"matplotlib.axis_1\">\n",
       "    <g id=\"xtick_1\">\n",
       "     <g id=\"line2d_1\">\n",
       "      <defs>\n",
       "       <path d=\"M 0 0 \n",
       "L 0 3.5 \n",
       "\" id=\"m44940c1586\" style=\"stroke:#000000;stroke-width:0.8;\"/>\n",
       "      </defs>\n",
       "      <g>\n",
       "       <use style=\"stroke:#000000;stroke-width:0.8;\" x=\"58.523438\" xlink:href=\"#m44940c1586\" y=\"239.758125\"/>\n",
       "      </g>\n",
       "     </g>\n",
       "     <g id=\"text_1\">\n",
       "      <!-- −0.5 -->\n",
       "      <g transform=\"translate(46.382031 254.356562)scale(0.1 -0.1)\">\n",
       "       <defs>\n",
       "        <path d=\"M 678 2272 \n",
       "L 4684 2272 \n",
       "L 4684 1741 \n",
       "L 678 1741 \n",
       "L 678 2272 \n",
       "z\n",
       "\" id=\"DejaVuSans-2212\" transform=\"scale(0.015625)\"/>\n",
       "        <path d=\"M 2034 4250 \n",
       "Q 1547 4250 1301 3770 \n",
       "Q 1056 3291 1056 2328 \n",
       "Q 1056 1369 1301 889 \n",
       "Q 1547 409 2034 409 \n",
       "Q 2525 409 2770 889 \n",
       "Q 3016 1369 3016 2328 \n",
       "Q 3016 3291 2770 3770 \n",
       "Q 2525 4250 2034 4250 \n",
       "z\n",
       "M 2034 4750 \n",
       "Q 2819 4750 3233 4129 \n",
       "Q 3647 3509 3647 2328 \n",
       "Q 3647 1150 3233 529 \n",
       "Q 2819 -91 2034 -91 \n",
       "Q 1250 -91 836 529 \n",
       "Q 422 1150 422 2328 \n",
       "Q 422 3509 836 4129 \n",
       "Q 1250 4750 2034 4750 \n",
       "z\n",
       "\" id=\"DejaVuSans-30\" transform=\"scale(0.015625)\"/>\n",
       "        <path d=\"M 684 794 \n",
       "L 1344 794 \n",
       "L 1344 0 \n",
       "L 684 0 \n",
       "L 684 794 \n",
       "z\n",
       "\" id=\"DejaVuSans-2e\" transform=\"scale(0.015625)\"/>\n",
       "        <path d=\"M 691 4666 \n",
       "L 3169 4666 \n",
       "L 3169 4134 \n",
       "L 1269 4134 \n",
       "L 1269 2991 \n",
       "Q 1406 3038 1543 3061 \n",
       "Q 1681 3084 1819 3084 \n",
       "Q 2600 3084 3056 2656 \n",
       "Q 3513 2228 3513 1497 \n",
       "Q 3513 744 3044 326 \n",
       "Q 2575 -91 1722 -91 \n",
       "Q 1428 -91 1123 -41 \n",
       "Q 819 9 494 109 \n",
       "L 494 744 \n",
       "Q 775 591 1075 516 \n",
       "Q 1375 441 1709 441 \n",
       "Q 2250 441 2565 725 \n",
       "Q 2881 1009 2881 1497 \n",
       "Q 2881 1984 2565 2268 \n",
       "Q 2250 2553 1709 2553 \n",
       "Q 1456 2553 1204 2497 \n",
       "Q 953 2441 691 2322 \n",
       "L 691 4666 \n",
       "z\n",
       "\" id=\"DejaVuSans-35\" transform=\"scale(0.015625)\"/>\n",
       "       </defs>\n",
       "       <use xlink:href=\"#DejaVuSans-2212\"/>\n",
       "       <use x=\"83.789062\" xlink:href=\"#DejaVuSans-30\"/>\n",
       "       <use x=\"147.412109\" xlink:href=\"#DejaVuSans-2e\"/>\n",
       "       <use x=\"179.199219\" xlink:href=\"#DejaVuSans-35\"/>\n",
       "      </g>\n",
       "     </g>\n",
       "    </g>\n",
       "    <g id=\"xtick_2\">\n",
       "     <g id=\"line2d_2\">\n",
       "      <g>\n",
       "       <use style=\"stroke:#000000;stroke-width:0.8;\" x=\"112.883437\" xlink:href=\"#m44940c1586\" y=\"239.758125\"/>\n",
       "      </g>\n",
       "     </g>\n",
       "     <g id=\"text_2\">\n",
       "      <!-- 0.0 -->\n",
       "      <g transform=\"translate(104.931875 254.356562)scale(0.1 -0.1)\">\n",
       "       <use xlink:href=\"#DejaVuSans-30\"/>\n",
       "       <use x=\"63.623047\" xlink:href=\"#DejaVuSans-2e\"/>\n",
       "       <use x=\"95.410156\" xlink:href=\"#DejaVuSans-30\"/>\n",
       "      </g>\n",
       "     </g>\n",
       "    </g>\n",
       "    <g id=\"xtick_3\">\n",
       "     <g id=\"line2d_3\">\n",
       "      <g>\n",
       "       <use style=\"stroke:#000000;stroke-width:0.8;\" x=\"167.243437\" xlink:href=\"#m44940c1586\" y=\"239.758125\"/>\n",
       "      </g>\n",
       "     </g>\n",
       "     <g id=\"text_3\">\n",
       "      <!-- 0.5 -->\n",
       "      <g transform=\"translate(159.291875 254.356562)scale(0.1 -0.1)\">\n",
       "       <use xlink:href=\"#DejaVuSans-30\"/>\n",
       "       <use x=\"63.623047\" xlink:href=\"#DejaVuSans-2e\"/>\n",
       "       <use x=\"95.410156\" xlink:href=\"#DejaVuSans-35\"/>\n",
       "      </g>\n",
       "     </g>\n",
       "    </g>\n",
       "    <g id=\"xtick_4\">\n",
       "     <g id=\"line2d_4\">\n",
       "      <g>\n",
       "       <use style=\"stroke:#000000;stroke-width:0.8;\" x=\"221.603437\" xlink:href=\"#m44940c1586\" y=\"239.758125\"/>\n",
       "      </g>\n",
       "     </g>\n",
       "     <g id=\"text_4\">\n",
       "      <!-- 1.0 -->\n",
       "      <g transform=\"translate(213.651875 254.356562)scale(0.1 -0.1)\">\n",
       "       <defs>\n",
       "        <path d=\"M 794 531 \n",
       "L 1825 531 \n",
       "L 1825 4091 \n",
       "L 703 3866 \n",
       "L 703 4441 \n",
       "L 1819 4666 \n",
       "L 2450 4666 \n",
       "L 2450 531 \n",
       "L 3481 531 \n",
       "L 3481 0 \n",
       "L 794 0 \n",
       "L 794 531 \n",
       "z\n",
       "\" id=\"DejaVuSans-31\" transform=\"scale(0.015625)\"/>\n",
       "       </defs>\n",
       "       <use xlink:href=\"#DejaVuSans-31\"/>\n",
       "       <use x=\"63.623047\" xlink:href=\"#DejaVuSans-2e\"/>\n",
       "       <use x=\"95.410156\" xlink:href=\"#DejaVuSans-30\"/>\n",
       "      </g>\n",
       "     </g>\n",
       "    </g>\n",
       "    <g id=\"xtick_5\">\n",
       "     <g id=\"line2d_5\">\n",
       "      <g>\n",
       "       <use style=\"stroke:#000000;stroke-width:0.8;\" x=\"275.963437\" xlink:href=\"#m44940c1586\" y=\"239.758125\"/>\n",
       "      </g>\n",
       "     </g>\n",
       "     <g id=\"text_5\">\n",
       "      <!-- 1.5 -->\n",
       "      <g transform=\"translate(268.011875 254.356562)scale(0.1 -0.1)\">\n",
       "       <use xlink:href=\"#DejaVuSans-31\"/>\n",
       "       <use x=\"63.623047\" xlink:href=\"#DejaVuSans-2e\"/>\n",
       "       <use x=\"95.410156\" xlink:href=\"#DejaVuSans-35\"/>\n",
       "      </g>\n",
       "     </g>\n",
       "    </g>\n",
       "    <g id=\"text_6\">\n",
       "     <!-- $x_1$ -->\n",
       "     <g transform=\"translate(161.893438 268.034687)scale(0.1 -0.1)\">\n",
       "      <defs>\n",
       "       <path d=\"M 3841 3500 \n",
       "L 2234 1784 \n",
       "L 3219 0 \n",
       "L 2559 0 \n",
       "L 1819 1388 \n",
       "L 531 0 \n",
       "L -166 0 \n",
       "L 1556 1844 \n",
       "L 641 3500 \n",
       "L 1300 3500 \n",
       "L 1972 2234 \n",
       "L 3144 3500 \n",
       "L 3841 3500 \n",
       "z\n",
       "\" id=\"DejaVuSans-Oblique-78\" transform=\"scale(0.015625)\"/>\n",
       "      </defs>\n",
       "      <use transform=\"translate(0 0.3125)\" xlink:href=\"#DejaVuSans-Oblique-78\"/>\n",
       "      <use transform=\"translate(59.179688 -16.09375)scale(0.7)\" xlink:href=\"#DejaVuSans-31\"/>\n",
       "     </g>\n",
       "    </g>\n",
       "   </g>\n",
       "   <g id=\"matplotlib.axis_2\">\n",
       "    <g id=\"ytick_1\">\n",
       "     <g id=\"line2d_6\">\n",
       "      <defs>\n",
       "       <path d=\"M 0 0 \n",
       "L -3.5 0 \n",
       "\" id=\"m9f216619a6\" style=\"stroke:#000000;stroke-width:0.8;\"/>\n",
       "      </defs>\n",
       "      <g>\n",
       "       <use style=\"stroke:#000000;stroke-width:0.8;\" x=\"58.523438\" xlink:href=\"#m9f216619a6\" y=\"239.758125\"/>\n",
       "      </g>\n",
       "     </g>\n",
       "     <g id=\"text_7\">\n",
       "      <!-- −0.50 -->\n",
       "      <g transform=\"translate(20.878125 243.557344)scale(0.1 -0.1)\">\n",
       "       <use xlink:href=\"#DejaVuSans-2212\"/>\n",
       "       <use x=\"83.789062\" xlink:href=\"#DejaVuSans-30\"/>\n",
       "       <use x=\"147.412109\" xlink:href=\"#DejaVuSans-2e\"/>\n",
       "       <use x=\"179.199219\" xlink:href=\"#DejaVuSans-35\"/>\n",
       "       <use x=\"242.822266\" xlink:href=\"#DejaVuSans-30\"/>\n",
       "      </g>\n",
       "     </g>\n",
       "    </g>\n",
       "    <g id=\"ytick_2\">\n",
       "     <g id=\"line2d_7\">\n",
       "      <g>\n",
       "       <use style=\"stroke:#000000;stroke-width:0.8;\" x=\"58.523438\" xlink:href=\"#m9f216619a6\" y=\"212.578125\"/>\n",
       "      </g>\n",
       "     </g>\n",
       "     <g id=\"text_8\">\n",
       "      <!-- −0.25 -->\n",
       "      <g transform=\"translate(20.878125 216.377344)scale(0.1 -0.1)\">\n",
       "       <defs>\n",
       "        <path d=\"M 1228 531 \n",
       "L 3431 531 \n",
       "L 3431 0 \n",
       "L 469 0 \n",
       "L 469 531 \n",
       "Q 828 903 1448 1529 \n",
       "Q 2069 2156 2228 2338 \n",
       "Q 2531 2678 2651 2914 \n",
       "Q 2772 3150 2772 3378 \n",
       "Q 2772 3750 2511 3984 \n",
       "Q 2250 4219 1831 4219 \n",
       "Q 1534 4219 1204 4116 \n",
       "Q 875 4013 500 3803 \n",
       "L 500 4441 \n",
       "Q 881 4594 1212 4672 \n",
       "Q 1544 4750 1819 4750 \n",
       "Q 2544 4750 2975 4387 \n",
       "Q 3406 4025 3406 3419 \n",
       "Q 3406 3131 3298 2873 \n",
       "Q 3191 2616 2906 2266 \n",
       "Q 2828 2175 2409 1742 \n",
       "Q 1991 1309 1228 531 \n",
       "z\n",
       "\" id=\"DejaVuSans-32\" transform=\"scale(0.015625)\"/>\n",
       "       </defs>\n",
       "       <use xlink:href=\"#DejaVuSans-2212\"/>\n",
       "       <use x=\"83.789062\" xlink:href=\"#DejaVuSans-30\"/>\n",
       "       <use x=\"147.412109\" xlink:href=\"#DejaVuSans-2e\"/>\n",
       "       <use x=\"179.199219\" xlink:href=\"#DejaVuSans-32\"/>\n",
       "       <use x=\"242.822266\" xlink:href=\"#DejaVuSans-35\"/>\n",
       "      </g>\n",
       "     </g>\n",
       "    </g>\n",
       "    <g id=\"ytick_3\">\n",
       "     <g id=\"line2d_8\">\n",
       "      <g>\n",
       "       <use style=\"stroke:#000000;stroke-width:0.8;\" x=\"58.523438\" xlink:href=\"#m9f216619a6\" y=\"185.398125\"/>\n",
       "      </g>\n",
       "     </g>\n",
       "     <g id=\"text_9\">\n",
       "      <!-- 0.00 -->\n",
       "      <g transform=\"translate(29.257812 189.197344)scale(0.1 -0.1)\">\n",
       "       <use xlink:href=\"#DejaVuSans-30\"/>\n",
       "       <use x=\"63.623047\" xlink:href=\"#DejaVuSans-2e\"/>\n",
       "       <use x=\"95.410156\" xlink:href=\"#DejaVuSans-30\"/>\n",
       "       <use x=\"159.033203\" xlink:href=\"#DejaVuSans-30\"/>\n",
       "      </g>\n",
       "     </g>\n",
       "    </g>\n",
       "    <g id=\"ytick_4\">\n",
       "     <g id=\"line2d_9\">\n",
       "      <g>\n",
       "       <use style=\"stroke:#000000;stroke-width:0.8;\" x=\"58.523438\" xlink:href=\"#m9f216619a6\" y=\"158.218125\"/>\n",
       "      </g>\n",
       "     </g>\n",
       "     <g id=\"text_10\">\n",
       "      <!-- 0.25 -->\n",
       "      <g transform=\"translate(29.257812 162.017344)scale(0.1 -0.1)\">\n",
       "       <use xlink:href=\"#DejaVuSans-30\"/>\n",
       "       <use x=\"63.623047\" xlink:href=\"#DejaVuSans-2e\"/>\n",
       "       <use x=\"95.410156\" xlink:href=\"#DejaVuSans-32\"/>\n",
       "       <use x=\"159.033203\" xlink:href=\"#DejaVuSans-35\"/>\n",
       "      </g>\n",
       "     </g>\n",
       "    </g>\n",
       "    <g id=\"ytick_5\">\n",
       "     <g id=\"line2d_10\">\n",
       "      <g>\n",
       "       <use style=\"stroke:#000000;stroke-width:0.8;\" x=\"58.523438\" xlink:href=\"#m9f216619a6\" y=\"131.038125\"/>\n",
       "      </g>\n",
       "     </g>\n",
       "     <g id=\"text_11\">\n",
       "      <!-- 0.50 -->\n",
       "      <g transform=\"translate(29.257812 134.837344)scale(0.1 -0.1)\">\n",
       "       <use xlink:href=\"#DejaVuSans-30\"/>\n",
       "       <use x=\"63.623047\" xlink:href=\"#DejaVuSans-2e\"/>\n",
       "       <use x=\"95.410156\" xlink:href=\"#DejaVuSans-35\"/>\n",
       "       <use x=\"159.033203\" xlink:href=\"#DejaVuSans-30\"/>\n",
       "      </g>\n",
       "     </g>\n",
       "    </g>\n",
       "    <g id=\"ytick_6\">\n",
       "     <g id=\"line2d_11\">\n",
       "      <g>\n",
       "       <use style=\"stroke:#000000;stroke-width:0.8;\" x=\"58.523438\" xlink:href=\"#m9f216619a6\" y=\"103.858125\"/>\n",
       "      </g>\n",
       "     </g>\n",
       "     <g id=\"text_12\">\n",
       "      <!-- 0.75 -->\n",
       "      <g transform=\"translate(29.257812 107.657344)scale(0.1 -0.1)\">\n",
       "       <defs>\n",
       "        <path d=\"M 525 4666 \n",
       "L 3525 4666 \n",
       "L 3525 4397 \n",
       "L 1831 0 \n",
       "L 1172 0 \n",
       "L 2766 4134 \n",
       "L 525 4134 \n",
       "L 525 4666 \n",
       "z\n",
       "\" id=\"DejaVuSans-37\" transform=\"scale(0.015625)\"/>\n",
       "       </defs>\n",
       "       <use xlink:href=\"#DejaVuSans-30\"/>\n",
       "       <use x=\"63.623047\" xlink:href=\"#DejaVuSans-2e\"/>\n",
       "       <use x=\"95.410156\" xlink:href=\"#DejaVuSans-37\"/>\n",
       "       <use x=\"159.033203\" xlink:href=\"#DejaVuSans-35\"/>\n",
       "      </g>\n",
       "     </g>\n",
       "    </g>\n",
       "    <g id=\"ytick_7\">\n",
       "     <g id=\"line2d_12\">\n",
       "      <g>\n",
       "       <use style=\"stroke:#000000;stroke-width:0.8;\" x=\"58.523438\" xlink:href=\"#m9f216619a6\" y=\"76.678125\"/>\n",
       "      </g>\n",
       "     </g>\n",
       "     <g id=\"text_13\">\n",
       "      <!-- 1.00 -->\n",
       "      <g transform=\"translate(29.257812 80.477344)scale(0.1 -0.1)\">\n",
       "       <use xlink:href=\"#DejaVuSans-31\"/>\n",
       "       <use x=\"63.623047\" xlink:href=\"#DejaVuSans-2e\"/>\n",
       "       <use x=\"95.410156\" xlink:href=\"#DejaVuSans-30\"/>\n",
       "       <use x=\"159.033203\" xlink:href=\"#DejaVuSans-30\"/>\n",
       "      </g>\n",
       "     </g>\n",
       "    </g>\n",
       "    <g id=\"ytick_8\">\n",
       "     <g id=\"line2d_13\">\n",
       "      <g>\n",
       "       <use style=\"stroke:#000000;stroke-width:0.8;\" x=\"58.523438\" xlink:href=\"#m9f216619a6\" y=\"49.498125\"/>\n",
       "      </g>\n",
       "     </g>\n",
       "     <g id=\"text_14\">\n",
       "      <!-- 1.25 -->\n",
       "      <g transform=\"translate(29.257812 53.297344)scale(0.1 -0.1)\">\n",
       "       <use xlink:href=\"#DejaVuSans-31\"/>\n",
       "       <use x=\"63.623047\" xlink:href=\"#DejaVuSans-2e\"/>\n",
       "       <use x=\"95.410156\" xlink:href=\"#DejaVuSans-32\"/>\n",
       "       <use x=\"159.033203\" xlink:href=\"#DejaVuSans-35\"/>\n",
       "      </g>\n",
       "     </g>\n",
       "    </g>\n",
       "    <g id=\"ytick_9\">\n",
       "     <g id=\"line2d_14\">\n",
       "      <g>\n",
       "       <use style=\"stroke:#000000;stroke-width:0.8;\" x=\"58.523438\" xlink:href=\"#m9f216619a6\" y=\"22.318125\"/>\n",
       "      </g>\n",
       "     </g>\n",
       "     <g id=\"text_15\">\n",
       "      <!-- 1.50 -->\n",
       "      <g transform=\"translate(29.257812 26.117344)scale(0.1 -0.1)\">\n",
       "       <use xlink:href=\"#DejaVuSans-31\"/>\n",
       "       <use x=\"63.623047\" xlink:href=\"#DejaVuSans-2e\"/>\n",
       "       <use x=\"95.410156\" xlink:href=\"#DejaVuSans-35\"/>\n",
       "       <use x=\"159.033203\" xlink:href=\"#DejaVuSans-30\"/>\n",
       "      </g>\n",
       "     </g>\n",
       "    </g>\n",
       "    <g id=\"text_16\">\n",
       "     <!-- $x_2$ -->\n",
       "     <g transform=\"translate(14.798437 136.388125)rotate(-90)scale(0.1 -0.1)\">\n",
       "      <use transform=\"translate(0 0.3125)\" xlink:href=\"#DejaVuSans-Oblique-78\"/>\n",
       "      <use transform=\"translate(59.179688 -16.09375)scale(0.7)\" xlink:href=\"#DejaVuSans-32\"/>\n",
       "     </g>\n",
       "    </g>\n",
       "   </g>\n",
       "   <g id=\"patch_3\">\n",
       "    <path d=\"M 58.523438 239.758125 \n",
       "L 58.523438 22.318125 \n",
       "\" style=\"fill:none;stroke:#000000;stroke-linecap:square;stroke-linejoin:miter;stroke-width:0.8;\"/>\n",
       "   </g>\n",
       "   <g id=\"patch_4\">\n",
       "    <path d=\"M 275.963437 239.758125 \n",
       "L 275.963437 22.318125 \n",
       "\" style=\"fill:none;stroke:#000000;stroke-linecap:square;stroke-linejoin:miter;stroke-width:0.8;\"/>\n",
       "   </g>\n",
       "   <g id=\"patch_5\">\n",
       "    <path d=\"M 58.523438 239.758125 \n",
       "L 275.963437 239.758125 \n",
       "\" style=\"fill:none;stroke:#000000;stroke-linecap:square;stroke-linejoin:miter;stroke-width:0.8;\"/>\n",
       "   </g>\n",
       "   <g id=\"patch_6\">\n",
       "    <path d=\"M 58.523438 22.318125 \n",
       "L 275.963437 22.318125 \n",
       "\" style=\"fill:none;stroke:#000000;stroke-linecap:square;stroke-linejoin:miter;stroke-width:0.8;\"/>\n",
       "   </g>\n",
       "   <g id=\"text_17\">\n",
       "    <!-- Dataset samples -->\n",
       "    <g transform=\"translate(116.900625 16.318125)scale(0.12 -0.12)\">\n",
       "     <defs>\n",
       "      <path d=\"M 1259 4147 \n",
       "L 1259 519 \n",
       "L 2022 519 \n",
       "Q 2988 519 3436 956 \n",
       "Q 3884 1394 3884 2338 \n",
       "Q 3884 3275 3436 3711 \n",
       "Q 2988 4147 2022 4147 \n",
       "L 1259 4147 \n",
       "z\n",
       "M 628 4666 \n",
       "L 1925 4666 \n",
       "Q 3281 4666 3915 4102 \n",
       "Q 4550 3538 4550 2338 \n",
       "Q 4550 1131 3912 565 \n",
       "Q 3275 0 1925 0 \n",
       "L 628 0 \n",
       "L 628 4666 \n",
       "z\n",
       "\" id=\"DejaVuSans-44\" transform=\"scale(0.015625)\"/>\n",
       "      <path d=\"M 2194 1759 \n",
       "Q 1497 1759 1228 1600 \n",
       "Q 959 1441 959 1056 \n",
       "Q 959 750 1161 570 \n",
       "Q 1363 391 1709 391 \n",
       "Q 2188 391 2477 730 \n",
       "Q 2766 1069 2766 1631 \n",
       "L 2766 1759 \n",
       "L 2194 1759 \n",
       "z\n",
       "M 3341 1997 \n",
       "L 3341 0 \n",
       "L 2766 0 \n",
       "L 2766 531 \n",
       "Q 2569 213 2275 61 \n",
       "Q 1981 -91 1556 -91 \n",
       "Q 1019 -91 701 211 \n",
       "Q 384 513 384 1019 \n",
       "Q 384 1609 779 1909 \n",
       "Q 1175 2209 1959 2209 \n",
       "L 2766 2209 \n",
       "L 2766 2266 \n",
       "Q 2766 2663 2505 2880 \n",
       "Q 2244 3097 1772 3097 \n",
       "Q 1472 3097 1187 3025 \n",
       "Q 903 2953 641 2809 \n",
       "L 641 3341 \n",
       "Q 956 3463 1253 3523 \n",
       "Q 1550 3584 1831 3584 \n",
       "Q 2591 3584 2966 3190 \n",
       "Q 3341 2797 3341 1997 \n",
       "z\n",
       "\" id=\"DejaVuSans-61\" transform=\"scale(0.015625)\"/>\n",
       "      <path d=\"M 1172 4494 \n",
       "L 1172 3500 \n",
       "L 2356 3500 \n",
       "L 2356 3053 \n",
       "L 1172 3053 \n",
       "L 1172 1153 \n",
       "Q 1172 725 1289 603 \n",
       "Q 1406 481 1766 481 \n",
       "L 2356 481 \n",
       "L 2356 0 \n",
       "L 1766 0 \n",
       "Q 1100 0 847 248 \n",
       "Q 594 497 594 1153 \n",
       "L 594 3053 \n",
       "L 172 3053 \n",
       "L 172 3500 \n",
       "L 594 3500 \n",
       "L 594 4494 \n",
       "L 1172 4494 \n",
       "z\n",
       "\" id=\"DejaVuSans-74\" transform=\"scale(0.015625)\"/>\n",
       "      <path d=\"M 2834 3397 \n",
       "L 2834 2853 \n",
       "Q 2591 2978 2328 3040 \n",
       "Q 2066 3103 1784 3103 \n",
       "Q 1356 3103 1142 2972 \n",
       "Q 928 2841 928 2578 \n",
       "Q 928 2378 1081 2264 \n",
       "Q 1234 2150 1697 2047 \n",
       "L 1894 2003 \n",
       "Q 2506 1872 2764 1633 \n",
       "Q 3022 1394 3022 966 \n",
       "Q 3022 478 2636 193 \n",
       "Q 2250 -91 1575 -91 \n",
       "Q 1294 -91 989 -36 \n",
       "Q 684 19 347 128 \n",
       "L 347 722 \n",
       "Q 666 556 975 473 \n",
       "Q 1284 391 1588 391 \n",
       "Q 1994 391 2212 530 \n",
       "Q 2431 669 2431 922 \n",
       "Q 2431 1156 2273 1281 \n",
       "Q 2116 1406 1581 1522 \n",
       "L 1381 1569 \n",
       "Q 847 1681 609 1914 \n",
       "Q 372 2147 372 2553 \n",
       "Q 372 3047 722 3315 \n",
       "Q 1072 3584 1716 3584 \n",
       "Q 2034 3584 2315 3537 \n",
       "Q 2597 3491 2834 3397 \n",
       "z\n",
       "\" id=\"DejaVuSans-73\" transform=\"scale(0.015625)\"/>\n",
       "      <path d=\"M 3597 1894 \n",
       "L 3597 1613 \n",
       "L 953 1613 \n",
       "Q 991 1019 1311 708 \n",
       "Q 1631 397 2203 397 \n",
       "Q 2534 397 2845 478 \n",
       "Q 3156 559 3463 722 \n",
       "L 3463 178 \n",
       "Q 3153 47 2828 -22 \n",
       "Q 2503 -91 2169 -91 \n",
       "Q 1331 -91 842 396 \n",
       "Q 353 884 353 1716 \n",
       "Q 353 2575 817 3079 \n",
       "Q 1281 3584 2069 3584 \n",
       "Q 2775 3584 3186 3129 \n",
       "Q 3597 2675 3597 1894 \n",
       "z\n",
       "M 3022 2063 \n",
       "Q 3016 2534 2758 2815 \n",
       "Q 2500 3097 2075 3097 \n",
       "Q 1594 3097 1305 2825 \n",
       "Q 1016 2553 972 2059 \n",
       "L 3022 2063 \n",
       "z\n",
       "\" id=\"DejaVuSans-65\" transform=\"scale(0.015625)\"/>\n",
       "      <path id=\"DejaVuSans-20\" transform=\"scale(0.015625)\"/>\n",
       "      <path d=\"M 3328 2828 \n",
       "Q 3544 3216 3844 3400 \n",
       "Q 4144 3584 4550 3584 \n",
       "Q 5097 3584 5394 3201 \n",
       "Q 5691 2819 5691 2113 \n",
       "L 5691 0 \n",
       "L 5113 0 \n",
       "L 5113 2094 \n",
       "Q 5113 2597 4934 2840 \n",
       "Q 4756 3084 4391 3084 \n",
       "Q 3944 3084 3684 2787 \n",
       "Q 3425 2491 3425 1978 \n",
       "L 3425 0 \n",
       "L 2847 0 \n",
       "L 2847 2094 \n",
       "Q 2847 2600 2669 2842 \n",
       "Q 2491 3084 2119 3084 \n",
       "Q 1678 3084 1418 2786 \n",
       "Q 1159 2488 1159 1978 \n",
       "L 1159 0 \n",
       "L 581 0 \n",
       "L 581 3500 \n",
       "L 1159 3500 \n",
       "L 1159 2956 \n",
       "Q 1356 3278 1631 3431 \n",
       "Q 1906 3584 2284 3584 \n",
       "Q 2666 3584 2933 3390 \n",
       "Q 3200 3197 3328 2828 \n",
       "z\n",
       "\" id=\"DejaVuSans-6d\" transform=\"scale(0.015625)\"/>\n",
       "      <path d=\"M 1159 525 \n",
       "L 1159 -1331 \n",
       "L 581 -1331 \n",
       "L 581 3500 \n",
       "L 1159 3500 \n",
       "L 1159 2969 \n",
       "Q 1341 3281 1617 3432 \n",
       "Q 1894 3584 2278 3584 \n",
       "Q 2916 3584 3314 3078 \n",
       "Q 3713 2572 3713 1747 \n",
       "Q 3713 922 3314 415 \n",
       "Q 2916 -91 2278 -91 \n",
       "Q 1894 -91 1617 61 \n",
       "Q 1341 213 1159 525 \n",
       "z\n",
       "M 3116 1747 \n",
       "Q 3116 2381 2855 2742 \n",
       "Q 2594 3103 2138 3103 \n",
       "Q 1681 3103 1420 2742 \n",
       "Q 1159 2381 1159 1747 \n",
       "Q 1159 1113 1420 752 \n",
       "Q 1681 391 2138 391 \n",
       "Q 2594 391 2855 752 \n",
       "Q 3116 1113 3116 1747 \n",
       "z\n",
       "\" id=\"DejaVuSans-70\" transform=\"scale(0.015625)\"/>\n",
       "      <path d=\"M 603 4863 \n",
       "L 1178 4863 \n",
       "L 1178 0 \n",
       "L 603 0 \n",
       "L 603 4863 \n",
       "z\n",
       "\" id=\"DejaVuSans-6c\" transform=\"scale(0.015625)\"/>\n",
       "     </defs>\n",
       "     <use xlink:href=\"#DejaVuSans-44\"/>\n",
       "     <use x=\"77.001953\" xlink:href=\"#DejaVuSans-61\"/>\n",
       "     <use x=\"138.28125\" xlink:href=\"#DejaVuSans-74\"/>\n",
       "     <use x=\"177.490234\" xlink:href=\"#DejaVuSans-61\"/>\n",
       "     <use x=\"238.769531\" xlink:href=\"#DejaVuSans-73\"/>\n",
       "     <use x=\"290.869141\" xlink:href=\"#DejaVuSans-65\"/>\n",
       "     <use x=\"352.392578\" xlink:href=\"#DejaVuSans-74\"/>\n",
       "     <use x=\"391.601562\" xlink:href=\"#DejaVuSans-20\"/>\n",
       "     <use x=\"423.388672\" xlink:href=\"#DejaVuSans-73\"/>\n",
       "     <use x=\"475.488281\" xlink:href=\"#DejaVuSans-61\"/>\n",
       "     <use x=\"536.767578\" xlink:href=\"#DejaVuSans-6d\"/>\n",
       "     <use x=\"634.179688\" xlink:href=\"#DejaVuSans-70\"/>\n",
       "     <use x=\"697.65625\" xlink:href=\"#DejaVuSans-6c\"/>\n",
       "     <use x=\"725.439453\" xlink:href=\"#DejaVuSans-65\"/>\n",
       "     <use x=\"786.962891\" xlink:href=\"#DejaVuSans-73\"/>\n",
       "    </g>\n",
       "   </g>\n",
       "   <g id=\"legend_1\">\n",
       "    <g id=\"patch_7\">\n",
       "     <path d=\"M 65.523438 59.674375 \n",
       "L 133.371875 59.674375 \n",
       "Q 135.371875 59.674375 135.371875 57.674375 \n",
       "L 135.371875 29.318125 \n",
       "Q 135.371875 27.318125 133.371875 27.318125 \n",
       "L 65.523438 27.318125 \n",
       "Q 63.523438 27.318125 63.523438 29.318125 \n",
       "L 63.523438 57.674375 \n",
       "Q 63.523438 59.674375 65.523438 59.674375 \n",
       "z\n",
       "\" style=\"fill:#ffffff;opacity:0.8;stroke:#cccccc;stroke-linejoin:miter;\"/>\n",
       "    </g>\n",
       "    <g id=\"PathCollection_3\">\n",
       "     <g>\n",
       "      <use style=\"fill:#1f77b4;stroke:#333333;\" x=\"77.523438\" xlink:href=\"#m76e99ac362\" y=\"36.291562\"/>\n",
       "     </g>\n",
       "    </g>\n",
       "    <g id=\"text_18\">\n",
       "     <!-- Class 0 -->\n",
       "     <g transform=\"translate(95.523438 38.916562)scale(0.1 -0.1)\">\n",
       "      <defs>\n",
       "       <path d=\"M 4122 4306 \n",
       "L 4122 3641 \n",
       "Q 3803 3938 3442 4084 \n",
       "Q 3081 4231 2675 4231 \n",
       "Q 1875 4231 1450 3742 \n",
       "Q 1025 3253 1025 2328 \n",
       "Q 1025 1406 1450 917 \n",
       "Q 1875 428 2675 428 \n",
       "Q 3081 428 3442 575 \n",
       "Q 3803 722 4122 1019 \n",
       "L 4122 359 \n",
       "Q 3791 134 3420 21 \n",
       "Q 3050 -91 2638 -91 \n",
       "Q 1578 -91 968 557 \n",
       "Q 359 1206 359 2328 \n",
       "Q 359 3453 968 4101 \n",
       "Q 1578 4750 2638 4750 \n",
       "Q 3056 4750 3426 4639 \n",
       "Q 3797 4528 4122 4306 \n",
       "z\n",
       "\" id=\"DejaVuSans-43\" transform=\"scale(0.015625)\"/>\n",
       "      </defs>\n",
       "      <use xlink:href=\"#DejaVuSans-43\"/>\n",
       "      <use x=\"69.824219\" xlink:href=\"#DejaVuSans-6c\"/>\n",
       "      <use x=\"97.607422\" xlink:href=\"#DejaVuSans-61\"/>\n",
       "      <use x=\"158.886719\" xlink:href=\"#DejaVuSans-73\"/>\n",
       "      <use x=\"210.986328\" xlink:href=\"#DejaVuSans-73\"/>\n",
       "      <use x=\"263.085938\" xlink:href=\"#DejaVuSans-20\"/>\n",
       "      <use x=\"294.873047\" xlink:href=\"#DejaVuSans-30\"/>\n",
       "     </g>\n",
       "    </g>\n",
       "    <g id=\"PathCollection_4\">\n",
       "     <g>\n",
       "      <use style=\"fill:#ff7f0e;stroke:#333333;\" x=\"77.523438\" xlink:href=\"#m376cbc39d9\" y=\"50.969687\"/>\n",
       "     </g>\n",
       "    </g>\n",
       "    <g id=\"text_19\">\n",
       "     <!-- Class 1 -->\n",
       "     <g transform=\"translate(95.523438 53.594687)scale(0.1 -0.1)\">\n",
       "      <use xlink:href=\"#DejaVuSans-43\"/>\n",
       "      <use x=\"69.824219\" xlink:href=\"#DejaVuSans-6c\"/>\n",
       "      <use x=\"97.607422\" xlink:href=\"#DejaVuSans-61\"/>\n",
       "      <use x=\"158.886719\" xlink:href=\"#DejaVuSans-73\"/>\n",
       "      <use x=\"210.986328\" xlink:href=\"#DejaVuSans-73\"/>\n",
       "      <use x=\"263.085938\" xlink:href=\"#DejaVuSans-20\"/>\n",
       "      <use x=\"294.873047\" xlink:href=\"#DejaVuSans-31\"/>\n",
       "     </g>\n",
       "    </g>\n",
       "   </g>\n",
       "  </g>\n",
       " </g>\n",
       " <defs>\n",
       "  <clipPath id=\"pea9e406b48\">\n",
       "   <rect height=\"217.44\" width=\"217.44\" x=\"58.523438\" y=\"22.318125\"/>\n",
       "  </clipPath>\n",
       " </defs>\n",
       "</svg>\n"
      ],
      "text/plain": [
       "<Figure size 288x288 with 1 Axes>"
      ]
     },
     "metadata": {
      "needs_background": "light"
     },
     "output_type": "display_data"
    }
   ],
   "source": [
    "@torch.no_grad()  # Decorator, same effect as \"with torch.no_grad(): ...\" over the whole function.\n",
    "def visualize_classification(model, data, label):\n",
    "    if isinstance(data, torch.Tensor):\n",
    "        data = data.cpu().numpy()\n",
    "    if isinstance(label, torch.Tensor):\n",
    "        label = label.cpu().numpy()\n",
    "    data_0 = data[label == 0]\n",
    "    data_1 = data[label == 1]\n",
    "\n",
    "    plt.figure(figsize=(4, 4))\n",
    "    plt.scatter(data_0[:, 0], data_0[:, 1], edgecolor=\"#333\", label=\"Class 0\")\n",
    "    plt.scatter(data_1[:, 0], data_1[:, 1], edgecolor=\"#333\", label=\"Class 1\")\n",
    "    plt.title(\"Dataset samples\")\n",
    "    plt.ylabel(r\"$x_2$\")\n",
    "    plt.xlabel(r\"$x_1$\")\n",
    "    plt.legend()\n",
    "\n",
    "    # Let's make use of a lot of operations we have learned above\n",
    "    model.to(device)\n",
    "    c0 = torch.Tensor(to_rgba(\"C0\")).to(device)\n",
    "    c1 = torch.Tensor(to_rgba(\"C1\")).to(device)\n",
    "    x1 = torch.arange(-0.5, 1.5, step=0.01, device=device)\n",
    "    x2 = torch.arange(-0.5, 1.5, step=0.01, device=device)\n",
    "    xx1, xx2 = torch.meshgrid(x1, x2)  # Meshgrid function as in numpy\n",
    "    model_inputs = torch.stack([xx1, xx2], dim=-1)\n",
    "    preds = model(model_inputs)\n",
    "    preds = torch.sigmoid(preds)\n",
    "    # Specifying \"None\" in a dimension creates a new one\n",
    "    output_image = preds * c0[None, None] + (1 - preds) * c1[None, None]\n",
    "    output_image = (\n",
    "        output_image.cpu().numpy()\n",
    "    )  # Convert to numpy array. This only works for tensors on CPU, hence first push to CPU\n",
    "    plt.imshow(output_image, origin=\"upper\", extent=(-0.5, 1.5, -0.5, 1.5))\n",
    "    plt.grid(False)\n",
    "\n",
    "\n",
    "visualize_classification(model, dataset.data, dataset.label)\n",
    "plt.show()"
   ]
  },
  {
   "cell_type": "markdown",
   "id": "b1237f51",
   "metadata": {
    "papermill": {
     "duration": 0.06462,
     "end_time": "2021-08-31T14:58:28.089253",
     "exception": false,
     "start_time": "2021-08-31T14:58:28.024633",
     "status": "completed"
    },
    "tags": []
   },
   "source": [
    "The decision boundaries might not look exactly as in the figure in the preamble of this section which can be caused by running it on CPU or a different GPU architecture.\n",
    "Nevertheless, the result on the accuracy metric should be the approximately the same."
   ]
  },
  {
   "cell_type": "markdown",
   "id": "8aed34b3",
   "metadata": {
    "papermill": {
     "duration": 0.061616,
     "end_time": "2021-08-31T14:58:28.213581",
     "exception": false,
     "start_time": "2021-08-31T14:58:28.151965",
     "status": "completed"
    },
    "tags": []
   },
   "source": [
    "## Additional features we didn't get to discuss yet\n",
    "\n",
    "Finally, you are all set to start with your own PyTorch project!\n",
    "In summary, we have looked at how we can build neural networks in PyTorch, and train and test them on data.\n",
    "However, there is still much more to PyTorch we haven't discussed yet.\n",
    "In the comming series of Jupyter notebooks, we will discover more and more functionalities of PyTorch, so that you also get familiar to PyTorch concepts beyond the basics.\n",
    "If you are already interested in learning more of PyTorch, we recommend the official [tutorial website](https://pytorch.org/tutorials/) that contains many tutorials on various topics.\n",
    "Especially logging with Tensorboard ([tutorial\n",
    "here](https://pytorch.org/tutorials/intermediate/tensorboard_tutorial.html))\n",
    "is a good practice that we will explore from Tutorial 5 on."
   ]
  },
  {
   "cell_type": "markdown",
   "id": "d9de06e0",
   "metadata": {
    "papermill": {
     "duration": 0.061341,
     "end_time": "2021-08-31T14:58:28.336977",
     "exception": false,
     "start_time": "2021-08-31T14:58:28.275636",
     "status": "completed"
    },
    "tags": []
   },
   "source": [
    "## Congratulations - Time to Join the Community!\n",
    "\n",
    "Congratulations on completing this notebook tutorial! If you enjoyed this and would like to join the Lightning\n",
    "movement, you can do so in the following ways!\n",
    "\n",
    "### Star [Lightning](https://github.com/PyTorchLightning/pytorch-lightning) on GitHub\n",
    "The easiest way to help our community is just by starring the GitHub repos! This helps raise awareness of the cool\n",
    "tools we're building.\n",
    "\n",
    "### Join our [Slack](https://join.slack.com/t/pytorch-lightning/shared_invite/zt-pw5v393p-qRaDgEk24~EjiZNBpSQFgQ)!\n",
    "The best way to keep up to date on the latest advancements is to join our community! Make sure to introduce yourself\n",
    "and share your interests in `#general` channel\n",
    "\n",
    "\n",
    "### Contributions !\n",
    "The best way to contribute to our community is to become a code contributor! At any time you can go to\n",
    "[Lightning](https://github.com/PyTorchLightning/pytorch-lightning) or [Bolt](https://github.com/PyTorchLightning/lightning-bolts)\n",
    "GitHub Issues page and filter for \"good first issue\".\n",
    "\n",
    "* [Lightning good first issue](https://github.com/PyTorchLightning/pytorch-lightning/issues?q=is%3Aopen+is%3Aissue+label%3A%22good+first+issue%22)\n",
    "* [Bolt good first issue](https://github.com/PyTorchLightning/lightning-bolts/issues?q=is%3Aopen+is%3Aissue+label%3A%22good+first+issue%22)\n",
    "* You can also contribute your own notebooks with useful examples !\n",
    "\n",
    "### Great thanks from the entire Pytorch Lightning Team for your interest !\n",
    "\n",
    "![Pytorch Lightning](data:image/png;base64,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){height=\"60px\" width=\"240px\"}"
   ]
  },
  {
   "cell_type": "raw",
   "id": "b9117997",
   "metadata": {
    "raw_mimetype": "text/restructuredtext"
   },
   "source": [
    ".. customcarditem::\n",
    "   :header: Introduction to PyTorch\n",
    "   :card_description: This tutorial will give a short introduction to PyTorch basics, and get you setup for writing your own neural networks. This notebook is part of a lecture series on Deep...\n",
    "   :tags: GPU/TPU,course_UvA-DL"
   ]
  }
 ],
 "metadata": {
  "jupytext": {
   "cell_metadata_filter": "colab_type,id,colab,-all",
   "formats": "ipynb,py:percent",
   "main_language": "python"
  },
  "language_info": {
   "codemirror_mode": {
    "name": "ipython",
    "version": 3
   },
   "file_extension": ".py",
   "mimetype": "text/x-python",
   "name": "python",
   "nbconvert_exporter": "python",
   "pygments_lexer": "ipython3",
   "version": "3.9.6"
  },
  "papermill": {
   "default_parameters": {},
   "duration": 26.370116,
   "end_time": "2021-08-31T14:58:28.906290",
   "environment_variables": {},
   "exception": null,
   "input_path": "course_UvA-DL/introduction-to-pytorch/Introduction_to_PyTorch.ipynb",
   "output_path": ".notebooks/course_UvA-DL/introduction-to-pytorch.ipynb",
   "parameters": {},
   "start_time": "2021-08-31T14:58:02.536174",
   "version": "2.3.3"
  },
  "widgets": {
   "application/vnd.jupyter.widget-state+json": {
    "state": {
     "074616b02e3a404485e0134aaeecbe92": {
      "model_module": "@jupyter-widgets/controls",
      "model_module_version": "1.5.0",
      "model_name": "HTMLModel",
      "state": {
       "_dom_classes": [],
       "_model_module": "@jupyter-widgets/controls",
       "_model_module_version": "1.5.0",
       "_model_name": "HTMLModel",
       "_view_count": null,
       "_view_module": "@jupyter-widgets/controls",
       "_view_module_version": "1.5.0",
       "_view_name": "HTMLView",
       "description": "",
       "description_tooltip": null,
       "layout": "IPY_MODEL_61d2e94473ef4ba5b8f33d48d7facd7e",
       "placeholder": "​",
       "style": "IPY_MODEL_5e7c67c62c98456eaaa0e03f22be151f",
       "value": "100%"
      }
     },
     "135419c8264341beb5541522a2f0dfb1": {
      "model_module": "@jupyter-widgets/controls",
      "model_module_version": "1.5.0",
      "model_name": "HTMLModel",
      "state": {
       "_dom_classes": [],
       "_model_module": "@jupyter-widgets/controls",
       "_model_module_version": "1.5.0",
       "_model_name": "HTMLModel",
       "_view_count": null,
       "_view_module": "@jupyter-widgets/controls",
       "_view_module_version": "1.5.0",
       "_view_name": "HTMLView",
       "description": "",
       "description_tooltip": null,
       "layout": "IPY_MODEL_22453176e49c4cb3bd982cffbfc89032",
       "placeholder": "​",
       "style": "IPY_MODEL_a3c660ba1e804fe3927c327e9e2b6f92",
       "value": " 100/100 [00:01&lt;00:00, 85.49it/s]"
      }
     },
     "22453176e49c4cb3bd982cffbfc89032": {
      "model_module": "@jupyter-widgets/base",
      "model_module_version": "1.2.0",
      "model_name": "LayoutModel",
      "state": {
       "_model_module": "@jupyter-widgets/base",
       "_model_module_version": "1.2.0",
       "_model_name": "LayoutModel",
       "_view_count": null,
       "_view_module": "@jupyter-widgets/base",
       "_view_module_version": "1.2.0",
       "_view_name": "LayoutView",
       "align_content": null,
       "align_items": null,
       "align_self": null,
       "border": null,
       "bottom": null,
       "display": null,
       "flex": null,
       "flex_flow": null,
       "grid_area": null,
       "grid_auto_columns": null,
       "grid_auto_flow": null,
       "grid_auto_rows": null,
       "grid_column": null,
       "grid_gap": null,
       "grid_row": null,
       "grid_template_areas": null,
       "grid_template_columns": null,
       "grid_template_rows": null,
       "height": null,
       "justify_content": null,
       "justify_items": null,
       "left": null,
       "margin": null,
       "max_height": null,
       "max_width": null,
       "min_height": null,
       "min_width": null,
       "object_fit": null,
       "object_position": null,
       "order": null,
       "overflow": null,
       "overflow_x": null,
       "overflow_y": null,
       "padding": null,
       "right": null,
       "top": null,
       "visibility": null,
       "width": null
      }
     },
     "2e9eb42d9dd64afcb905ba96a040d623": {
      "model_module": "@jupyter-widgets/base",
      "model_module_version": "1.2.0",
      "model_name": "LayoutModel",
      "state": {
       "_model_module": "@jupyter-widgets/base",
       "_model_module_version": "1.2.0",
       "_model_name": "LayoutModel",
       "_view_count": null,
       "_view_module": "@jupyter-widgets/base",
       "_view_module_version": "1.2.0",
       "_view_name": "LayoutView",
       "align_content": null,
       "align_items": null,
       "align_self": null,
       "border": null,
       "bottom": null,
       "display": null,
       "flex": null,
       "flex_flow": null,
       "grid_area": null,
       "grid_auto_columns": null,
       "grid_auto_flow": null,
       "grid_auto_rows": null,
       "grid_column": null,
       "grid_gap": null,
       "grid_row": null,
       "grid_template_areas": null,
       "grid_template_columns": null,
       "grid_template_rows": null,
       "height": null,
       "justify_content": null,
       "justify_items": null,
       "left": null,
       "margin": null,
       "max_height": null,
       "max_width": null,
       "min_height": null,
       "min_width": null,
       "object_fit": null,
       "object_position": null,
       "order": null,
       "overflow": null,
       "overflow_x": null,
       "overflow_y": null,
       "padding": null,
       "right": null,
       "top": null,
       "visibility": null,
       "width": null
      }
     },
     "5e7c67c62c98456eaaa0e03f22be151f": {
      "model_module": "@jupyter-widgets/controls",
      "model_module_version": "1.5.0",
      "model_name": "DescriptionStyleModel",
      "state": {
       "_model_module": "@jupyter-widgets/controls",
       "_model_module_version": "1.5.0",
       "_model_name": "DescriptionStyleModel",
       "_view_count": null,
       "_view_module": "@jupyter-widgets/base",
       "_view_module_version": "1.2.0",
       "_view_name": "StyleView",
       "description_width": ""
      }
     },
     "61d2e94473ef4ba5b8f33d48d7facd7e": {
      "model_module": "@jupyter-widgets/base",
      "model_module_version": "1.2.0",
      "model_name": "LayoutModel",
      "state": {
       "_model_module": "@jupyter-widgets/base",
       "_model_module_version": "1.2.0",
       "_model_name": "LayoutModel",
       "_view_count": null,
       "_view_module": "@jupyter-widgets/base",
       "_view_module_version": "1.2.0",
       "_view_name": "LayoutView",
       "align_content": null,
       "align_items": null,
       "align_self": null,
       "border": null,
       "bottom": null,
       "display": null,
       "flex": null,
       "flex_flow": null,
       "grid_area": null,
       "grid_auto_columns": null,
       "grid_auto_flow": null,
       "grid_auto_rows": null,
       "grid_column": null,
       "grid_gap": null,
       "grid_row": null,
       "grid_template_areas": null,
       "grid_template_columns": null,
       "grid_template_rows": null,
       "height": null,
       "justify_content": null,
       "justify_items": null,
       "left": null,
       "margin": null,
       "max_height": null,
       "max_width": null,
       "min_height": null,
       "min_width": null,
       "object_fit": null,
       "object_position": null,
       "order": null,
       "overflow": null,
       "overflow_x": null,
       "overflow_y": null,
       "padding": null,
       "right": null,
       "top": null,
       "visibility": null,
       "width": null
      }
     },
     "63945a4914e742349bf840cdb88b6f32": {
      "model_module": "@jupyter-widgets/base",
      "model_module_version": "1.2.0",
      "model_name": "LayoutModel",
      "state": {
       "_model_module": "@jupyter-widgets/base",
       "_model_module_version": "1.2.0",
       "_model_name": "LayoutModel",
       "_view_count": null,
       "_view_module": "@jupyter-widgets/base",
       "_view_module_version": "1.2.0",
       "_view_name": "LayoutView",
       "align_content": null,
       "align_items": null,
       "align_self": null,
       "border": null,
       "bottom": null,
       "display": null,
       "flex": null,
       "flex_flow": null,
       "grid_area": null,
       "grid_auto_columns": null,
       "grid_auto_flow": null,
       "grid_auto_rows": null,
       "grid_column": null,
       "grid_gap": null,
       "grid_row": null,
       "grid_template_areas": null,
       "grid_template_columns": null,
       "grid_template_rows": null,
       "height": null,
       "justify_content": null,
       "justify_items": null,
       "left": null,
       "margin": null,
       "max_height": null,
       "max_width": null,
       "min_height": null,
       "min_width": null,
       "object_fit": null,
       "object_position": null,
       "order": null,
       "overflow": null,
       "overflow_x": null,
       "overflow_y": null,
       "padding": null,
       "right": null,
       "top": null,
       "visibility": null,
       "width": null
      }
     },
     "a3c660ba1e804fe3927c327e9e2b6f92": {
      "model_module": "@jupyter-widgets/controls",
      "model_module_version": "1.5.0",
      "model_name": "DescriptionStyleModel",
      "state": {
       "_model_module": "@jupyter-widgets/controls",
       "_model_module_version": "1.5.0",
       "_model_name": "DescriptionStyleModel",
       "_view_count": null,
       "_view_module": "@jupyter-widgets/base",
       "_view_module_version": "1.2.0",
       "_view_name": "StyleView",
       "description_width": ""
      }
     },
     "ec93464b95794e729ddf387b66112c61": {
      "model_module": "@jupyter-widgets/controls",
      "model_module_version": "1.5.0",
      "model_name": "FloatProgressModel",
      "state": {
       "_dom_classes": [],
       "_model_module": "@jupyter-widgets/controls",
       "_model_module_version": "1.5.0",
       "_model_name": "FloatProgressModel",
       "_view_count": null,
       "_view_module": "@jupyter-widgets/controls",
       "_view_module_version": "1.5.0",
       "_view_name": "ProgressView",
       "bar_style": "success",
       "description": "",
       "description_tooltip": null,
       "layout": "IPY_MODEL_63945a4914e742349bf840cdb88b6f32",
       "max": 100.0,
       "min": 0.0,
       "orientation": "horizontal",
       "style": "IPY_MODEL_f20ae1f0432b4da188718bd5da3013af",
       "value": 100.0
      }
     },
     "f20ae1f0432b4da188718bd5da3013af": {
      "model_module": "@jupyter-widgets/controls",
      "model_module_version": "1.5.0",
      "model_name": "ProgressStyleModel",
      "state": {
       "_model_module": "@jupyter-widgets/controls",
       "_model_module_version": "1.5.0",
       "_model_name": "ProgressStyleModel",
       "_view_count": null,
       "_view_module": "@jupyter-widgets/base",
       "_view_module_version": "1.2.0",
       "_view_name": "StyleView",
       "bar_color": null,
       "description_width": ""
      }
     },
     "f2c4f0ef495a4701a0f5ef5aa1d71515": {
      "model_module": "@jupyter-widgets/controls",
      "model_module_version": "1.5.0",
      "model_name": "HBoxModel",
      "state": {
       "_dom_classes": [],
       "_model_module": "@jupyter-widgets/controls",
       "_model_module_version": "1.5.0",
       "_model_name": "HBoxModel",
       "_view_count": null,
       "_view_module": "@jupyter-widgets/controls",
       "_view_module_version": "1.5.0",
       "_view_name": "HBoxView",
       "box_style": "",
       "children": [
        "IPY_MODEL_074616b02e3a404485e0134aaeecbe92",
        "IPY_MODEL_ec93464b95794e729ddf387b66112c61",
        "IPY_MODEL_135419c8264341beb5541522a2f0dfb1"
       ],
       "layout": "IPY_MODEL_2e9eb42d9dd64afcb905ba96a040d623"
      }
     }
    },
    "version_major": 2,
    "version_minor": 0
   }
  }
 },
 "nbformat": 4,
 "nbformat_minor": 5
}
